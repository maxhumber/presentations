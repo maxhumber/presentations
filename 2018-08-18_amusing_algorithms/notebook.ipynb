{
 "cells": [
  {
   "cell_type": "markdown",
   "metadata": {
    "slideshow": {
     "slide_type": "slide"
    }
   },
   "source": [
    "# Amusing Algorithms 🤖\n",
    "### [@maxhumber](https://twitter.com/maxhumber)\n",
    "##### 🌉 PyBay 2018\n",
    "<img src='images/max.png' width=200 height=200 style=\"float: right; margin: 0px 15px 15px 0px;\">\n",
    "<br>\n",
    "<br>\n",
    "<br>\n",
    "[github.com/maxhumber/amusing_algorithms](https://github.com/maxhumber/amusing_algorithms)"
   ]
  },
  {
   "cell_type": "markdown",
   "metadata": {
    "slideshow": {
     "slide_type": "slide"
    }
   },
   "source": [
    "<img src='images/algorithm.png' width=500 height=500 align='middle'>"
   ]
  },
  {
   "cell_type": "markdown",
   "metadata": {
    "slideshow": {
     "slide_type": "slide"
    }
   },
   "source": [
    "<img src='images/algorithm_wiki.jpg' width=700 height=500 align='middle'>"
   ]
  },
  {
   "cell_type": "markdown",
   "metadata": {
    "slideshow": {
     "slide_type": "slide"
    }
   },
   "source": [
    "<img src='images/algorithm_youtube.png' width=800 height=500 align='middle'>"
   ]
  },
  {
   "cell_type": "markdown",
   "metadata": {
    "slideshow": {
     "slide_type": "slide"
    }
   },
   "source": [
    "<img src='images/recipe.png' width=700 height=500 align='middle'>"
   ]
  },
  {
   "cell_type": "markdown",
   "metadata": {
    "slideshow": {
     "slide_type": "slide"
    }
   },
   "source": [
    "<img src='images/celcius.jpeg' width=400 height=500 align='middle'>"
   ]
  },
  {
   "cell_type": "markdown",
   "metadata": {
    "slideshow": {
     "slide_type": "slide"
    }
   },
   "source": [
    "<img src='images/ml_algorithms.png' width=700 height=500 align='middle'>"
   ]
  },
  {
   "cell_type": "markdown",
   "metadata": {
    "slideshow": {
     "slide_type": "slide"
    }
   },
   "source": [
    "In ‘Amusing Algorithms’ we’ll cut through the math and try to understand the mechanics of a few interesting and useful algorithms. We’ll use **Jupyter** 📒 to expose data structures, intermediate steps, and simulations of various algorithms. And we’ll try to use algorithms to answer real life questions like how to **find love** ❤️ in a crowded bar, how to **buy the best scalpers tickets** 🎟 at a baseball game, and how to figure out when **you should leave your job** 🙅🏻‍♀️."
   ]
  },
  {
   "cell_type": "markdown",
   "metadata": {
    "slideshow": {
     "slide_type": "slide"
    }
   },
   "source": [
    "# - Optimal Stopping 🛑\n",
    "# - Stable Marriage 💒\n",
    "# - Simulated Annealing ⚔️"
   ]
  },
  {
   "cell_type": "markdown",
   "metadata": {
    "slideshow": {
     "slide_type": "slide"
    }
   },
   "source": [
    "# Optimal Stopping 🛑"
   ]
  },
  {
   "cell_type": "markdown",
   "metadata": {
    "slideshow": {
     "slide_type": "fragment"
    }
   },
   "source": [
    "Imagine an administrator who wants to hire the best secretary out of n rankable applicants for a position. The applicants are interviewed one by one in random order. A decision about each particular applicant is to be made immediately after the interview. Once rejected, an applicant cannot be recalled. During the interview, the administrator can rank the applicant among all applicants interviewed so far, but is unaware of the quality of yet unseen applicants. The question is about the optimal strategy to maximize the probability of selecting the best applicant. "
   ]
  },
  {
   "cell_type": "markdown",
   "metadata": {
    "slideshow": {
     "slide_type": "slide"
    }
   },
   "source": [
    "<img src='images/37.png' height='600' width='400' align='middle'>"
   ]
  },
  {
   "cell_type": "markdown",
   "metadata": {
    "slideshow": {
     "slide_type": "slide"
    }
   },
   "source": [
    "<img src='images/bluejays.png' width=500 height=500 align='middle'>"
   ]
  },
  {
   "cell_type": "markdown",
   "metadata": {
    "slideshow": {
     "slide_type": "slide"
    }
   },
   "source": [
    "<img src='images/scalper.png' width=500 height=500 align='middle'>"
   ]
  },
  {
   "cell_type": "markdown",
   "metadata": {
    "slideshow": {
     "slide_type": "slide"
    }
   },
   "source": [
    "<img src='images/diamond.png' width=600 height=600 align='middle'>"
   ]
  },
  {
   "cell_type": "code",
   "execution_count": null,
   "metadata": {
    "slideshow": {
     "slide_type": "slide"
    }
   },
   "outputs": [],
   "source": [
    "low = 8\n",
    "high = 24\n",
    "N = 15"
   ]
  },
  {
   "cell_type": "code",
   "execution_count": null,
   "metadata": {
    "slideshow": {
     "slide_type": "fragment"
    }
   },
   "outputs": [],
   "source": [
    "import random\n",
    "random.seed(14)\n",
    "\n",
    "options = [random.randint(low, high) for i in range(N)]\n",
    "\n",
    "print(options)"
   ]
  },
  {
   "cell_type": "code",
   "execution_count": null,
   "metadata": {
    "slideshow": {
     "slide_type": "slide"
    }
   },
   "outputs": [],
   "source": [
    "for _ in range(5):\n",
    "    options = [random.randint(low, high) for i in range(N)]\n",
    "    print(options, '\\n')"
   ]
  },
  {
   "cell_type": "markdown",
   "metadata": {
    "slideshow": {
     "slide_type": "slide"
    }
   },
   "source": [
    "<img src='images/rogers.png' width=600 height=600 align='middle'>"
   ]
  },
  {
   "cell_type": "code",
   "execution_count": null,
   "metadata": {
    "slideshow": {
     "slide_type": "fragment"
    }
   },
   "outputs": [],
   "source": [
    "random.seed(14)\n",
    "options = [random.randint(low, high) for i in range(N)]\n",
    "print(options)"
   ]
  },
  {
   "cell_type": "markdown",
   "metadata": {
    "slideshow": {
     "slide_type": "slide"
    }
   },
   "source": [
    "# 🤖\n",
    "\n",
    "1. Estimate how many possible options there are\n",
    "2. Multiply that # by `1/e` or ~ 37%\n",
    "3. Evaluate that # of options to establish a benchmark\n",
    "4. Continue until you find an option that exceeds the benchmark\n"
   ]
  },
  {
   "cell_type": "markdown",
   "metadata": {
    "slideshow": {
     "slide_type": "slide"
    }
   },
   "source": [
    "### 🐍"
   ]
  },
  {
   "cell_type": "code",
   "execution_count": null,
   "metadata": {
    "slideshow": {
     "slide_type": "fragment"
    }
   },
   "outputs": [],
   "source": [
    "import math\n",
    "skip = int(len(options) / math.e)\n",
    "\n",
    "bench = options[0]\n",
    "for i, option in enumerate(options):\n",
    "    if i < skip:\n",
    "        if option <= bench:\n",
    "            bench = option\n",
    "    else:\n",
    "        if option <= bench:\n",
    "            break"
   ]
  },
  {
   "cell_type": "code",
   "execution_count": null,
   "metadata": {
    "slideshow": {
     "slide_type": "fragment"
    }
   },
   "outputs": [],
   "source": [
    "print(skip)"
   ]
  },
  {
   "cell_type": "code",
   "execution_count": null,
   "metadata": {
    "slideshow": {
     "slide_type": "fragment"
    }
   },
   "outputs": [],
   "source": [
    "print(f'Options: {options}')\n",
    "print(f'Benchmark: {bench}')\n",
    "print(f'Choice: {option} at position {i+1}/{len(options)}')"
   ]
  },
  {
   "cell_type": "markdown",
   "metadata": {
    "slideshow": {
     "slide_type": "slide"
    }
   },
   "source": [
    "### Refactor 💄"
   ]
  },
  {
   "cell_type": "code",
   "execution_count": null,
   "metadata": {
    "slideshow": {
     "slide_type": "fragment"
    }
   },
   "outputs": [],
   "source": [
    "skip = int(len(options) / math.e)\n",
    "bench = min(options[:skip])\n",
    "\n",
    "for option in options[skip:]:\n",
    "    if option <= bench:\n",
    "        break"
   ]
  },
  {
   "cell_type": "code",
   "execution_count": null,
   "metadata": {
    "slideshow": {
     "slide_type": "fragment"
    }
   },
   "outputs": [],
   "source": [
    "def create_options(low=8, high=24, N=15):\n",
    "    return [random.randint(low, high) for i in range(N)]"
   ]
  },
  {
   "cell_type": "code",
   "execution_count": null,
   "metadata": {
    "slideshow": {
     "slide_type": "fragment"
    }
   },
   "outputs": [],
   "source": [
    "print(create_options(8, 24, 15))\n",
    "print('\\n')\n",
    "print(create_options(60, 100, 10))"
   ]
  },
  {
   "cell_type": "markdown",
   "metadata": {
    "slideshow": {
     "slide_type": "slide"
    }
   },
   "source": [
    "### Refactor 💄"
   ]
  },
  {
   "cell_type": "code",
   "execution_count": null,
   "metadata": {
    "slideshow": {
     "slide_type": "fragment"
    }
   },
   "outputs": [],
   "source": [
    "def buy(options, strategy='optimal'):\n",
    "    if strategy == 'first':\n",
    "        choice = options[0]\n",
    "    if strategy == 'random':\n",
    "        choice = random.choice(options)\n",
    "    if strategy == 'optimal':\n",
    "        skip = int(len(options) / math.e)\n",
    "        bench = min(options[:skip])\n",
    "        for option in options[skip:]:\n",
    "            if option <= bench:\n",
    "                break\n",
    "        choice = option\n",
    "    return 1 if choice == min(options) else 0"
   ]
  },
  {
   "cell_type": "markdown",
   "metadata": {
    "slideshow": {
     "slide_type": "slide"
    }
   },
   "source": [
    "### Simulate ⏳"
   ]
  },
  {
   "cell_type": "code",
   "execution_count": null,
   "metadata": {
    "slideshow": {
     "slide_type": "fragment"
    }
   },
   "outputs": [],
   "source": [
    "outcomes = []\n",
    "for i in range(1000):\n",
    "    outcome = buy(create_options(low=8, high=24, N=15), 'optimal')\n",
    "    outcomes.append(outcome)\n",
    "sum(outcomes) / len(outcomes)"
   ]
  },
  {
   "cell_type": "code",
   "execution_count": null,
   "metadata": {
    "slideshow": {
     "slide_type": "fragment"
    }
   },
   "outputs": [],
   "source": [
    "outcomes = []\n",
    "for i in range(1000):\n",
    "    outcome = buy(create_options(8, 24, 15), 'first')\n",
    "    outcomes.append(outcome)\n",
    "sum(outcomes) / len(outcomes)"
   ]
  },
  {
   "cell_type": "code",
   "execution_count": null,
   "metadata": {
    "slideshow": {
     "slide_type": "fragment"
    }
   },
   "outputs": [],
   "source": [
    "outcomes = []\n",
    "for i in range(1000):\n",
    "    outcome = buy(create_options(8, 24, 15), 'random')\n",
    "    outcomes.append(outcome)\n",
    "sum(outcomes) / len(outcomes)"
   ]
  },
  {
   "cell_type": "markdown",
   "metadata": {
    "slideshow": {
     "slide_type": "slide"
    }
   },
   "source": [
    "### 🧠\n",
    "\n",
    "```\n",
    "skip = 37% \n",
    "\n",
    "for option in options[skip:]:\n",
    "    if option <= bench:\n",
    "        break\n",
    "```"
   ]
  },
  {
   "cell_type": "markdown",
   "metadata": {
    "slideshow": {
     "slide_type": "slide"
    }
   },
   "source": [
    "# Stable Marriage 💒"
   ]
  },
  {
   "cell_type": "markdown",
   "metadata": {
    "slideshow": {
     "slide_type": "fragment"
    }
   },
   "source": [
    "Given n men and n women, where each person has ranked all members of the opposite sex in order of preference, marry the men and women together such that there are no two people of opposite sex who would both rather have each other than their current partners. When there are no such pairs of people, the set of marriages is deemed stable."
   ]
  },
  {
   "cell_type": "markdown",
   "metadata": {
    "slideshow": {
     "slide_type": "slide"
    }
   },
   "source": [
    "### Friends 👫👫👫\n",
    "<img src='images/friends.png' width=500 height=500 align='middle'>"
   ]
  },
  {
   "cell_type": "markdown",
   "metadata": {
    "slideshow": {
     "slide_type": "slide"
    }
   },
   "source": [
    "### Data Structures 👷‍♂️"
   ]
  },
  {
   "cell_type": "code",
   "execution_count": null,
   "metadata": {
    "slideshow": {
     "slide_type": "fragment"
    }
   },
   "outputs": [],
   "source": [
    "class Person:\n",
    "    def __init__(self, name, preferences):\n",
    "        self.name = name\n",
    "        self.partner = None\n",
    "        self.preferences = preferences\n",
    "\n",
    "    def __repr__(self):\n",
    "        if self.partner:\n",
    "            return f'{self.name} ⚭ {self.partner}'\n",
    "        else:\n",
    "            return f'{self.name} ⌀'"
   ]
  },
  {
   "cell_type": "code",
   "execution_count": null,
   "metadata": {
    "slideshow": {
     "slide_type": "fragment"
    }
   },
   "outputs": [],
   "source": [
    "ross = Person('Ross', ['Rachel', 'Phoebe', 'Monia'])\n",
    "print('Name:', ross)\n",
    "print('Partner:', ross.partner)"
   ]
  },
  {
   "cell_type": "code",
   "execution_count": null,
   "metadata": {
    "slideshow": {
     "slide_type": "fragment"
    }
   },
   "outputs": [],
   "source": [
    "ross.partner = 'Rachel'\n",
    "print(ross)"
   ]
  },
  {
   "cell_type": "markdown",
   "metadata": {
    "slideshow": {
     "slide_type": "slide"
    }
   },
   "source": [
    "### Functions 🍱"
   ]
  },
  {
   "cell_type": "markdown",
   "metadata": {
    "slideshow": {
     "slide_type": "fragment"
    }
   },
   "source": [
    "<img src='images/functions.png' width=500 height=500 align='middle'>"
   ]
  },
  {
   "cell_type": "code",
   "execution_count": null,
   "metadata": {
    "slideshow": {
     "slide_type": "slide"
    }
   },
   "outputs": [],
   "source": [
    "import copy\n",
    "\n",
    "class Alpha(Person):\n",
    "    def __init__(self, name, preferences):\n",
    "        super().__init__(name, preferences)\n",
    "        self.not_asked = copy.deepcopy(preferences)\n",
    "\n",
    "    def ask(self):\n",
    "        return self.not_asked.pop(0)"
   ]
  },
  {
   "cell_type": "code",
   "execution_count": null,
   "metadata": {
    "slideshow": {
     "slide_type": "fragment"
    }
   },
   "outputs": [],
   "source": [
    "class Beta(Person):\n",
    "    def __init__(self, name, preferences):\n",
    "        super().__init__(name, preferences)\n",
    "\n",
    "    def accept(self, suitor):\n",
    "        return self.partner is None or (\n",
    "            self.preferences.index(suitor) <\n",
    "            self.preferences.index(self.partner)\n",
    "        )"
   ]
  },
  {
   "cell_type": "markdown",
   "metadata": {
    "slideshow": {
     "slide_type": "slide"
    }
   },
   "source": [
    "### Preferences 💏"
   ]
  },
  {
   "cell_type": "code",
   "execution_count": null,
   "metadata": {
    "slideshow": {
     "slide_type": "fragment"
    }
   },
   "outputs": [],
   "source": [
    "people = {\n",
    "    \"Men\": {\n",
    "        \"Ross\": [\"Rachel\", \"Phoebe\", \"Monica\"],\n",
    "        \"Chandler\": [\"Rachel\", \"Monica\", \"Phoebe\"],\n",
    "        \"Joey\": [\"Phoebe\", \"Rachel\", \"Monica\"]\n",
    "    },\n",
    "    \"Women\": {\n",
    "        \"Rachel\": [\"Joey\", \"Ross\", \"Chandler\"],\n",
    "        \"Phoebe\": [\"Ross\", \"Chandler\", \"Joey\"],\n",
    "        \"Monica\": [\"Joey\", \"Chandler\", \"Ross\"]\n",
    "    }\n",
    "}"
   ]
  },
  {
   "cell_type": "markdown",
   "metadata": {
    "slideshow": {
     "slide_type": "slide"
    }
   },
   "source": [
    "### Initialize 🌱"
   ]
  },
  {
   "cell_type": "code",
   "execution_count": null,
   "metadata": {
    "slideshow": {
     "slide_type": "fragment"
    }
   },
   "outputs": [],
   "source": [
    "def setup():\n",
    "    global alphas\n",
    "    global betas\n",
    "    \n",
    "    alphas = {}\n",
    "    for key, value in people.get('Men').items():\n",
    "        alphas[key] = Alpha(key, value)\n",
    "    betas = {}\n",
    "    for key, value in people.get('Women').items():\n",
    "        betas[key] = Beta(key, value)"
   ]
  },
  {
   "cell_type": "code",
   "execution_count": null,
   "metadata": {
    "slideshow": {
     "slide_type": "fragment"
    }
   },
   "outputs": [],
   "source": [
    "setup()\n",
    "print('A:', alphas)\n",
    "print('B:', betas)"
   ]
  },
  {
   "cell_type": "code",
   "execution_count": null,
   "metadata": {
    "slideshow": {
     "slide_type": "fragment"
    }
   },
   "outputs": [],
   "source": [
    "unmatched = list(alphas.keys())\n",
    "print(unmatched)"
   ]
  },
  {
   "cell_type": "markdown",
   "metadata": {
    "slideshow": {
     "slide_type": "slide"
    }
   },
   "source": [
    "# 🤖\n",
    "\n",
    "1. Each unengaged man proposes to the woman he prefers most\n",
    "2. Each woman says \"maybe\" to the suitor she most prefers and \"no\" to all other suitors\n",
    "3. Continue while there are still unengaged men"
   ]
  },
  {
   "cell_type": "code",
   "execution_count": null,
   "metadata": {
    "slideshow": {
     "slide_type": "slide"
    }
   },
   "outputs": [],
   "source": [
    "while unmatched:\n",
    "    alpha = alphas[random.choice(unmatched)]\n",
    "    beta = betas[alpha.ask()]\n",
    "    if beta.accept(alpha.name):\n",
    "        if beta.partner:\n",
    "            ex = alphas[beta.partner]\n",
    "            ex.partner = None\n",
    "            unmatched.append(ex.name)\n",
    "        unmatched.remove(alpha.name)\n",
    "        alpha.partner, beta.partner = beta.name, alpha.name"
   ]
  },
  {
   "cell_type": "code",
   "execution_count": null,
   "metadata": {
    "slideshow": {
     "slide_type": "fragment"
    }
   },
   "outputs": [],
   "source": [
    "print(alphas)\n",
    "print(betas)"
   ]
  },
  {
   "cell_type": "markdown",
   "metadata": {
    "slideshow": {
     "slide_type": "slide"
    }
   },
   "source": [
    "<img src='images/buller.png' width=700 height=500 align='middle'>"
   ]
  },
  {
   "cell_type": "markdown",
   "metadata": {
    "slideshow": {
     "slide_type": "slide"
    }
   },
   "source": [
    "# 🏎    ➡️  ➡️   ➡️   🐢"
   ]
  },
  {
   "cell_type": "code",
   "execution_count": null,
   "metadata": {
    "slideshow": {
     "slide_type": "fragment"
    }
   },
   "outputs": [],
   "source": [
    "while unmatched:\n",
    "    alpha = alphas[random.choice(unmatched)]\n",
    "    beta = betas[alpha.ask()]\n",
    "    if beta.accept(alpha.name):\n",
    "        if beta.partner:\n",
    "            ex = alphas[beta.partner]\n",
    "            ex.partner = None\n",
    "            unmatched.append(ex.name)\n",
    "        unmatched.remove(alpha.name)\n",
    "        alpha.partner, beta.partner = beta.name, alpha.name"
   ]
  },
  {
   "cell_type": "code",
   "execution_count": null,
   "metadata": {
    "slideshow": {
     "slide_type": "slide"
    }
   },
   "outputs": [],
   "source": [
    "import time\n",
    "random.seed(1993)\n",
    "setup()\n",
    "unmatched = list(alphas.keys())\n",
    "\n",
    "while unmatched:\n",
    "    alpha = alphas[random.choice(unmatched)]\n",
    "    beta = betas[alpha.ask()]\n",
    "    print(f'{alpha.name} asks {beta.name}')\n",
    "    time.sleep(0.8)\n",
    "    if beta.accept(alpha.name):\n",
    "        print(f'{beta.name} accepts')\n",
    "        if beta.partner:\n",
    "            ex = alphas[beta.partner]\n",
    "            print(f'{beta.name} dumps {ex.name}')\n",
    "            ex.partner = None\n",
    "            unmatched.append(ex.name)\n",
    "        unmatched.remove(alpha.name)\n",
    "        alpha.partner, beta.partner = beta.name, alpha.name\n",
    "    else:\n",
    "        print(f'{beta.name} rejects')\n",
    "    time.sleep(0.8)\n",
    "    print()\n",
    "print('Everyone is matched! And things are stable 💪')"
   ]
  },
  {
   "cell_type": "code",
   "execution_count": null,
   "metadata": {
    "slideshow": {
     "slide_type": "slide"
    }
   },
   "outputs": [],
   "source": [
    "def print_pairings(people):\n",
    "    for p in people.values():\n",
    "        if p.partner:\n",
    "            print(f'{p.name} is paired with {p.partner} ({p.preferences.index(p.partner) + 1})')\n",
    "        else:\n",
    "            print(f'{p.name} is not paired')"
   ]
  },
  {
   "cell_type": "code",
   "execution_count": null,
   "metadata": {
    "slideshow": {
     "slide_type": "fragment"
    }
   },
   "outputs": [],
   "source": [
    "print_pairings(alphas)\n",
    "print('\\n')\n",
    "print_pairings(betas)"
   ]
  },
  {
   "cell_type": "markdown",
   "metadata": {
    "slideshow": {
     "slide_type": "slide"
    }
   },
   "source": [
    "<img src='images/friends.png' width=500 height=500 align='middle'>"
   ]
  },
  {
   "cell_type": "markdown",
   "metadata": {
    "slideshow": {
     "slide_type": "slide"
    }
   },
   "source": [
    "<img src='images/friends_men.png' width=500 height=500 align='middle'>"
   ]
  },
  {
   "cell_type": "code",
   "execution_count": null,
   "metadata": {
    "slideshow": {
     "slide_type": "slide"
    }
   },
   "outputs": [],
   "source": [
    "alphas = {}\n",
    "for key, value in people.get('Women').items():\n",
    "    alphas[key] = Alpha(key, value)\n",
    "betas = {}\n",
    "for key, value in people.get('Men').items():\n",
    "    betas[key] = Beta(key, value)\n",
    "\n",
    "unmatched = list(alphas.keys())"
   ]
  },
  {
   "cell_type": "code",
   "execution_count": null,
   "metadata": {
    "slideshow": {
     "slide_type": "slide"
    }
   },
   "outputs": [],
   "source": [
    "while unmatched:\n",
    "    alpha = alphas[random.choice(unmatched)]\n",
    "    beta = betas[alpha.ask()]\n",
    "    if beta.accept(alpha.name):\n",
    "        if beta.partner:\n",
    "            ex = alphas[beta.partner]\n",
    "            ex.partner = None\n",
    "            unmatched.append(ex.name)\n",
    "        unmatched.remove(alpha.name)\n",
    "        alpha.partner, beta.partner = beta.name, alpha.name"
   ]
  },
  {
   "cell_type": "code",
   "execution_count": null,
   "metadata": {
    "slideshow": {
     "slide_type": "fragment"
    }
   },
   "outputs": [],
   "source": [
    "print_pairings(alphas)\n",
    "print('\\n')\n",
    "print_pairings(betas)"
   ]
  },
  {
   "cell_type": "markdown",
   "metadata": {
    "slideshow": {
     "slide_type": "slide"
    }
   },
   "source": [
    "<img src='images/friends_men.png' width=500 height=500 align='middle'>"
   ]
  },
  {
   "cell_type": "markdown",
   "metadata": {
    "slideshow": {
     "slide_type": "slide"
    }
   },
   "source": [
    "<img src='images/friends_women.png' width=500 height=500 align='middle'>"
   ]
  },
  {
   "cell_type": "markdown",
   "metadata": {
    "slideshow": {
     "slide_type": "slide"
    }
   },
   "source": [
    "### 🧠\n",
    "\n",
    "> \"Pearls don’t lie on the seashore. If you want one, you must dive for it.\"\n",
    "\n",
    "— Chinese proverb\n",
    "\n",
    "\n",
    "> \"Opportunity dances with those on the dance floor.\"\n",
    "\n",
    "— Anonymous\n"
   ]
  },
  {
   "cell_type": "markdown",
   "metadata": {
    "slideshow": {
     "slide_type": "slide"
    }
   },
   "source": [
    "# Simulated Annealing ⚔️"
   ]
  },
  {
   "cell_type": "markdown",
   "metadata": {
    "slideshow": {
     "slide_type": "slide"
    }
   },
   "source": [
    "<img src='images/got.png' width=800 height=500 align='middle'>"
   ]
  },
  {
   "cell_type": "markdown",
   "metadata": {
    "slideshow": {
     "slide_type": "slide"
    }
   },
   "source": [
    "<img src='images/annealing_metal.jpg' width=700 height=500 align='middle'>"
   ]
  },
  {
   "cell_type": "markdown",
   "metadata": {
    "slideshow": {
     "slide_type": "slide"
    }
   },
   "source": [
    "Imagine you are situated at the bottom of a mountain, and you want to make your way up by foot to the highest point in the valley. But you cannot see beyond your feet, so your algorithm is simply to keep heading uphill. You do that, and eventually, half way up the mountain, you end up at the top of a small peak, from which all paths lead down. As far as you can nearsightedly tell, you’ve reached the highest point. But it’s a local maximum, not truly the top of the mountain, and you’re not where you need to be. \n",
    "\n",
    "What would be a better algorithm for someone with purely local vision? Simulated annealing, inspired by sword makers."
   ]
  },
  {
   "cell_type": "markdown",
   "metadata": {
    "slideshow": {
     "slide_type": "slide"
    }
   },
   "source": [
    "### Setup 💼"
   ]
  },
  {
   "cell_type": "code",
   "execution_count": null,
   "metadata": {
    "slideshow": {
     "slide_type": "fragment"
    }
   },
   "outputs": [],
   "source": [
    "def clamp(x, low, high):\n",
    "    return max(min(x, high), low)"
   ]
  },
  {
   "cell_type": "code",
   "execution_count": null,
   "metadata": {
    "slideshow": {
     "slide_type": "fragment"
    }
   },
   "outputs": [],
   "source": [
    "def linspace(low, high, steps):\n",
    "    return [low + x * (high - low)/steps for x in range(steps)]"
   ]
  },
  {
   "cell_type": "code",
   "execution_count": null,
   "metadata": {
    "slideshow": {
     "slide_type": "slide"
    }
   },
   "outputs": [],
   "source": [
    "import math\n",
    "\n",
    "def f(x):\n",
    "    x = clamp(x, 0, 10)\n",
    "    return x * math.sin(x) + x * math.cos(2 * x) + 10"
   ]
  },
  {
   "cell_type": "code",
   "execution_count": null,
   "metadata": {
    "slideshow": {
     "slide_type": "fragment"
    }
   },
   "outputs": [],
   "source": [
    "xs = linspace(0, 10, 100)\n",
    "ys = [f(x) for x in xs]"
   ]
  },
  {
   "cell_type": "code",
   "execution_count": null,
   "metadata": {
    "slideshow": {
     "slide_type": "fragment"
    }
   },
   "outputs": [],
   "source": [
    "from matplotlib import pyplot as plt\n",
    "%matplotlib inline\n",
    "\n",
    "plt.figure(figsize=(10, 6))\n",
    "plt.plot(xs, ys)"
   ]
  },
  {
   "cell_type": "code",
   "execution_count": null,
   "metadata": {
    "slideshow": {
     "slide_type": "slide"
    }
   },
   "outputs": [],
   "source": [
    "x = 4\n",
    "fx = f(x)\n",
    "print(fx)"
   ]
  },
  {
   "cell_type": "code",
   "execution_count": null,
   "metadata": {
    "slideshow": {
     "slide_type": "fragment"
    }
   },
   "outputs": [],
   "source": [
    "x = 5\n",
    "fx = f(x)\n",
    "print(fx)"
   ]
  },
  {
   "cell_type": "code",
   "execution_count": null,
   "metadata": {
    "slideshow": {
     "slide_type": "slide"
    }
   },
   "outputs": [],
   "source": [
    "import random \n",
    "\n",
    "random.seed(1993)\n",
    "x2 = x + random.choice([-1, 1]) * 0.001\n",
    "fx2 = f(x2)\n",
    "print(fx)\n",
    "print(fx2)"
   ]
  },
  {
   "cell_type": "code",
   "execution_count": null,
   "metadata": {
    "slideshow": {
     "slide_type": "fragment"
    }
   },
   "outputs": [],
   "source": [
    "if fx2 > fx:\n",
    "    print('fx2 is better')\n",
    "    x, fx = x2, fx\n",
    "else:\n",
    "    print('fx2 is worse')"
   ]
  },
  {
   "cell_type": "markdown",
   "metadata": {
    "slideshow": {
     "slide_type": "slide"
    }
   },
   "source": [
    "# 💄"
   ]
  },
  {
   "cell_type": "code",
   "execution_count": null,
   "metadata": {
    "slideshow": {
     "slide_type": "fragment"
    }
   },
   "outputs": [],
   "source": [
    "def hill_climb(x, f, steps=1000):\n",
    "    fx = f(x)\n",
    "    for i in range(steps):\n",
    "        x2 = x + random.choice([-1, 1]) * 0.01\n",
    "        fx2 = f(x2)\n",
    "        if fx2 > fx:\n",
    "            x, fx = x2, fx2\n",
    "    return x, fx"
   ]
  },
  {
   "cell_type": "code",
   "execution_count": null,
   "metadata": {
    "slideshow": {
     "slide_type": "fragment"
    }
   },
   "outputs": [],
   "source": [
    "hill_climb(4, f)"
   ]
  },
  {
   "cell_type": "code",
   "execution_count": null,
   "metadata": {
    "slideshow": {
     "slide_type": "fragment"
    }
   },
   "outputs": [],
   "source": [
    "hill_climb(5, f)"
   ]
  },
  {
   "cell_type": "code",
   "execution_count": null,
   "metadata": {
    "slideshow": {
     "slide_type": "slide"
    }
   },
   "outputs": [],
   "source": [
    "plt.figure(figsize=(10, 6))\n",
    "plt.plot(xs, ys)\n",
    "# plt.scatter(4, f(4), c='r')\n",
    "# plt.scatter(5, f(5), c='k')"
   ]
  },
  {
   "cell_type": "markdown",
   "metadata": {
    "slideshow": {
     "slide_type": "slide"
    }
   },
   "source": [
    "<img src='images/career_ladder.jpeg' width=700 height=500 align='middle'>"
   ]
  },
  {
   "cell_type": "markdown",
   "metadata": {
    "slideshow": {
     "slide_type": "slide"
    }
   },
   "source": [
    "> When the ascent in the simulated annealing algorithm takes you to some maximum, you sometimes take a chance and shake things up at random, in the hope that by sometimes shaking yourself out of the local maximum and temporarily moving lower, (which is not where you ultimately want to be), you may then find your way to a lower and more stable global maximum. "
   ]
  },
  {
   "cell_type": "markdown",
   "metadata": {
    "slideshow": {
     "slide_type": "slide"
    }
   },
   "source": [
    "### Pseudocode 📄\n",
    "\n",
    "```\n",
    "Let s = s0\n",
    "For k = 0 through kmax (exclusive):\n",
    "T ← temperature(k ∕ kmax)\n",
    "Pick a random neighbour, snew ← neighbour(s)\n",
    "If P(E(s), E(snew), T) ≥ random(0, 1):\n",
    "s ← snew\n",
    "Output: the final state s\n",
    "```"
   ]
  },
  {
   "cell_type": "code",
   "execution_count": null,
   "metadata": {
    "slideshow": {
     "slide_type": "slide"
    }
   },
   "outputs": [],
   "source": [
    "def prob(old, new, temperature):\n",
    "    # if trying to minimize: math.exp(-(new - old) / temperature)\n",
    "    return math.exp(-(old - new) / temperature)"
   ]
  },
  {
   "cell_type": "code",
   "execution_count": null,
   "metadata": {
    "slideshow": {
     "slide_type": "fragment"
    }
   },
   "outputs": [],
   "source": [
    "old = 10\n",
    "new = 9"
   ]
  },
  {
   "cell_type": "code",
   "execution_count": null,
   "metadata": {
    "slideshow": {
     "slide_type": "fragment"
    }
   },
   "outputs": [],
   "source": [
    "print(prob(old, new, temperature=10))\n",
    "print(prob(old, new, temperature=1))"
   ]
  },
  {
   "cell_type": "code",
   "execution_count": null,
   "metadata": {
    "slideshow": {
     "slide_type": "fragment"
    }
   },
   "outputs": [],
   "source": [
    "temperature = 1000\n",
    "a = 0.99\n",
    "for _ in range(1000):\n",
    "    print(temperature)\n",
    "    temperature *= a"
   ]
  },
  {
   "cell_type": "code",
   "execution_count": null,
   "metadata": {
    "slideshow": {
     "slide_type": "slide"
    }
   },
   "outputs": [],
   "source": [
    "current = 4\n",
    "temperature = 1000\n",
    "alpha = 0.90\n",
    "\n",
    "for _ in range(100):\n",
    "    new = random.uniform(0, 10)\n",
    "    if prob(f(current), f(new), temperature) >= random.random():\n",
    "        current = new\n",
    "    print(current)\n",
    "    temperature *= alpha"
   ]
  },
  {
   "cell_type": "code",
   "execution_count": null,
   "metadata": {
    "slideshow": {
     "slide_type": "slide"
    }
   },
   "outputs": [],
   "source": [
    "plt.figure(figsize=(10, 6))\n",
    "plt.plot(xs, ys)"
   ]
  },
  {
   "cell_type": "code",
   "execution_count": null,
   "metadata": {
    "slideshow": {
     "slide_type": "slide"
    }
   },
   "outputs": [],
   "source": [
    "import pathlib\n",
    "import re\n",
    "import random\n",
    "import imageio"
   ]
  },
  {
   "cell_type": "code",
   "execution_count": null,
   "metadata": {
    "slideshow": {
     "slide_type": "slide"
    }
   },
   "outputs": [],
   "source": [
    "random.seed(1993)\n",
    "current = 4\n",
    "temperature = 1000\n",
    "alpha = 0.90\n",
    "\n",
    "x = [current]\n",
    "y = [f(current)]\n",
    "t = [temperature]\n",
    "\n",
    "for _ in range(99):\n",
    "    new = random.uniform(0, 10)\n",
    "    if prob(f(current), f(new), temperature) >= random.random():\n",
    "        current = new\n",
    "    x.append(current)\n",
    "    y.append(f(current))\n",
    "    t.append(temperature)\n",
    "    temperature *= alpha"
   ]
  },
  {
   "cell_type": "code",
   "execution_count": null,
   "metadata": {
    "slideshow": {
     "slide_type": "fragment"
    }
   },
   "outputs": [],
   "source": [
    "print(len(x))\n",
    "print(len(y))\n",
    "print(len(t))"
   ]
  },
  {
   "cell_type": "code",
   "execution_count": null,
   "metadata": {
    "slideshow": {
     "slide_type": "slide"
    }
   },
   "outputs": [],
   "source": [
    "# create temp path for deletion later\n",
    "p = pathlib.Path('temp/')\n",
    "p.mkdir(parents=True, exist_ok=True)\n",
    "\n",
    "# build all of the individual graphs\n",
    "for i in range(len(x)):\n",
    "    plt.figure(figsize=(10, 6))\n",
    "    plt.plot(xs, ys, c='k', alpha=0.5)\n",
    "    plt.scatter(x[:i], y[:i], c='r', alpha=0.25)\n",
    "    try:\n",
    "        plt.axvline(x[:i][-1])\n",
    "        plt.title(f'Temperature {round(t[:i][-1], 4)}')\n",
    "    except IndexError:\n",
    "        pass\n",
    "    plt.ylim(-2, 22)\n",
    "    plt.xlim(0, 10)\n",
    "    plt.savefig(p / f'{i}.png')"
   ]
  },
  {
   "cell_type": "code",
   "execution_count": null,
   "metadata": {
    "slideshow": {
     "slide_type": "slide"
    }
   },
   "outputs": [],
   "source": [
    "filenames = [str(x) for x in p.glob('*.png')]\n",
    "filenames.sort(key=lambda x: int(re.sub('\\D', '', x)))\n",
    "\n",
    "# build gif and clean up pictures\n",
    "images = []\n",
    "for filename in filenames:\n",
    "    images.append(imageio.imread(filename))\n",
    "imageio.mimsave('images/sim_anneal.gif', images, duration=0.1)"
   ]
  },
  {
   "cell_type": "code",
   "execution_count": null,
   "metadata": {
    "slideshow": {
     "slide_type": "fragment"
    }
   },
   "outputs": [],
   "source": [
    "[x.unlink() for x in p.iterdir()]\n",
    "p.rmdir()"
   ]
  },
  {
   "cell_type": "markdown",
   "metadata": {
    "slideshow": {
     "slide_type": "slide"
    }
   },
   "source": [
    "img src='images/sim_anneal.gif' width=700 height=500 align='middle'>"
   ]
  },
  {
   "cell_type": "markdown",
   "metadata": {
    "slideshow": {
     "slide_type": "slide"
    }
   },
   "source": [
    "# 🧠\n",
    "\n",
    "> Simulated annealing employs judicious volatility in the hope that it will be beneficial. In an impossibly complex world, we should perhaps shun temporary stability and instead be willing to tolerate a bit of volatility in order to find a greater stability thereafter."
   ]
  },
  {
   "cell_type": "markdown",
   "metadata": {
    "slideshow": {
     "slide_type": "slide"
    }
   },
   "source": [
    "<img src='images/brilliant.png' width=300 height=500 align='middle'>"
   ]
  },
  {
   "cell_type": "markdown",
   "metadata": {
    "slideshow": {
     "slide_type": "slide"
    }
   },
   "source": [
    "<img src='images/love_book.png' width=300 height=500 align='middle'>"
   ]
  },
  {
   "cell_type": "markdown",
   "metadata": {
    "slideshow": {
     "slide_type": "slide"
    }
   },
   "source": [
    "<img src='images/atlb.png' height='400' width='300' align='middle'>"
   ]
  },
  {
   "cell_type": "markdown",
   "metadata": {
    "slideshow": {
     "slide_type": "slide"
    }
   },
   "source": [
    "# Shameless Plug \n",
    "\n",
    "<img src='images/personal_finance.png' width=700 height=500 align='middle'>"
   ]
  },
  {
   "cell_type": "markdown",
   "metadata": {
    "slideshow": {
     "slide_type": "slide"
    }
   },
   "source": [
    "# Speakerdeck: [/maxhumber](https://speakerdeck.com/maxhumber)\n",
    "# LinkedIn: [/maxhumber](https://speakerdeck.com/maxhumber)\n",
    "# Twitter: [@maxhumber](https://twitter.com/maxhumber)"
   ]
  }
 ],
 "metadata": {
  "celltoolbar": "Slideshow",
  "kernelspec": {
   "display_name": "Python 3",
   "language": "python",
   "name": "python3"
  },
  "language_info": {
   "codemirror_mode": {
    "name": "ipython",
    "version": 3
   },
   "file_extension": ".py",
   "mimetype": "text/x-python",
   "name": "python",
   "nbconvert_exporter": "python",
   "pygments_lexer": "ipython3",
   "version": "3.6.5"
  }
 },
 "nbformat": 4,
 "nbformat_minor": 2
}
