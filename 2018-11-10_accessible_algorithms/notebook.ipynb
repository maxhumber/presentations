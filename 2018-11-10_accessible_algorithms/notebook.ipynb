{
 "cells": [
  {
   "cell_type": "markdown",
   "metadata": {
    "slideshow": {
     "slide_type": "slide"
    }
   },
   "source": [
    "# Accessible Algorithms\n",
    "\n",
    "### @maxhumber\n",
    "\n",
    "##### PyCon 🇨🇦\n",
    "2018-11-10"
   ]
  },
  {
   "cell_type": "markdown",
   "metadata": {
    "slideshow": {
     "slide_type": "slide"
    }
   },
   "source": [
    "## > save the environment\n",
    "## > defeat your enemies"
   ]
  },
  {
   "cell_type": "markdown",
   "metadata": {
    "slideshow": {
     "slide_type": "slide"
    }
   },
   "source": [
    "![](images/kramer.gif)"
   ]
  },
  {
   "cell_type": "markdown",
   "metadata": {
    "slideshow": {
     "slide_type": "slide"
    }
   },
   "source": [
    "![](images/network.png)"
   ]
  },
  {
   "cell_type": "markdown",
   "metadata": {
    "slideshow": {
     "slide_type": "slide"
    }
   },
   "source": [
    "![](images/googlebois.jpg)"
   ]
  },
  {
   "cell_type": "markdown",
   "metadata": {
    "slideshow": {
     "slide_type": "slide"
    }
   },
   "source": [
    "![](images/pagerank_paper.png)"
   ]
  },
  {
   "cell_type": "markdown",
   "metadata": {
    "slideshow": {
     "slide_type": "slide"
    }
   },
   "source": [
    "![](images/pagerank.jpg)"
   ]
  },
  {
   "cell_type": "markdown",
   "metadata": {
    "slideshow": {
     "slide_type": "fragment"
    }
   },
   "source": [
    "The PageRank algorithm outputs a probability distribution used to represent the likelihood that a person randomly clicking on links will arrive at any particular page. "
   ]
  },
  {
   "cell_type": "markdown",
   "metadata": {
    "slideshow": {
     "slide_type": "slide"
    }
   },
   "source": [
    "![](images/sa.png)"
   ]
  },
  {
   "cell_type": "markdown",
   "metadata": {
    "slideshow": {
     "slide_type": "slide"
    }
   },
   "source": [
    "> ...a species is important if important species rely on it for their survival..."
   ]
  },
  {
   "cell_type": "markdown",
   "metadata": {
    "slideshow": {
     "slide_type": "slide"
    }
   },
   "source": [
    "![](images/foodweb.png)\n",
    "\n",
    "Source: [mmnp201166p22.pdf](https://www.mmnp-journal.org/articles/mmnp/pdf/2011/06/mmnp201166p22.pdf)"
   ]
  },
  {
   "cell_type": "markdown",
   "metadata": {
    "slideshow": {
     "slide_type": "slide"
    }
   },
   "source": [
    "![](images/camelot.png)"
   ]
  },
  {
   "cell_type": "code",
   "execution_count": 1,
   "metadata": {
    "slideshow": {
     "slide_type": "slide"
    }
   },
   "outputs": [
    {
     "data": {
      "text/plain": [
       "{'accuracy': 100.0, 'whitespace': 0.0, 'order': 1, 'page': 5}"
      ]
     },
     "execution_count": 1,
     "metadata": {},
     "output_type": "execute_result"
    }
   ],
   "source": [
    "# !pip install camelot-py[cv]\n",
    "\n",
    "import pandas as pd\n",
    "import camelot\n",
    "\n",
    "tables = camelot.read_pdf('data/mmnp201166p22.pdf', pages='5')\n",
    "tables[0].parsing_report"
   ]
  },
  {
   "cell_type": "code",
   "execution_count": 2,
   "metadata": {
    "slideshow": {
     "slide_type": "slide"
    }
   },
   "outputs": [
    {
     "name": "stdout",
     "output_type": "stream",
     "text": [
      "> 1\n"
     ]
    },
    {
     "data": {
      "text/html": [
       "<div>\n",
       "<style scoped>\n",
       "    .dataframe tbody tr th:only-of-type {\n",
       "        vertical-align: middle;\n",
       "    }\n",
       "\n",
       "    .dataframe tbody tr th {\n",
       "        vertical-align: top;\n",
       "    }\n",
       "\n",
       "    .dataframe thead th {\n",
       "        text-align: right;\n",
       "    }\n",
       "</style>\n",
       "<table border=\"1\" class=\"dataframe\">\n",
       "  <thead>\n",
       "    <tr style=\"text-align: right;\">\n",
       "      <th></th>\n",
       "      <th>0</th>\n",
       "      <th>1</th>\n",
       "    </tr>\n",
       "  </thead>\n",
       "  <tbody>\n",
       "    <tr>\n",
       "      <th>0</th>\n",
       "      <td>Species</td>\n",
       "      <td>Species they feed on</td>\n",
       "    </tr>\n",
       "    <tr>\n",
       "      <th>1</th>\n",
       "      <td>Shark</td>\n",
       "      <td>Sea otter</td>\n",
       "    </tr>\n",
       "    <tr>\n",
       "      <th>2</th>\n",
       "      <td>Sea otter</td>\n",
       "      <td>Sea stars, sea urchins, large crabs, large ﬁsh...</td>\n",
       "    </tr>\n",
       "    <tr>\n",
       "      <th>3</th>\n",
       "      <td>Sea stars</td>\n",
       "      <td>Abalone, small herbivorous ﬁshes, sea urchins</td>\n",
       "    </tr>\n",
       "    <tr>\n",
       "      <th>4</th>\n",
       "      <td>Sea urchins</td>\n",
       "      <td>Kelp, sessile invertebrates, drift algae and d...</td>\n",
       "    </tr>\n",
       "    <tr>\n",
       "      <th>5</th>\n",
       "      <td>Abalone</td>\n",
       "      <td>Drift algae and dead animals</td>\n",
       "    </tr>\n",
       "    <tr>\n",
       "      <th>6</th>\n",
       "      <td>Large crabs</td>\n",
       "      <td>Sea stars, smaller predatory ﬁshes and inverte...</td>\n",
       "    </tr>\n",
       "    <tr>\n",
       "      <th>7</th>\n",
       "      <td>Smaller predatory ﬁshes</td>\n",
       "      <td>Sessile invertebrates, planktonic invertebrates</td>\n",
       "    </tr>\n",
       "    <tr>\n",
       "      <th>8</th>\n",
       "      <td>Small herbivorous ﬁshes andinvertebrates</td>\n",
       "      <td>Kelp</td>\n",
       "    </tr>\n",
       "    <tr>\n",
       "      <th>9</th>\n",
       "      <td>Kelp</td>\n",
       "      <td>--</td>\n",
       "    </tr>\n",
       "    <tr>\n",
       "      <th>10</th>\n",
       "      <td>Large ﬁsh and octopus</td>\n",
       "      <td>Smaller predatory ﬁshes and invertebrates</td>\n",
       "    </tr>\n",
       "    <tr>\n",
       "      <th>11</th>\n",
       "      <td>Sessile invertebrates</td>\n",
       "      <td>Microscopicplanktonicalgae,planktonicinverte-b...</td>\n",
       "    </tr>\n",
       "    <tr>\n",
       "      <th>12</th>\n",
       "      <td>algae and dead animals</td>\n",
       "      <td>Kelp, sessile invertebrates</td>\n",
       "    </tr>\n",
       "    <tr>\n",
       "      <th>13</th>\n",
       "      <td>Planktonic invertebrates</td>\n",
       "      <td>Microscopic planktonic algae</td>\n",
       "    </tr>\n",
       "    <tr>\n",
       "      <th>14</th>\n",
       "      <td>Microscopic planktonic algae</td>\n",
       "      <td>--</td>\n",
       "    </tr>\n",
       "  </tbody>\n",
       "</table>\n",
       "</div>"
      ],
      "text/plain": [
       "                                           0  \\\n",
       "0                                    Species   \n",
       "1                                      Shark   \n",
       "2                                  Sea otter   \n",
       "3                                  Sea stars   \n",
       "4                                Sea urchins   \n",
       "5                                    Abalone   \n",
       "6                                Large crabs   \n",
       "7                    Smaller predatory ﬁshes   \n",
       "8   Small herbivorous ﬁshes andinvertebrates   \n",
       "9                                       Kelp   \n",
       "10                     Large ﬁsh and octopus   \n",
       "11                     Sessile invertebrates   \n",
       "12                    algae and dead animals   \n",
       "13                  Planktonic invertebrates   \n",
       "14              Microscopic planktonic algae   \n",
       "\n",
       "                                                    1  \n",
       "0                                Species they feed on  \n",
       "1                                           Sea otter  \n",
       "2   Sea stars, sea urchins, large crabs, large ﬁsh...  \n",
       "3       Abalone, small herbivorous ﬁshes, sea urchins  \n",
       "4   Kelp, sessile invertebrates, drift algae and d...  \n",
       "5                        Drift algae and dead animals  \n",
       "6   Sea stars, smaller predatory ﬁshes and inverte...  \n",
       "7     Sessile invertebrates, planktonic invertebrates  \n",
       "8                                                Kelp  \n",
       "9                                                  --  \n",
       "10          Smaller predatory ﬁshes and invertebrates  \n",
       "11  Microscopicplanktonicalgae,planktonicinverte-b...  \n",
       "12                        Kelp, sessile invertebrates  \n",
       "13                       Microscopic planktonic algae  \n",
       "14                                                 --  "
      ]
     },
     "execution_count": 2,
     "metadata": {},
     "output_type": "execute_result"
    }
   ],
   "source": [
    "print('>', len(tables))\n",
    "\n",
    "df = tables[0].df\n",
    "df"
   ]
  },
  {
   "cell_type": "code",
   "execution_count": 3,
   "metadata": {
    "slideshow": {
     "slide_type": "slide"
    }
   },
   "outputs": [],
   "source": [
    "df.columns = ['pred', 'prey']\n",
    "df = df.reindex(df.index.drop(0))\n",
    "\n",
    "mapping = {\n",
    "    'ani-mals': 'animals',\n",
    "    'and dead animals': '',\n",
    "    'drift ': '',\n",
    "    'andoctopus': 'and octopus',\n",
    "    'microscopicplanktonicalgae': 'microscopic planktonic algae',\n",
    "    'planktonicinverte-brates': 'planktonic invertebrates',\n",
    "    'andinvertebrates': 'and invertebrates',\n",
    "    'and invertebrates': '',\n",
    "    'ﬁshesand': 'fishes and',\n",
    "    'ﬁ': 'fi',\n",
    "}"
   ]
  },
  {
   "cell_type": "code",
   "execution_count": 4,
   "metadata": {
    "slideshow": {
     "slide_type": "slide"
    }
   },
   "outputs": [
    {
     "name": "stdout",
     "output_type": "stream",
     "text": [
      "microscopic planktonic algae\n"
     ]
    }
   ],
   "source": [
    "import re\n",
    "\n",
    "print(mapping['microscopicplanktonicalgae'])\n",
    "\n",
    "def fix_text(text, mapping):\n",
    "    for k, v in mapping.items():\n",
    "        t = re.compile(re.escape(k), re.IGNORECASE)\n",
    "        text = t.sub(v, text)\n",
    "    return text\n",
    "\n",
    "df.pred = df.pred.apply(lambda x: fix_text(x.lower(), mapping))\n",
    "df.prey = df.prey.apply(lambda x: fix_text(x.lower(), mapping))"
   ]
  },
  {
   "cell_type": "code",
   "execution_count": 7,
   "metadata": {
    "slideshow": {
     "slide_type": "slide"
    }
   },
   "outputs": [
    {
     "data": {
      "text/html": [
       "<div>\n",
       "<style scoped>\n",
       "    .dataframe tbody tr th:only-of-type {\n",
       "        vertical-align: middle;\n",
       "    }\n",
       "\n",
       "    .dataframe tbody tr th {\n",
       "        vertical-align: top;\n",
       "    }\n",
       "\n",
       "    .dataframe thead th {\n",
       "        text-align: right;\n",
       "    }\n",
       "</style>\n",
       "<table border=\"1\" class=\"dataframe\">\n",
       "  <thead>\n",
       "    <tr style=\"text-align: right;\">\n",
       "      <th></th>\n",
       "      <th>pred</th>\n",
       "      <th>prey</th>\n",
       "    </tr>\n",
       "  </thead>\n",
       "  <tbody>\n",
       "    <tr>\n",
       "      <th>1</th>\n",
       "      <td>shark</td>\n",
       "      <td>sea otter</td>\n",
       "    </tr>\n",
       "    <tr>\n",
       "      <th>2</th>\n",
       "      <td>sea otter</td>\n",
       "      <td>sea stars, sea urchins, large crabs, large fis...</td>\n",
       "    </tr>\n",
       "    <tr>\n",
       "      <th>3</th>\n",
       "      <td>sea stars</td>\n",
       "      <td>abalone, small herbivorous fishes, sea urchins</td>\n",
       "    </tr>\n",
       "    <tr>\n",
       "      <th>4</th>\n",
       "      <td>sea urchins</td>\n",
       "      <td>kelp, sessile invertebrates, algae</td>\n",
       "    </tr>\n",
       "    <tr>\n",
       "      <th>5</th>\n",
       "      <td>abalone</td>\n",
       "      <td>algae</td>\n",
       "    </tr>\n",
       "  </tbody>\n",
       "</table>\n",
       "</div>"
      ],
      "text/plain": [
       "          pred                                               prey\n",
       "1        shark                                          sea otter\n",
       "2    sea otter  sea stars, sea urchins, large crabs, large fis...\n",
       "3    sea stars     abalone, small herbivorous fishes, sea urchins\n",
       "4  sea urchins                kelp, sessile invertebrates, algae \n",
       "5      abalone                                             algae "
      ]
     },
     "execution_count": 7,
     "metadata": {},
     "output_type": "execute_result"
    }
   ],
   "source": [
    "df.head()"
   ]
  },
  {
   "cell_type": "code",
   "execution_count": 8,
   "metadata": {
    "slideshow": {
     "slide_type": "slide"
    }
   },
   "outputs": [
    {
     "data": {
      "text/plain": [
       "1                  sea otter\n",
       "2                  sea stars\n",
       "2                sea urchins\n",
       "2                large crabs\n",
       "2     large fish and octopus\n",
       "Name: prey, dtype: object"
      ]
     },
     "execution_count": 8,
     "metadata": {},
     "output_type": "execute_result"
    }
   ],
   "source": [
    "(\n",
    "    df.prey\n",
    "    .str\n",
    "    .split(',', expand=True)\n",
    "    .stack()\n",
    "    .reset_index(drop=True, level=1)\n",
    "    .rename('prey')\n",
    ").head()"
   ]
  },
  {
   "cell_type": "code",
   "execution_count": 9,
   "metadata": {
    "scrolled": true,
    "slideshow": {
     "slide_type": "slide"
    }
   },
   "outputs": [
    {
     "data": {
      "text/html": [
       "<div>\n",
       "<style scoped>\n",
       "    .dataframe tbody tr th:only-of-type {\n",
       "        vertical-align: middle;\n",
       "    }\n",
       "\n",
       "    .dataframe tbody tr th {\n",
       "        vertical-align: top;\n",
       "    }\n",
       "\n",
       "    .dataframe thead th {\n",
       "        text-align: right;\n",
       "    }\n",
       "</style>\n",
       "<table border=\"1\" class=\"dataframe\">\n",
       "  <thead>\n",
       "    <tr style=\"text-align: right;\">\n",
       "      <th></th>\n",
       "      <th>pred</th>\n",
       "      <th>prey</th>\n",
       "    </tr>\n",
       "  </thead>\n",
       "  <tbody>\n",
       "    <tr>\n",
       "      <th>0</th>\n",
       "      <td>shark</td>\n",
       "      <td>sea otter</td>\n",
       "    </tr>\n",
       "    <tr>\n",
       "      <th>1</th>\n",
       "      <td>sea otter</td>\n",
       "      <td>sea stars</td>\n",
       "    </tr>\n",
       "    <tr>\n",
       "      <th>2</th>\n",
       "      <td>sea otter</td>\n",
       "      <td>sea urchins</td>\n",
       "    </tr>\n",
       "    <tr>\n",
       "      <th>3</th>\n",
       "      <td>sea otter</td>\n",
       "      <td>large crabs</td>\n",
       "    </tr>\n",
       "    <tr>\n",
       "      <th>4</th>\n",
       "      <td>sea otter</td>\n",
       "      <td>large fish and octopus</td>\n",
       "    </tr>\n",
       "  </tbody>\n",
       "</table>\n",
       "</div>"
      ],
      "text/plain": [
       "        pred                     prey\n",
       "0      shark                sea otter\n",
       "1  sea otter                sea stars\n",
       "2  sea otter              sea urchins\n",
       "3  sea otter              large crabs\n",
       "4  sea otter   large fish and octopus"
      ]
     },
     "execution_count": 9,
     "metadata": {},
     "output_type": "execute_result"
    }
   ],
   "source": [
    "df = df.drop('prey', axis=1).join(\n",
    "    df.prey\n",
    "    .str\n",
    "    .split(',', expand=True)\n",
    "    .stack()\n",
    "    .reset_index(drop=True, level=1)\n",
    "    .rename('prey')\n",
    ").reset_index(drop=True)\n",
    "\n",
    "df.head()"
   ]
  },
  {
   "cell_type": "code",
   "execution_count": 10,
   "metadata": {
    "slideshow": {
     "slide_type": "slide"
    }
   },
   "outputs": [],
   "source": [
    "df = df[df['prey'] != '--']\n",
    "df.loc[:,'prey'] = df['prey'].str.strip()\n",
    "df.loc[:,'pred'] = df['pred'].str.strip()"
   ]
  },
  {
   "cell_type": "code",
   "execution_count": 12,
   "metadata": {
    "slideshow": {
     "slide_type": "slide"
    }
   },
   "outputs": [
    {
     "data": {
      "text/html": [
       "<div>\n",
       "<style scoped>\n",
       "    .dataframe tbody tr th:only-of-type {\n",
       "        vertical-align: middle;\n",
       "    }\n",
       "\n",
       "    .dataframe tbody tr th {\n",
       "        vertical-align: top;\n",
       "    }\n",
       "\n",
       "    .dataframe thead th {\n",
       "        text-align: right;\n",
       "    }\n",
       "</style>\n",
       "<table border=\"1\" class=\"dataframe\">\n",
       "  <thead>\n",
       "    <tr style=\"text-align: right;\">\n",
       "      <th></th>\n",
       "      <th>pred</th>\n",
       "      <th>prey</th>\n",
       "    </tr>\n",
       "  </thead>\n",
       "  <tbody>\n",
       "    <tr>\n",
       "      <th>0</th>\n",
       "      <td>shark</td>\n",
       "      <td>sea otter</td>\n",
       "    </tr>\n",
       "    <tr>\n",
       "      <th>1</th>\n",
       "      <td>sea otter</td>\n",
       "      <td>sea stars</td>\n",
       "    </tr>\n",
       "    <tr>\n",
       "      <th>2</th>\n",
       "      <td>sea otter</td>\n",
       "      <td>sea urchins</td>\n",
       "    </tr>\n",
       "    <tr>\n",
       "      <th>3</th>\n",
       "      <td>sea otter</td>\n",
       "      <td>large crabs</td>\n",
       "    </tr>\n",
       "    <tr>\n",
       "      <th>4</th>\n",
       "      <td>sea otter</td>\n",
       "      <td>large fish and octopus</td>\n",
       "    </tr>\n",
       "  </tbody>\n",
       "</table>\n",
       "</div>"
      ],
      "text/plain": [
       "        pred                    prey\n",
       "0      shark               sea otter\n",
       "1  sea otter               sea stars\n",
       "2  sea otter             sea urchins\n",
       "3  sea otter             large crabs\n",
       "4  sea otter  large fish and octopus"
      ]
     },
     "execution_count": 12,
     "metadata": {},
     "output_type": "execute_result"
    }
   ],
   "source": [
    "df.to_csv('data/food_web.csv', index=False)\n",
    "\n",
    "df.head()"
   ]
  },
  {
   "cell_type": "code",
   "execution_count": 13,
   "metadata": {
    "slideshow": {
     "slide_type": "slide"
    }
   },
   "outputs": [],
   "source": [
    "import numpy as np\n",
    "import networkx as nx\n",
    "import matplotlib.pyplot as plt\n",
    "%matplotlib inline"
   ]
  },
  {
   "cell_type": "code",
   "execution_count": 14,
   "metadata": {
    "slideshow": {
     "slide_type": "fragment"
    }
   },
   "outputs": [
    {
     "data": {
      "text/plain": [
       "OutEdgeView([('shark', 'sea otter'), ('sea otter', 'sea stars')])"
      ]
     },
     "execution_count": 14,
     "metadata": {},
     "output_type": "execute_result"
    }
   ],
   "source": [
    "G = nx.DiGraph()\n",
    "\n",
    "G.add_edge('shark', 'sea otter')\n",
    "G.add_edge('sea otter', 'sea stars')\n",
    "\n",
    "G.nodes()\n",
    "G.edges()"
   ]
  },
  {
   "cell_type": "code",
   "execution_count": 15,
   "metadata": {
    "slideshow": {
     "slide_type": "slide"
    }
   },
   "outputs": [],
   "source": [
    "df = pd.read_csv('data/food_web.csv')\n",
    "\n",
    "G = nx.from_pandas_edgelist(\n",
    "        df, \n",
    "        source='pred', \n",
    "        target='prey', \n",
    "        create_using=nx.DiGraph\n",
    ")"
   ]
  },
  {
   "cell_type": "code",
   "execution_count": 16,
   "metadata": {
    "slideshow": {
     "slide_type": "slide"
    }
   },
   "outputs": [
    {
     "name": "stdout",
     "output_type": "stream",
     "text": [
      "['shark',\n",
      " 'sea otter',\n",
      " 'sea stars',\n",
      " 'sea urchins',\n",
      " 'large crabs',\n",
      " 'large fish and octopus',\n",
      " 'abalone',\n",
      " 'small herbivorous fishes',\n",
      " 'kelp',\n",
      " 'sessile invertebrates',\n",
      " 'algae',\n",
      " 'smaller predatory fishes',\n",
      " 'planktonic invertebrates',\n",
      " 'microscopic planktonic algae']\n"
     ]
    }
   ],
   "source": [
    "from pprint import pprint\n",
    "pprint(list(G.nodes))"
   ]
  },
  {
   "cell_type": "code",
   "execution_count": 17,
   "metadata": {
    "slideshow": {
     "slide_type": "slide"
    }
   },
   "outputs": [
    {
     "name": "stdout",
     "output_type": "stream",
     "text": [
      "[('shark', 'sea otter'),\n",
      " ('sea otter', 'sea stars'),\n",
      " ('sea otter', 'sea urchins'),\n",
      " ('sea otter', 'large crabs'),\n",
      " ('sea otter', 'large fish and octopus'),\n",
      " ('sea otter', 'abalone'),\n",
      " ('sea stars', 'abalone'),\n",
      " ('sea stars', 'small herbivorous fishes'),\n",
      " ('sea stars', 'sea urchins'),\n",
      " ('sea urchins', 'kelp'),\n",
      " ('sea urchins', 'sessile invertebrates'),\n",
      " ('sea urchins', 'algae'),\n",
      " ('large crabs', 'sea stars'),\n",
      " ('large crabs', 'smaller predatory fishes'),\n",
      " ('large crabs', 'algae'),\n",
      " ('large crabs', 'small herbivorous fishes'),\n",
      " ('large crabs', 'kelp'),\n",
      " ('large fish and octopus', 'smaller predatory fishes'),\n",
      " ('abalone', 'algae'),\n",
      " ('small herbivorous fishes', 'kelp'),\n",
      " ('sessile invertebrates', 'microscopic planktonic algae'),\n",
      " ('sessile invertebrates', 'planktonic invertebrates'),\n",
      " ('algae', 'kelp'),\n",
      " ('algae', 'sessile invertebrates'),\n",
      " ('smaller predatory fishes', 'sessile invertebrates'),\n",
      " ('smaller predatory fishes', 'planktonic invertebrates'),\n",
      " ('planktonic invertebrates', 'microscopic planktonic algae')]\n"
     ]
    }
   ],
   "source": [
    "pprint(list(G.edges))"
   ]
  },
  {
   "cell_type": "code",
   "execution_count": 18,
   "metadata": {
    "slideshow": {
     "slide_type": "slide"
    }
   },
   "outputs": [
    {
     "data": {
      "image/png": "[encoded data removed]",
      "text/plain": [
       "<Figure size 720x576 with 1 Axes>"
      ]
     },
     "metadata": {},
     "output_type": "display_data"
    }
   ],
   "source": [
    "np.random.seed(1)\n",
    "plt.figure(figsize=(10, 8))\n",
    "nx.draw_networkx(G, node_color='green')\n",
    "plt.xticks([])\n",
    "plt.yticks([]);"
   ]
  },
  {
   "cell_type": "markdown",
   "metadata": {
    "slideshow": {
     "slide_type": "slide"
    }
   },
   "source": [
    "$$PR(A) = (1-d) + d (\\frac{PR(T_1)}{C(T_1)} + ... + \\frac{PR(T_n)}{C(T_n)})$$\n",
    "\n",
    "where\n",
    "- PR(A) is the PageRank of page A\n",
    "- PR(Ti) is the PageRank of pages Ti which link to page A\n",
    "- C(Ti) is the number of outbound links on page Ti and\n",
    "- d is a damping factor which can be set between 0 and 1"
   ]
  },
  {
   "cell_type": "code",
   "execution_count": 19,
   "metadata": {
    "slideshow": {
     "slide_type": "slide"
    }
   },
   "outputs": [],
   "source": [
    "def pagerank(G, alpha=0.85, max_iter=100, tol=1.0e-6):\n",
    "\n",
    "    W = nx.stochastic_graph(G)\n",
    "    N = len(W)\n",
    "    x = {n: 1/N for n in W.nodes}\n",
    "\n",
    "    p = x\n",
    "    dangling_weights = p\n",
    "    dangling_nodes = [n for n in W if W.out_degree(n) == 0.0]\n",
    "\n",
    "    for _ in range(max_iter):\n",
    "        xlast = x\n",
    "        x = {key: 0 for key in x}\n",
    "        danglesum = alpha * sum([xlast[n] for n in dangling_nodes])\n",
    "        for n in x:\n",
    "            for nbr in W[n]:\n",
    "                x[nbr] += alpha * xlast[n] * W[n][nbr]['weight']\n",
    "            x[n] += danglesum * dangling_weights.get(n, 0) + (1.0 - alpha) * p.get(n, 0)\n",
    "        err = sum([abs(x[n] - xlast[n]) for n in x])\n",
    "        if err < N * tol:\n",
    "            return x"
   ]
  },
  {
   "cell_type": "code",
   "execution_count": 20,
   "metadata": {
    "slideshow": {
     "slide_type": "slide"
    }
   },
   "outputs": [
    {
     "name": "stdout",
     "output_type": "stream",
     "text": [
      "{'abalone': 0.04940106801052845,\n",
      " 'algae': 0.09052025512398879,\n",
      " 'kelp': 0.1268076024301348,\n",
      " 'large crabs': 0.03710188718650615,\n",
      " 'large fish and octopus': 0.03710188718650615,\n",
      " 'microscopic planktonic algae': 0.16160847090331737,\n",
      " 'planktonic invertebrates': 0.10253360633998779,\n",
      " 'sea otter': 0.052216411290389245,\n",
      " 'sea stars': 0.0434091571287912,\n",
      " 'sea urchins': 0.04940106801052845,\n",
      " 'sessile invertebrates': 0.1087727093009147,\n",
      " 'shark': 0.028225268889463057,\n",
      " 'small herbivorous fishes': 0.046831719655770404,\n",
      " 'smaller predatory fishes': 0.06606888854317333}\n"
     ]
    }
   ],
   "source": [
    "pprint(pagerank(G, alpha=0.85))"
   ]
  },
  {
   "cell_type": "code",
   "execution_count": 21,
   "metadata": {
    "slideshow": {
     "slide_type": "fragment"
    }
   },
   "outputs": [
    {
     "name": "stdout",
     "output_type": "stream",
     "text": [
      "{'abalone': 0.04940106801052845,\n",
      " 'algae': 0.09052025512398879,\n",
      " 'kelp': 0.1268076024301348,\n",
      " 'large crabs': 0.03710188718650615,\n",
      " 'large fish and octopus': 0.03710188718650615,\n",
      " 'microscopic planktonic algae': 0.16160847090331737,\n",
      " 'planktonic invertebrates': 0.10253360633998779,\n",
      " 'sea otter': 0.052216411290389245,\n",
      " 'sea stars': 0.0434091571287912,\n",
      " 'sea urchins': 0.04940106801052845,\n",
      " 'sessile invertebrates': 0.1087727093009147,\n",
      " 'shark': 0.028225268889463057,\n",
      " 'small herbivorous fishes': 0.046831719655770404,\n",
      " 'smaller predatory fishes': 0.06606888854317333}\n"
     ]
    }
   ],
   "source": [
    "pprint(nx.pagerank(G, alpha=0.85))"
   ]
  },
  {
   "cell_type": "code",
   "execution_count": 22,
   "metadata": {
    "slideshow": {
     "slide_type": "slide"
    }
   },
   "outputs": [],
   "source": [
    "pageranks = pagerank(G, alpha=0.85)\n",
    "for g in G.nodes():\n",
    "    G.nodes[g]['name'] = g\n",
    "    G.nodes[g]['pagerank'] = round(pageranks[g], 4)"
   ]
  },
  {
   "cell_type": "code",
   "execution_count": 23,
   "metadata": {
    "slideshow": {
     "slide_type": "fragment"
    }
   },
   "outputs": [
    {
     "data": {
      "text/plain": [
       "{'name': 'shark', 'pagerank': 0.0282}"
      ]
     },
     "execution_count": 23,
     "metadata": {},
     "output_type": "execute_result"
    }
   ],
   "source": [
    "G.nodes['shark']"
   ]
  },
  {
   "cell_type": "code",
   "execution_count": 24,
   "metadata": {
    "slideshow": {
     "slide_type": "slide"
    }
   },
   "outputs": [],
   "source": [
    "import altair as alt\n",
    "import nx_altair as nxa\n",
    "alt.renderers.enable('notebook')\n",
    "\n",
    "pos = nx.kamada_kawai_layout(G)\n",
    "\n",
    "pr_viz = nxa.draw_networkx(\n",
    "    G,\n",
    "    pos=pos,\n",
    "    node_tooltip=['name', 'pagerank'],\n",
    "    node_color='pagerank',\n",
    "    node_size='pagerank',\n",
    "    cmap='blues'\n",
    ")"
   ]
  },
  {
   "cell_type": "code",
   "execution_count": 25,
   "metadata": {
    "slideshow": {
     "slide_type": "slide"
    }
   },
   "outputs": [
    {
     "data": {
      "application/javascript": [
       "var spec = {\"config\": {\"view\": {\"width\": 400, \"height\": 300}, \"axis\": {\"domain\": false, \"grid\": false, \"labels\": false, \"ticks\": false}}, \"layer\": [{\"data\": {\"name\": \"data-794a3d937369719ae2010131dfb2651f\"}, \"mark\": {\"type\": \"line\", \"color\": \"black\", \"opacity\": 1, \"strokeWidth\": 1}, \"encoding\": {\"detail\": {\"type\": \"quantitative\", \"field\": \"edge\"}, \"x\": {\"type\": \"quantitative\", \"axis\": {\"title\": \"\"}, \"field\": \"x\"}, \"y\": {\"type\": \"quantitative\", \"axis\": {\"title\": \"\"}, \"field\": \"y\"}}, \"selection\": {\"selector001\": {\"type\": \"interval\", \"bind\": \"scales\", \"encodings\": [\"x\", \"y\"]}}}, {\"data\": {\"name\": \"data-b69cf91986c62015213abbaf7795da60\"}, \"mark\": {\"type\": \"point\", \"opacity\": 1}, \"encoding\": {\"fill\": {\"type\": \"quantitative\", \"field\": \"pagerank\", \"scale\": {\"scheme\": \"blues\"}}, \"size\": {\"type\": \"quantitative\", \"field\": \"pagerank\", \"legend\": null}, \"tooltip\": [{\"type\": \"nominal\", \"field\": \"name\"}, {\"type\": \"quantitative\", \"field\": \"pagerank\"}], \"x\": {\"type\": \"quantitative\", \"field\": \"x\"}, \"y\": {\"type\": \"quantitative\", \"field\": \"y\"}}}], \"height\": 400, \"width\": 500, \"$schema\": \"https://vega.github.io/schema/vega-lite/v2.6.0.json\", \"datasets\": {\"data-794a3d937369719ae2010131dfb2651f\": [{\"target\": \"sea otter\", \"pair\": [\"shark\", \"sea otter\"], \"edge\": 0, \"y\": 0.9843382103335612, \"source\": \"shark\", \"x\": 0.5714613731300462}, {\"target\": \"sea otter\", \"pair\": [\"shark\", \"sea otter\"], \"edge\": 0, \"y\": 0.5848993265105852, \"source\": \"shark\", \"x\": 0.2640292950736184}, {\"target\": \"sea stars\", \"pair\": [\"sea otter\", \"sea stars\"], \"edge\": 1, \"y\": 0.5848993265105852, \"source\": \"sea otter\", \"x\": 0.2640292950736184}, {\"target\": \"sea stars\", \"pair\": [\"sea otter\", \"sea stars\"], \"edge\": 1, \"y\": 0.5234585044816067, \"source\": \"sea otter\", \"x\": -0.1984682593644018}, {\"target\": \"sea urchins\", \"pair\": [\"sea otter\", \"sea urchins\"], \"edge\": 2, \"y\": 0.5848993265105852, \"source\": \"sea otter\", \"x\": 0.2640292950736184}, {\"target\": \"sea urchins\", \"pair\": [\"sea otter\", \"sea urchins\"], \"edge\": 2, \"y\": 0.06388521263259717, \"source\": \"sea otter\", \"x\": -0.05910028486461733}, {\"target\": \"large crabs\", \"pair\": [\"sea otter\", \"large crabs\"], \"edge\": 3, \"y\": 0.5848993265105852, \"source\": \"sea otter\", \"x\": 0.2640292950736184}, {\"target\": \"large crabs\", \"pair\": [\"sea otter\", \"large crabs\"], \"edge\": 3, \"y\": 0.1422774450484726, \"source\": \"sea otter\", \"x\": 0.2873489186332857}, {\"target\": \"large fish and octopus\", \"pair\": [\"sea otter\", \"large fish and octopus\"], \"edge\": 4, \"y\": 0.5848993265105852, \"source\": \"sea otter\", \"x\": 0.2640292950736184}, {\"target\": \"large fish and octopus\", \"pair\": [\"sea otter\", \"large fish and octopus\"], \"edge\": 4, \"y\": 0.36817273162459657, \"source\": \"sea otter\", \"x\": -0.1789214984754659}, {\"target\": \"abalone\", \"pair\": [\"sea otter\", \"abalone\"], \"edge\": 5, \"y\": 0.5848993265105852, \"source\": \"sea otter\", \"x\": 0.2640292950736184}, {\"target\": \"abalone\", \"pair\": [\"sea otter\", \"abalone\"], \"edge\": 5, \"y\": 0.23851188861608733, \"source\": \"sea otter\", \"x\": -0.016727932397741205}, {\"target\": \"abalone\", \"pair\": [\"sea stars\", \"abalone\"], \"edge\": 6, \"y\": 0.5234585044816067, \"source\": \"sea stars\", \"x\": -0.1984682593644018}, {\"target\": \"abalone\", \"pair\": [\"sea stars\", \"abalone\"], \"edge\": 6, \"y\": 0.23851188861608733, \"source\": \"sea stars\", \"x\": -0.016727932397741205}, {\"target\": \"small herbivorous fishes\", \"pair\": [\"sea stars\", \"small herbivorous fishes\"], \"edge\": 7, \"y\": 0.5234585044816067, \"source\": \"sea stars\", \"x\": -0.1984682593644018}, {\"target\": \"small herbivorous fishes\", \"pair\": [\"sea stars\", \"small herbivorous fishes\"], \"edge\": 7, \"y\": 0.004441139458085736, \"source\": \"sea stars\", \"x\": -0.2273083485344825}, {\"target\": \"sea urchins\", \"pair\": [\"sea stars\", \"sea urchins\"], \"edge\": 8, \"y\": 0.5234585044816067, \"source\": \"sea stars\", \"x\": -0.1984682593644018}, {\"target\": \"sea urchins\", \"pair\": [\"sea stars\", \"sea urchins\"], \"edge\": 8, \"y\": 0.06388521263259717, \"source\": \"sea stars\", \"x\": -0.05910028486461733}, {\"target\": \"kelp\", \"pair\": [\"sea urchins\", \"kelp\"], \"edge\": 9, \"y\": 0.06388521263259717, \"source\": \"sea urchins\", \"x\": -0.05910028486461733}, {\"target\": \"kelp\", \"pair\": [\"sea urchins\", \"kelp\"], \"edge\": 9, \"y\": -0.40551438696859315, \"source\": \"sea urchins\", \"x\": 0.015264987404012378}, {\"target\": \"sessile invertebrates\", \"pair\": [\"sea urchins\", \"sessile invertebrates\"], \"edge\": 10, \"y\": 0.06388521263259717, \"source\": \"sea urchins\", \"x\": -0.05910028486461733}, {\"target\": \"sessile invertebrates\", \"pair\": [\"sea urchins\", \"sessile invertebrates\"], \"edge\": 10, \"y\": -0.5160530393874284, \"source\": \"sea urchins\", \"x\": -0.00657817481221771}, {\"target\": \"algae\", \"pair\": [\"sea urchins\", \"algae\"], \"edge\": 11, \"y\": 0.06388521263259717, \"source\": \"sea urchins\", \"x\": -0.05910028486461733}, {\"target\": \"algae\", \"pair\": [\"sea urchins\", \"algae\"], \"edge\": 11, \"y\": -0.22653139002503797, \"source\": \"sea urchins\", \"x\": 0.3763959423756054}, {\"target\": \"sea stars\", \"pair\": [\"large crabs\", \"sea stars\"], \"edge\": 12, \"y\": 0.1422774450484726, \"source\": \"large crabs\", \"x\": 0.2873489186332857}, {\"target\": \"sea stars\", \"pair\": [\"large crabs\", \"sea stars\"], \"edge\": 12, \"y\": 0.5234585044816067, \"source\": \"large crabs\", \"x\": -0.1984682593644018}, {\"target\": \"smaller predatory fishes\", \"pair\": [\"large crabs\", \"smaller predatory fishes\"], \"edge\": 13, \"y\": 0.1422774450484726, \"source\": \"large crabs\", \"x\": 0.2873489186332857}, {\"target\": \"smaller predatory fishes\", \"pair\": [\"large crabs\", \"smaller predatory fishes\"], \"edge\": 13, \"y\": -0.12473349226880469, \"source\": \"large crabs\", \"x\": -0.21788121180083253}, {\"target\": \"algae\", \"pair\": [\"large crabs\", \"algae\"], \"edge\": 14, \"y\": 0.1422774450484726, \"source\": \"large crabs\", \"x\": 0.2873489186332857}, {\"target\": \"algae\", \"pair\": [\"large crabs\", \"algae\"], \"edge\": 14, \"y\": -0.22653139002503797, \"source\": \"large crabs\", \"x\": 0.3763959423756054}, {\"target\": \"small herbivorous fishes\", \"pair\": [\"large crabs\", \"small herbivorous fishes\"], \"edge\": 15, \"y\": 0.1422774450484726, \"source\": \"large crabs\", \"x\": 0.2873489186332857}, {\"target\": \"small herbivorous fishes\", \"pair\": [\"large crabs\", \"small herbivorous fishes\"], \"edge\": 15, \"y\": 0.004441139458085736, \"source\": \"large crabs\", \"x\": -0.2273083485344825}, {\"target\": \"kelp\", \"pair\": [\"large crabs\", \"kelp\"], \"edge\": 16, \"y\": 0.1422774450484726, \"source\": \"large crabs\", \"x\": 0.2873489186332857}, {\"target\": \"kelp\", \"pair\": [\"large crabs\", \"kelp\"], \"edge\": 16, \"y\": -0.40551438696859315, \"source\": \"large crabs\", \"x\": 0.015264987404012378}, {\"target\": \"smaller predatory fishes\", \"pair\": [\"large fish and octopus\", \"smaller predatory fishes\"], \"edge\": 17, \"y\": 0.36817273162459657, \"source\": \"large fish and octopus\", \"x\": -0.1789214984754659}, {\"target\": \"smaller predatory fishes\", \"pair\": [\"large fish and octopus\", \"smaller predatory fishes\"], \"edge\": 17, \"y\": -0.12473349226880469, \"source\": \"large fish and octopus\", \"x\": -0.21788121180083253}, {\"target\": \"algae\", \"pair\": [\"abalone\", \"algae\"], \"edge\": 18, \"y\": 0.23851188861608733, \"source\": \"abalone\", \"x\": -0.016727932397741205}, {\"target\": \"algae\", \"pair\": [\"abalone\", \"algae\"], \"edge\": 18, \"y\": -0.22653139002503797, \"source\": \"abalone\", \"x\": 0.3763959423756054}, {\"target\": \"kelp\", \"pair\": [\"small herbivorous fishes\", \"kelp\"], \"edge\": 19, \"y\": 0.004441139458085736, \"source\": \"small herbivorous fishes\", \"x\": -0.2273083485344825}, {\"target\": \"kelp\", \"pair\": [\"small herbivorous fishes\", \"kelp\"], \"edge\": 19, \"y\": -0.40551438696859315, \"source\": \"small herbivorous fishes\", \"x\": 0.015264987404012378}, {\"target\": \"microscopic planktonic algae\", \"pair\": [\"sessile invertebrates\", \"microscopic planktonic algae\"], \"edge\": 20, \"y\": -0.5160530393874284, \"source\": \"sessile invertebrates\", \"x\": -0.00657817481221771}, {\"target\": \"microscopic planktonic algae\", \"pair\": [\"sessile invertebrates\", \"microscopic planktonic algae\"], \"edge\": 20, \"y\": -1.0, \"source\": \"sessile invertebrates\", \"x\": -0.14307761557785512}, {\"target\": \"planktonic invertebrates\", \"pair\": [\"sessile invertebrates\", \"planktonic invertebrates\"], \"edge\": 21, \"y\": -0.5160530393874284, \"source\": \"sessile invertebrates\", \"x\": -0.00657817481221771}, {\"target\": \"planktonic invertebrates\", \"pair\": [\"sessile invertebrates\", \"planktonic invertebrates\"], \"edge\": 21, \"y\": -0.6371521500557277, \"source\": \"sessile invertebrates\", \"x\": -0.4664371907889541}, {\"target\": \"kelp\", \"pair\": [\"algae\", \"kelp\"], \"edge\": 22, \"y\": -0.22653139002503797, \"source\": \"algae\", \"x\": 0.3763959423756054}, {\"target\": \"kelp\", \"pair\": [\"algae\", \"kelp\"], \"edge\": 22, \"y\": -0.40551438696859315, \"source\": \"algae\", \"x\": 0.015264987404012378}, {\"target\": \"sessile invertebrates\", \"pair\": [\"algae\", \"sessile invertebrates\"], \"edge\": 23, \"y\": -0.22653139002503797, \"source\": \"algae\", \"x\": 0.3763959423756054}, {\"target\": \"sessile invertebrates\", \"pair\": [\"algae\", \"sessile invertebrates\"], \"edge\": 23, \"y\": -0.5160530393874284, \"source\": \"algae\", \"x\": -0.00657817481221771}, {\"target\": \"sessile invertebrates\", \"pair\": [\"smaller predatory fishes\", \"sessile invertebrates\"], \"edge\": 24, \"y\": -0.12473349226880469, \"source\": \"smaller predatory fishes\", \"x\": -0.21788121180083253}, {\"target\": \"sessile invertebrates\", \"pair\": [\"smaller predatory fishes\", \"sessile invertebrates\"], \"edge\": 24, \"y\": -0.5160530393874284, \"source\": \"smaller predatory fishes\", \"x\": -0.00657817481221771}, {\"target\": \"planktonic invertebrates\", \"pair\": [\"smaller predatory fishes\", \"planktonic invertebrates\"], \"edge\": 25, \"y\": -0.12473349226880469, \"source\": \"smaller predatory fishes\", \"x\": -0.21788121180083253}, {\"target\": \"planktonic invertebrates\", \"pair\": [\"smaller predatory fishes\", \"planktonic invertebrates\"], \"edge\": 25, \"y\": -0.6371521500557277, \"source\": \"smaller predatory fishes\", \"x\": -0.4664371907889541}, {\"target\": \"microscopic planktonic algae\", \"pair\": [\"planktonic invertebrates\", \"microscopic planktonic algae\"], \"edge\": 26, \"y\": -0.6371521500557277, \"source\": \"planktonic invertebrates\", \"x\": -0.4664371907889541}, {\"target\": \"microscopic planktonic algae\", \"pair\": [\"planktonic invertebrates\", \"microscopic planktonic algae\"], \"edge\": 26, \"y\": -1.0, \"source\": \"planktonic invertebrates\", \"x\": -0.14307761557785512}], \"data-b69cf91986c62015213abbaf7795da60\": [{\"x\": 0.5714613731300462, \"y\": 0.9843382103335612, \"name\": \"shark\", \"pagerank\": 0.0282}, {\"x\": 0.2640292950736184, \"y\": 0.5848993265105852, \"name\": \"sea otter\", \"pagerank\": 0.0522}, {\"x\": -0.1984682593644018, \"y\": 0.5234585044816067, \"name\": \"sea stars\", \"pagerank\": 0.0434}, {\"x\": -0.05910028486461733, \"y\": 0.06388521263259717, \"name\": \"sea urchins\", \"pagerank\": 0.0494}, {\"x\": 0.2873489186332857, \"y\": 0.1422774450484726, \"name\": \"large crabs\", \"pagerank\": 0.0371}, {\"x\": -0.1789214984754659, \"y\": 0.36817273162459657, \"name\": \"large fish and octopus\", \"pagerank\": 0.0371}, {\"x\": -0.016727932397741205, \"y\": 0.23851188861608733, \"name\": \"abalone\", \"pagerank\": 0.0494}, {\"x\": -0.2273083485344825, \"y\": 0.004441139458085736, \"name\": \"small herbivorous fishes\", \"pagerank\": 0.0468}, {\"x\": 0.015264987404012378, \"y\": -0.40551438696859315, \"name\": \"kelp\", \"pagerank\": 0.1268}, {\"x\": -0.00657817481221771, \"y\": -0.5160530393874284, \"name\": \"sessile invertebrates\", \"pagerank\": 0.1088}, {\"x\": 0.3763959423756054, \"y\": -0.22653139002503797, \"name\": \"algae\", \"pagerank\": 0.0905}, {\"x\": -0.21788121180083253, \"y\": -0.12473349226880469, \"name\": \"smaller predatory fishes\", \"pagerank\": 0.0661}, {\"x\": -0.4664371907889541, \"y\": -0.6371521500557277, \"name\": \"planktonic invertebrates\", \"pagerank\": 0.1025}, {\"x\": -0.14307761557785512, \"y\": -1.0, \"name\": \"microscopic planktonic algae\", \"pagerank\": 0.1616}]}};\n",
       "var opt = {};\n",
       "var type = \"vega-lite\";\n",
       "var id = \"b3214355-a2f1-4643-bacb-e8b48d1a8db4\";\n",
       "\n",
       "var output_area = this;\n",
       "\n",
       "require([\"nbextensions/jupyter-vega/index\"], function(vega) {\n",
       "  var target = document.createElement(\"div\");\n",
       "  target.id = id;\n",
       "  target.className = \"vega-embed\";\n",
       "\n",
       "  var style = document.createElement(\"style\");\n",
       "  style.textContent = [\n",
       "    \".vega-embed .error p {\",\n",
       "    \"  color: firebrick;\",\n",
       "    \"  font-size: 14px;\",\n",
       "    \"}\",\n",
       "  ].join(\"\\\\n\");\n",
       "\n",
       "  // element is a jQuery wrapped DOM element inside the output area\n",
       "  // see http://ipython.readthedocs.io/en/stable/api/generated/\\\n",
       "  // IPython.display.html#IPython.display.Javascript.__init__\n",
       "  element[0].appendChild(target);\n",
       "  element[0].appendChild(style);\n",
       "\n",
       "  vega.render(\"#\" + id, spec, type, opt, output_area);\n",
       "}, function (err) {\n",
       "  if (err.requireType !== \"scripterror\") {\n",
       "    throw(err);\n",
       "  }\n",
       "});\n"
      ],
      "text/plain": [
       "<vega.vegalite.VegaLite at 0x10591c8d0>"
      ]
     },
     "metadata": {
      "jupyter-vega": "#b3214355-a2f1-4643-bacb-e8b48d1a8db4"
     },
     "output_type": "display_data"
    },
    {
     "data": {
      "text/plain": []
     },
     "execution_count": 25,
     "metadata": {},
     "output_type": "execute_result"
    },
    {
     "data": {
      "image/png": "[encoded data removed]"
     },
     "metadata": {
      "jupyter-vega": "#b3214355-a2f1-4643-bacb-e8b48d1a8db4"
     },
     "output_type": "display_data"
    }
   ],
   "source": [
    "pr_viz.interactive().properties(width=500, height=400)"
   ]
  },
  {
   "cell_type": "markdown",
   "metadata": {
    "slideshow": {
     "slide_type": "slide"
    }
   },
   "source": [
    "\"This approach contrasts with other ways of looking at ecosystems, which use a 'hub' approach to rank species based on the number of other species that are directly linked to it through the food web ... The 'PageRank' way of looking at ecosystems makes the species that goes extinct first the most important because it would result in further extinctions down the line.\""
   ]
  },
  {
   "cell_type": "code",
   "execution_count": 26,
   "metadata": {
    "slideshow": {
     "slide_type": "slide"
    }
   },
   "outputs": [
    {
     "name": "stdout",
     "output_type": "stream",
     "text": [
      "{'abalone': 2,\n",
      " 'algae': 3,\n",
      " 'kelp': 4,\n",
      " 'large crabs': 1,\n",
      " 'large fish and octopus': 1,\n",
      " 'microscopic planktonic algae': 2,\n",
      " 'planktonic invertebrates': 2,\n",
      " 'sea otter': 1,\n",
      " 'sea stars': 2,\n",
      " 'sea urchins': 2,\n",
      " 'sessile invertebrates': 3,\n",
      " 'shark': 0,\n",
      " 'small herbivorous fishes': 2,\n",
      " 'smaller predatory fishes': 2}\n"
     ]
    }
   ],
   "source": [
    "in_degree = dict(G.in_degree)\n",
    "pprint(in_degree)"
   ]
  },
  {
   "cell_type": "code",
   "execution_count": 27,
   "metadata": {
    "slideshow": {
     "slide_type": "slide"
    }
   },
   "outputs": [],
   "source": [
    "for g in G.nodes():\n",
    "    G.nodes[g]['name'] = g\n",
    "    G.nodes[g]['in_degree'] = in_degree[g]\n",
    "\n",
    "hub_viz = nxa.draw_networkx(\n",
    "    G,\n",
    "    pos=pos,\n",
    "    node_tooltip=['name', 'in_degree'],\n",
    "    node_color='in_degree',\n",
    "    node_size='in_degree',\n",
    "    cmap='greens'\n",
    ")"
   ]
  },
  {
   "cell_type": "code",
   "execution_count": 28,
   "metadata": {
    "slideshow": {
     "slide_type": "slide"
    }
   },
   "outputs": [
    {
     "data": {
      "application/javascript": [
       "var spec = {\"config\": {\"view\": {\"width\": 400, \"height\": 300}, \"axis\": {\"domain\": false, \"grid\": false, \"labels\": false, \"ticks\": false}}, \"layer\": [{\"data\": {\"name\": \"data-794a3d937369719ae2010131dfb2651f\"}, \"mark\": {\"type\": \"line\", \"color\": \"black\", \"opacity\": 1, \"strokeWidth\": 1}, \"encoding\": {\"detail\": {\"type\": \"quantitative\", \"field\": \"edge\"}, \"x\": {\"type\": \"quantitative\", \"axis\": {\"title\": \"\"}, \"field\": \"x\"}, \"y\": {\"type\": \"quantitative\", \"axis\": {\"title\": \"\"}, \"field\": \"y\"}}, \"selection\": {\"selector002\": {\"type\": \"interval\", \"bind\": \"scales\", \"encodings\": [\"x\", \"y\"]}}}, {\"data\": {\"name\": \"data-7ed5fc7555be92af5bd0a663dcb4e4e3\"}, \"mark\": {\"type\": \"point\", \"opacity\": 1}, \"encoding\": {\"fill\": {\"type\": \"quantitative\", \"field\": \"in_degree\", \"scale\": {\"scheme\": \"greens\"}}, \"size\": {\"type\": \"quantitative\", \"field\": \"in_degree\", \"legend\": null}, \"tooltip\": [{\"type\": \"nominal\", \"field\": \"name\"}, {\"type\": \"quantitative\", \"field\": \"in_degree\"}], \"x\": {\"type\": \"quantitative\", \"field\": \"x\"}, \"y\": {\"type\": \"quantitative\", \"field\": \"y\"}}}], \"height\": 400, \"width\": 500, \"$schema\": \"https://vega.github.io/schema/vega-lite/v2.6.0.json\", \"datasets\": {\"data-794a3d937369719ae2010131dfb2651f\": [{\"target\": \"sea otter\", \"pair\": [\"shark\", \"sea otter\"], \"edge\": 0, \"y\": 0.9843382103335612, \"source\": \"shark\", \"x\": 0.5714613731300462}, {\"target\": \"sea otter\", \"pair\": [\"shark\", \"sea otter\"], \"edge\": 0, \"y\": 0.5848993265105852, \"source\": \"shark\", \"x\": 0.2640292950736184}, {\"target\": \"sea stars\", \"pair\": [\"sea otter\", \"sea stars\"], \"edge\": 1, \"y\": 0.5848993265105852, \"source\": \"sea otter\", \"x\": 0.2640292950736184}, {\"target\": \"sea stars\", \"pair\": [\"sea otter\", \"sea stars\"], \"edge\": 1, \"y\": 0.5234585044816067, \"source\": \"sea otter\", \"x\": -0.1984682593644018}, {\"target\": \"sea urchins\", \"pair\": [\"sea otter\", \"sea urchins\"], \"edge\": 2, \"y\": 0.5848993265105852, \"source\": \"sea otter\", \"x\": 0.2640292950736184}, {\"target\": \"sea urchins\", \"pair\": [\"sea otter\", \"sea urchins\"], \"edge\": 2, \"y\": 0.06388521263259717, \"source\": \"sea otter\", \"x\": -0.05910028486461733}, {\"target\": \"large crabs\", \"pair\": [\"sea otter\", \"large crabs\"], \"edge\": 3, \"y\": 0.5848993265105852, \"source\": \"sea otter\", \"x\": 0.2640292950736184}, {\"target\": \"large crabs\", \"pair\": [\"sea otter\", \"large crabs\"], \"edge\": 3, \"y\": 0.1422774450484726, \"source\": \"sea otter\", \"x\": 0.2873489186332857}, {\"target\": \"large fish and octopus\", \"pair\": [\"sea otter\", \"large fish and octopus\"], \"edge\": 4, \"y\": 0.5848993265105852, \"source\": \"sea otter\", \"x\": 0.2640292950736184}, {\"target\": \"large fish and octopus\", \"pair\": [\"sea otter\", \"large fish and octopus\"], \"edge\": 4, \"y\": 0.36817273162459657, \"source\": \"sea otter\", \"x\": -0.1789214984754659}, {\"target\": \"abalone\", \"pair\": [\"sea otter\", \"abalone\"], \"edge\": 5, \"y\": 0.5848993265105852, \"source\": \"sea otter\", \"x\": 0.2640292950736184}, {\"target\": \"abalone\", \"pair\": [\"sea otter\", \"abalone\"], \"edge\": 5, \"y\": 0.23851188861608733, \"source\": \"sea otter\", \"x\": -0.016727932397741205}, {\"target\": \"abalone\", \"pair\": [\"sea stars\", \"abalone\"], \"edge\": 6, \"y\": 0.5234585044816067, \"source\": \"sea stars\", \"x\": -0.1984682593644018}, {\"target\": \"abalone\", \"pair\": [\"sea stars\", \"abalone\"], \"edge\": 6, \"y\": 0.23851188861608733, \"source\": \"sea stars\", \"x\": -0.016727932397741205}, {\"target\": \"small herbivorous fishes\", \"pair\": [\"sea stars\", \"small herbivorous fishes\"], \"edge\": 7, \"y\": 0.5234585044816067, \"source\": \"sea stars\", \"x\": -0.1984682593644018}, {\"target\": \"small herbivorous fishes\", \"pair\": [\"sea stars\", \"small herbivorous fishes\"], \"edge\": 7, \"y\": 0.004441139458085736, \"source\": \"sea stars\", \"x\": -0.2273083485344825}, {\"target\": \"sea urchins\", \"pair\": [\"sea stars\", \"sea urchins\"], \"edge\": 8, \"y\": 0.5234585044816067, \"source\": \"sea stars\", \"x\": -0.1984682593644018}, {\"target\": \"sea urchins\", \"pair\": [\"sea stars\", \"sea urchins\"], \"edge\": 8, \"y\": 0.06388521263259717, \"source\": \"sea stars\", \"x\": -0.05910028486461733}, {\"target\": \"kelp\", \"pair\": [\"sea urchins\", \"kelp\"], \"edge\": 9, \"y\": 0.06388521263259717, \"source\": \"sea urchins\", \"x\": -0.05910028486461733}, {\"target\": \"kelp\", \"pair\": [\"sea urchins\", \"kelp\"], \"edge\": 9, \"y\": -0.40551438696859315, \"source\": \"sea urchins\", \"x\": 0.015264987404012378}, {\"target\": \"sessile invertebrates\", \"pair\": [\"sea urchins\", \"sessile invertebrates\"], \"edge\": 10, \"y\": 0.06388521263259717, \"source\": \"sea urchins\", \"x\": -0.05910028486461733}, {\"target\": \"sessile invertebrates\", \"pair\": [\"sea urchins\", \"sessile invertebrates\"], \"edge\": 10, \"y\": -0.5160530393874284, \"source\": \"sea urchins\", \"x\": -0.00657817481221771}, {\"target\": \"algae\", \"pair\": [\"sea urchins\", \"algae\"], \"edge\": 11, \"y\": 0.06388521263259717, \"source\": \"sea urchins\", \"x\": -0.05910028486461733}, {\"target\": \"algae\", \"pair\": [\"sea urchins\", \"algae\"], \"edge\": 11, \"y\": -0.22653139002503797, \"source\": \"sea urchins\", \"x\": 0.3763959423756054}, {\"target\": \"sea stars\", \"pair\": [\"large crabs\", \"sea stars\"], \"edge\": 12, \"y\": 0.1422774450484726, \"source\": \"large crabs\", \"x\": 0.2873489186332857}, {\"target\": \"sea stars\", \"pair\": [\"large crabs\", \"sea stars\"], \"edge\": 12, \"y\": 0.5234585044816067, \"source\": \"large crabs\", \"x\": -0.1984682593644018}, {\"target\": \"smaller predatory fishes\", \"pair\": [\"large crabs\", \"smaller predatory fishes\"], \"edge\": 13, \"y\": 0.1422774450484726, \"source\": \"large crabs\", \"x\": 0.2873489186332857}, {\"target\": \"smaller predatory fishes\", \"pair\": [\"large crabs\", \"smaller predatory fishes\"], \"edge\": 13, \"y\": -0.12473349226880469, \"source\": \"large crabs\", \"x\": -0.21788121180083253}, {\"target\": \"algae\", \"pair\": [\"large crabs\", \"algae\"], \"edge\": 14, \"y\": 0.1422774450484726, \"source\": \"large crabs\", \"x\": 0.2873489186332857}, {\"target\": \"algae\", \"pair\": [\"large crabs\", \"algae\"], \"edge\": 14, \"y\": -0.22653139002503797, \"source\": \"large crabs\", \"x\": 0.3763959423756054}, {\"target\": \"small herbivorous fishes\", \"pair\": [\"large crabs\", \"small herbivorous fishes\"], \"edge\": 15, \"y\": 0.1422774450484726, \"source\": \"large crabs\", \"x\": 0.2873489186332857}, {\"target\": \"small herbivorous fishes\", \"pair\": [\"large crabs\", \"small herbivorous fishes\"], \"edge\": 15, \"y\": 0.004441139458085736, \"source\": \"large crabs\", \"x\": -0.2273083485344825}, {\"target\": \"kelp\", \"pair\": [\"large crabs\", \"kelp\"], \"edge\": 16, \"y\": 0.1422774450484726, \"source\": \"large crabs\", \"x\": 0.2873489186332857}, {\"target\": \"kelp\", \"pair\": [\"large crabs\", \"kelp\"], \"edge\": 16, \"y\": -0.40551438696859315, \"source\": \"large crabs\", \"x\": 0.015264987404012378}, {\"target\": \"smaller predatory fishes\", \"pair\": [\"large fish and octopus\", \"smaller predatory fishes\"], \"edge\": 17, \"y\": 0.36817273162459657, \"source\": \"large fish and octopus\", \"x\": -0.1789214984754659}, {\"target\": \"smaller predatory fishes\", \"pair\": [\"large fish and octopus\", \"smaller predatory fishes\"], \"edge\": 17, \"y\": -0.12473349226880469, \"source\": \"large fish and octopus\", \"x\": -0.21788121180083253}, {\"target\": \"algae\", \"pair\": [\"abalone\", \"algae\"], \"edge\": 18, \"y\": 0.23851188861608733, \"source\": \"abalone\", \"x\": -0.016727932397741205}, {\"target\": \"algae\", \"pair\": [\"abalone\", \"algae\"], \"edge\": 18, \"y\": -0.22653139002503797, \"source\": \"abalone\", \"x\": 0.3763959423756054}, {\"target\": \"kelp\", \"pair\": [\"small herbivorous fishes\", \"kelp\"], \"edge\": 19, \"y\": 0.004441139458085736, \"source\": \"small herbivorous fishes\", \"x\": -0.2273083485344825}, {\"target\": \"kelp\", \"pair\": [\"small herbivorous fishes\", \"kelp\"], \"edge\": 19, \"y\": -0.40551438696859315, \"source\": \"small herbivorous fishes\", \"x\": 0.015264987404012378}, {\"target\": \"microscopic planktonic algae\", \"pair\": [\"sessile invertebrates\", \"microscopic planktonic algae\"], \"edge\": 20, \"y\": -0.5160530393874284, \"source\": \"sessile invertebrates\", \"x\": -0.00657817481221771}, {\"target\": \"microscopic planktonic algae\", \"pair\": [\"sessile invertebrates\", \"microscopic planktonic algae\"], \"edge\": 20, \"y\": -1.0, \"source\": \"sessile invertebrates\", \"x\": -0.14307761557785512}, {\"target\": \"planktonic invertebrates\", \"pair\": [\"sessile invertebrates\", \"planktonic invertebrates\"], \"edge\": 21, \"y\": -0.5160530393874284, \"source\": \"sessile invertebrates\", \"x\": -0.00657817481221771}, {\"target\": \"planktonic invertebrates\", \"pair\": [\"sessile invertebrates\", \"planktonic invertebrates\"], \"edge\": 21, \"y\": -0.6371521500557277, \"source\": \"sessile invertebrates\", \"x\": -0.4664371907889541}, {\"target\": \"kelp\", \"pair\": [\"algae\", \"kelp\"], \"edge\": 22, \"y\": -0.22653139002503797, \"source\": \"algae\", \"x\": 0.3763959423756054}, {\"target\": \"kelp\", \"pair\": [\"algae\", \"kelp\"], \"edge\": 22, \"y\": -0.40551438696859315, \"source\": \"algae\", \"x\": 0.015264987404012378}, {\"target\": \"sessile invertebrates\", \"pair\": [\"algae\", \"sessile invertebrates\"], \"edge\": 23, \"y\": -0.22653139002503797, \"source\": \"algae\", \"x\": 0.3763959423756054}, {\"target\": \"sessile invertebrates\", \"pair\": [\"algae\", \"sessile invertebrates\"], \"edge\": 23, \"y\": -0.5160530393874284, \"source\": \"algae\", \"x\": -0.00657817481221771}, {\"target\": \"sessile invertebrates\", \"pair\": [\"smaller predatory fishes\", \"sessile invertebrates\"], \"edge\": 24, \"y\": -0.12473349226880469, \"source\": \"smaller predatory fishes\", \"x\": -0.21788121180083253}, {\"target\": \"sessile invertebrates\", \"pair\": [\"smaller predatory fishes\", \"sessile invertebrates\"], \"edge\": 24, \"y\": -0.5160530393874284, \"source\": \"smaller predatory fishes\", \"x\": -0.00657817481221771}, {\"target\": \"planktonic invertebrates\", \"pair\": [\"smaller predatory fishes\", \"planktonic invertebrates\"], \"edge\": 25, \"y\": -0.12473349226880469, \"source\": \"smaller predatory fishes\", \"x\": -0.21788121180083253}, {\"target\": \"planktonic invertebrates\", \"pair\": [\"smaller predatory fishes\", \"planktonic invertebrates\"], \"edge\": 25, \"y\": -0.6371521500557277, \"source\": \"smaller predatory fishes\", \"x\": -0.4664371907889541}, {\"target\": \"microscopic planktonic algae\", \"pair\": [\"planktonic invertebrates\", \"microscopic planktonic algae\"], \"edge\": 26, \"y\": -0.6371521500557277, \"source\": \"planktonic invertebrates\", \"x\": -0.4664371907889541}, {\"target\": \"microscopic planktonic algae\", \"pair\": [\"planktonic invertebrates\", \"microscopic planktonic algae\"], \"edge\": 26, \"y\": -1.0, \"source\": \"planktonic invertebrates\", \"x\": -0.14307761557785512}], \"data-7ed5fc7555be92af5bd0a663dcb4e4e3\": [{\"in_degree\": 0, \"pagerank\": 0.0282, \"y\": 0.9843382103335612, \"x\": 0.5714613731300462, \"name\": \"shark\"}, {\"in_degree\": 1, \"pagerank\": 0.0522, \"y\": 0.5848993265105852, \"x\": 0.2640292950736184, \"name\": \"sea otter\"}, {\"in_degree\": 2, \"pagerank\": 0.0434, \"y\": 0.5234585044816067, \"x\": -0.1984682593644018, \"name\": \"sea stars\"}, {\"in_degree\": 2, \"pagerank\": 0.0494, \"y\": 0.06388521263259717, \"x\": -0.05910028486461733, \"name\": \"sea urchins\"}, {\"in_degree\": 1, \"pagerank\": 0.0371, \"y\": 0.1422774450484726, \"x\": 0.2873489186332857, \"name\": \"large crabs\"}, {\"in_degree\": 1, \"pagerank\": 0.0371, \"y\": 0.36817273162459657, \"x\": -0.1789214984754659, \"name\": \"large fish and octopus\"}, {\"in_degree\": 2, \"pagerank\": 0.0494, \"y\": 0.23851188861608733, \"x\": -0.016727932397741205, \"name\": \"abalone\"}, {\"in_degree\": 2, \"pagerank\": 0.0468, \"y\": 0.004441139458085736, \"x\": -0.2273083485344825, \"name\": \"small herbivorous fishes\"}, {\"in_degree\": 4, \"pagerank\": 0.1268, \"y\": -0.40551438696859315, \"x\": 0.015264987404012378, \"name\": \"kelp\"}, {\"in_degree\": 3, \"pagerank\": 0.1088, \"y\": -0.5160530393874284, \"x\": -0.00657817481221771, \"name\": \"sessile invertebrates\"}, {\"in_degree\": 3, \"pagerank\": 0.0905, \"y\": -0.22653139002503797, \"x\": 0.3763959423756054, \"name\": \"algae\"}, {\"in_degree\": 2, \"pagerank\": 0.0661, \"y\": -0.12473349226880469, \"x\": -0.21788121180083253, \"name\": \"smaller predatory fishes\"}, {\"in_degree\": 2, \"pagerank\": 0.1025, \"y\": -0.6371521500557277, \"x\": -0.4664371907889541, \"name\": \"planktonic invertebrates\"}, {\"in_degree\": 2, \"pagerank\": 0.1616, \"y\": -1.0, \"x\": -0.14307761557785512, \"name\": \"microscopic planktonic algae\"}]}};\n",
       "var opt = {};\n",
       "var type = \"vega-lite\";\n",
       "var id = \"f0f8c771-3fab-4f21-b5dc-0938fa19578e\";\n",
       "\n",
       "var output_area = this;\n",
       "\n",
       "require([\"nbextensions/jupyter-vega/index\"], function(vega) {\n",
       "  var target = document.createElement(\"div\");\n",
       "  target.id = id;\n",
       "  target.className = \"vega-embed\";\n",
       "\n",
       "  var style = document.createElement(\"style\");\n",
       "  style.textContent = [\n",
       "    \".vega-embed .error p {\",\n",
       "    \"  color: firebrick;\",\n",
       "    \"  font-size: 14px;\",\n",
       "    \"}\",\n",
       "  ].join(\"\\\\n\");\n",
       "\n",
       "  // element is a jQuery wrapped DOM element inside the output area\n",
       "  // see http://ipython.readthedocs.io/en/stable/api/generated/\\\n",
       "  // IPython.display.html#IPython.display.Javascript.__init__\n",
       "  element[0].appendChild(target);\n",
       "  element[0].appendChild(style);\n",
       "\n",
       "  vega.render(\"#\" + id, spec, type, opt, output_area);\n",
       "}, function (err) {\n",
       "  if (err.requireType !== \"scripterror\") {\n",
       "    throw(err);\n",
       "  }\n",
       "});\n"
      ],
      "text/plain": [
       "<vega.vegalite.VegaLite at 0xa3aa3f438>"
      ]
     },
     "metadata": {
      "jupyter-vega": "#f0f8c771-3fab-4f21-b5dc-0938fa19578e"
     },
     "output_type": "display_data"
    },
    {
     "data": {
      "text/plain": []
     },
     "execution_count": 28,
     "metadata": {},
     "output_type": "execute_result"
    },
    {
     "data": {
      "image/png": "[encoded data removed]"
     },
     "metadata": {
      "jupyter-vega": "#f0f8c771-3fab-4f21-b5dc-0938fa19578e"
     },
     "output_type": "display_data"
    }
   ],
   "source": [
    "hub_viz.interactive().properties(width=500, height=400)"
   ]
  },
  {
   "cell_type": "markdown",
   "metadata": {
    "slideshow": {
     "slide_type": "slide"
    }
   },
   "source": [
    "![](images/whales.png)"
   ]
  },
  {
   "cell_type": "markdown",
   "metadata": {
    "slideshow": {
     "slide_type": "slide"
    }
   },
   "source": [
    "![](images/captain.gif)"
   ]
  },
  {
   "cell_type": "markdown",
   "metadata": {
    "slideshow": {
     "slide_type": "slide"
    }
   },
   "source": [
    "![](images/fantasy.png)"
   ]
  },
  {
   "cell_type": "markdown",
   "metadata": {
    "slideshow": {
     "slide_type": "slide"
    }
   },
   "source": [
    "![](images/blotto.png)"
   ]
  },
  {
   "cell_type": "markdown",
   "metadata": {
    "slideshow": {
     "slide_type": "slide"
    }
   },
   "source": [
    "![](images/blotto2.png)"
   ]
  },
  {
   "cell_type": "markdown",
   "metadata": {
    "slideshow": {
     "slide_type": "fragment"
    }
   },
   "source": [
    "> adding battlefields increases the number of interactions (dimensions) and improves the chances of an upset. "
   ]
  },
  {
   "cell_type": "markdown",
   "metadata": {
    "slideshow": {
     "slide_type": "slide"
    }
   },
   "source": [
    "![](images/fantasy_settings.png)"
   ]
  },
  {
   "cell_type": "markdown",
   "metadata": {
    "slideshow": {
     "slide_type": "slide"
    }
   },
   "source": [
    "![](images/nhl_blotto.png)"
   ]
  },
  {
   "cell_type": "markdown",
   "metadata": {
    "slideshow": {
     "slide_type": "slide"
    }
   },
   "source": [
    "![](images/adp.png)"
   ]
  },
  {
   "cell_type": "markdown",
   "metadata": {
    "slideshow": {
     "slide_type": "slide"
    }
   },
   "source": [
    "![](images/jime.jpg)"
   ]
  },
  {
   "cell_type": "code",
   "execution_count": 29,
   "metadata": {
    "slideshow": {
     "slide_type": "slide"
    }
   },
   "outputs": [],
   "source": [
    "import pandas as pd\n",
    "\n",
    "CATEGORIES = [\n",
    "    'goals',\n",
    "    'assists',\n",
    "    'plus_minus',\n",
    "    'powerplay_points',\n",
    "    'shots_on_goal',\n",
    "    'hits',\n",
    "    'blocks',\n",
    "    'wins',\n",
    "    'goals_against_average',\n",
    "    'saves',\n",
    "    'save_percentage',\n",
    "    'shutouts'\n",
    "]\n",
    "\n",
    "raw = pd.read_csv('data/nhl_draft_2018.csv')\n",
    "df = raw.copy()"
   ]
  },
  {
   "cell_type": "code",
   "execution_count": 30,
   "metadata": {
    "scrolled": true,
    "slideshow": {
     "slide_type": "slide"
    }
   },
   "outputs": [
    {
     "data": {
      "text/html": [
       "<div>\n",
       "<style scoped>\n",
       "    .dataframe tbody tr th:only-of-type {\n",
       "        vertical-align: middle;\n",
       "    }\n",
       "\n",
       "    .dataframe tbody tr th {\n",
       "        vertical-align: top;\n",
       "    }\n",
       "\n",
       "    .dataframe thead th {\n",
       "        text-align: right;\n",
       "    }\n",
       "</style>\n",
       "<table border=\"1\" class=\"dataframe\">\n",
       "  <thead>\n",
       "    <tr style=\"text-align: right;\">\n",
       "      <th></th>\n",
       "      <th>name</th>\n",
       "      <th>position</th>\n",
       "      <th>adp</th>\n",
       "      <th>goals</th>\n",
       "      <th>assists</th>\n",
       "      <th>plus_minus</th>\n",
       "      <th>powerplay_points</th>\n",
       "      <th>shots_on_goal</th>\n",
       "      <th>hits</th>\n",
       "      <th>blocks</th>\n",
       "      <th>wins</th>\n",
       "      <th>goals_against_average</th>\n",
       "      <th>saves</th>\n",
       "      <th>save_percentage</th>\n",
       "      <th>shutouts</th>\n",
       "    </tr>\n",
       "  </thead>\n",
       "  <tbody>\n",
       "    <tr>\n",
       "      <th>114</th>\n",
       "      <td>T.J. Oshie</td>\n",
       "      <td>RW</td>\n",
       "      <td>120.0</td>\n",
       "      <td>22.3825</td>\n",
       "      <td>32.615000</td>\n",
       "      <td>15.1700</td>\n",
       "      <td>15.250000</td>\n",
       "      <td>115.75</td>\n",
       "      <td>59.25</td>\n",
       "      <td>27.500000</td>\n",
       "      <td>0.0000</td>\n",
       "      <td>0.0000</td>\n",
       "      <td>0.0000</td>\n",
       "      <td>0.00000</td>\n",
       "      <td>0.0000</td>\n",
       "    </tr>\n",
       "    <tr>\n",
       "      <th>85</th>\n",
       "      <td>Tyson Barrie</td>\n",
       "      <td>D</td>\n",
       "      <td>88.0</td>\n",
       "      <td>14.3450</td>\n",
       "      <td>44.637500</td>\n",
       "      <td>-9.8625</td>\n",
       "      <td>23.250000</td>\n",
       "      <td>139.50</td>\n",
       "      <td>18.50</td>\n",
       "      <td>40.000000</td>\n",
       "      <td>0.0000</td>\n",
       "      <td>0.0000</td>\n",
       "      <td>0.0000</td>\n",
       "      <td>0.00000</td>\n",
       "      <td>0.0000</td>\n",
       "    </tr>\n",
       "    <tr>\n",
       "      <th>97</th>\n",
       "      <td>Morgan Rielly</td>\n",
       "      <td>D</td>\n",
       "      <td>102.0</td>\n",
       "      <td>7.6025</td>\n",
       "      <td>45.715000</td>\n",
       "      <td>6.8000</td>\n",
       "      <td>20.750000</td>\n",
       "      <td>132.50</td>\n",
       "      <td>24.75</td>\n",
       "      <td>52.000000</td>\n",
       "      <td>0.0000</td>\n",
       "      <td>0.0000</td>\n",
       "      <td>0.0000</td>\n",
       "      <td>0.00000</td>\n",
       "      <td>0.0000</td>\n",
       "    </tr>\n",
       "    <tr>\n",
       "      <th>160</th>\n",
       "      <td>Dustin Brown</td>\n",
       "      <td>RW</td>\n",
       "      <td>168.0</td>\n",
       "      <td>23.8975</td>\n",
       "      <td>28.967500</td>\n",
       "      <td>5.8775</td>\n",
       "      <td>8.250000</td>\n",
       "      <td>158.25</td>\n",
       "      <td>103.75</td>\n",
       "      <td>14.500000</td>\n",
       "      <td>0.0000</td>\n",
       "      <td>0.0000</td>\n",
       "      <td>0.0000</td>\n",
       "      <td>0.00000</td>\n",
       "      <td>0.0000</td>\n",
       "    </tr>\n",
       "    <tr>\n",
       "      <th>35</th>\n",
       "      <td>Frederik Andersen</td>\n",
       "      <td>G</td>\n",
       "      <td>36.0</td>\n",
       "      <td>0.0000</td>\n",
       "      <td>0.000000</td>\n",
       "      <td>0.0000</td>\n",
       "      <td>0.000000</td>\n",
       "      <td>0.00</td>\n",
       "      <td>0.00</td>\n",
       "      <td>0.000000</td>\n",
       "      <td>37.1575</td>\n",
       "      <td>2.6375</td>\n",
       "      <td>884.5525</td>\n",
       "      <td>0.91725</td>\n",
       "      <td>2.9625</td>\n",
       "    </tr>\n",
       "    <tr>\n",
       "      <th>54</th>\n",
       "      <td>Jonathan Marchessault</td>\n",
       "      <td>C</td>\n",
       "      <td>55.0</td>\n",
       "      <td>30.5600</td>\n",
       "      <td>42.833333</td>\n",
       "      <td>19.2800</td>\n",
       "      <td>12.333333</td>\n",
       "      <td>168.00</td>\n",
       "      <td>69.00</td>\n",
       "      <td>14.666667</td>\n",
       "      <td>0.0000</td>\n",
       "      <td>0.0000</td>\n",
       "      <td>0.0000</td>\n",
       "      <td>0.00000</td>\n",
       "      <td>0.0000</td>\n",
       "    </tr>\n",
       "    <tr>\n",
       "      <th>124</th>\n",
       "      <td>Sean Couturier</td>\n",
       "      <td>C</td>\n",
       "      <td>131.0</td>\n",
       "      <td>21.1325</td>\n",
       "      <td>30.895000</td>\n",
       "      <td>11.4575</td>\n",
       "      <td>9.750000</td>\n",
       "      <td>157.25</td>\n",
       "      <td>28.75</td>\n",
       "      <td>20.500000</td>\n",
       "      <td>0.0000</td>\n",
       "      <td>0.0000</td>\n",
       "      <td>0.0000</td>\n",
       "      <td>0.00000</td>\n",
       "      <td>0.0000</td>\n",
       "    </tr>\n",
       "    <tr>\n",
       "      <th>19</th>\n",
       "      <td>Brent Burns</td>\n",
       "      <td>D</td>\n",
       "      <td>20.0</td>\n",
       "      <td>18.0700</td>\n",
       "      <td>50.690000</td>\n",
       "      <td>0.8725</td>\n",
       "      <td>24.250000</td>\n",
       "      <td>234.75</td>\n",
       "      <td>41.25</td>\n",
       "      <td>70.250000</td>\n",
       "      <td>0.0000</td>\n",
       "      <td>0.0000</td>\n",
       "      <td>0.0000</td>\n",
       "      <td>0.00000</td>\n",
       "      <td>0.0000</td>\n",
       "    </tr>\n",
       "    <tr>\n",
       "      <th>108</th>\n",
       "      <td>Reilly Smith</td>\n",
       "      <td>LW</td>\n",
       "      <td>114.0</td>\n",
       "      <td>24.6100</td>\n",
       "      <td>38.962500</td>\n",
       "      <td>22.7675</td>\n",
       "      <td>11.250000</td>\n",
       "      <td>139.50</td>\n",
       "      <td>27.00</td>\n",
       "      <td>14.750000</td>\n",
       "      <td>0.0000</td>\n",
       "      <td>0.0000</td>\n",
       "      <td>0.0000</td>\n",
       "      <td>0.00000</td>\n",
       "      <td>0.0000</td>\n",
       "    </tr>\n",
       "    <tr>\n",
       "      <th>125</th>\n",
       "      <td>Antti Raanta</td>\n",
       "      <td>G</td>\n",
       "      <td>132.0</td>\n",
       "      <td>0.0000</td>\n",
       "      <td>0.000000</td>\n",
       "      <td>0.0000</td>\n",
       "      <td>0.000000</td>\n",
       "      <td>0.00</td>\n",
       "      <td>0.00</td>\n",
       "      <td>0.000000</td>\n",
       "      <td>24.8825</td>\n",
       "      <td>2.4450</td>\n",
       "      <td>769.2125</td>\n",
       "      <td>0.91950</td>\n",
       "      <td>3.5450</td>\n",
       "    </tr>\n",
       "  </tbody>\n",
       "</table>\n",
       "</div>"
      ],
      "text/plain": [
       "                      name position    adp    goals    assists  plus_minus  \\\n",
       "114             T.J. Oshie       RW  120.0  22.3825  32.615000     15.1700   \n",
       "85            Tyson Barrie        D   88.0  14.3450  44.637500     -9.8625   \n",
       "97           Morgan Rielly        D  102.0   7.6025  45.715000      6.8000   \n",
       "160           Dustin Brown       RW  168.0  23.8975  28.967500      5.8775   \n",
       "35       Frederik Andersen        G   36.0   0.0000   0.000000      0.0000   \n",
       "54   Jonathan Marchessault        C   55.0  30.5600  42.833333     19.2800   \n",
       "124         Sean Couturier        C  131.0  21.1325  30.895000     11.4575   \n",
       "19             Brent Burns        D   20.0  18.0700  50.690000      0.8725   \n",
       "108           Reilly Smith       LW  114.0  24.6100  38.962500     22.7675   \n",
       "125           Antti Raanta        G  132.0   0.0000   0.000000      0.0000   \n",
       "\n",
       "     powerplay_points  shots_on_goal    hits     blocks     wins  \\\n",
       "114         15.250000         115.75   59.25  27.500000   0.0000   \n",
       "85          23.250000         139.50   18.50  40.000000   0.0000   \n",
       "97          20.750000         132.50   24.75  52.000000   0.0000   \n",
       "160          8.250000         158.25  103.75  14.500000   0.0000   \n",
       "35           0.000000           0.00    0.00   0.000000  37.1575   \n",
       "54          12.333333         168.00   69.00  14.666667   0.0000   \n",
       "124          9.750000         157.25   28.75  20.500000   0.0000   \n",
       "19          24.250000         234.75   41.25  70.250000   0.0000   \n",
       "108         11.250000         139.50   27.00  14.750000   0.0000   \n",
       "125          0.000000           0.00    0.00   0.000000  24.8825   \n",
       "\n",
       "     goals_against_average     saves  save_percentage  shutouts  \n",
       "114                 0.0000    0.0000          0.00000    0.0000  \n",
       "85                  0.0000    0.0000          0.00000    0.0000  \n",
       "97                  0.0000    0.0000          0.00000    0.0000  \n",
       "160                 0.0000    0.0000          0.00000    0.0000  \n",
       "35                  2.6375  884.5525          0.91725    2.9625  \n",
       "54                  0.0000    0.0000          0.00000    0.0000  \n",
       "124                 0.0000    0.0000          0.00000    0.0000  \n",
       "19                  0.0000    0.0000          0.00000    0.0000  \n",
       "108                 0.0000    0.0000          0.00000    0.0000  \n",
       "125                 2.4450  769.2125          0.91950    3.5450  "
      ]
     },
     "execution_count": 30,
     "metadata": {},
     "output_type": "execute_result"
    }
   ],
   "source": [
    "import numpy as np \n",
    "\n",
    "np.random.seed(1)\n",
    "df.sample(10)"
   ]
  },
  {
   "cell_type": "code",
   "execution_count": 31,
   "metadata": {
    "slideshow": {
     "slide_type": "slide"
    }
   },
   "outputs": [],
   "source": [
    "from sklearn.model_selection import train_test_split \n",
    "\n",
    "target = 'adp'\n",
    "\n",
    "y = df[target].values\n",
    "X = df.drop(target, axis=1)\n",
    "\n",
    "X_train, X_test, y_train, y_test = train_test_split(X, y, test_size=0.20)"
   ]
  },
  {
   "cell_type": "code",
   "execution_count": 32,
   "metadata": {
    "slideshow": {
     "slide_type": "slide"
    }
   },
   "outputs": [],
   "source": [
    "from sklearn.preprocessing import LabelBinarizer, StandardScaler\n",
    "from sklearn_pandas import DataFrameMapper\n",
    "\n",
    "mapper = DataFrameMapper([\n",
    "    ('position', LabelBinarizer()),\n",
    "    (['goals'], StandardScaler()),\n",
    "    (['assists'], StandardScaler()),\n",
    "    (['plus_minus'], StandardScaler()),\n",
    "    (['powerplay_points'], StandardScaler()),\n",
    "    (['shots_on_goal'], StandardScaler()),\n",
    "    (['hits'], StandardScaler()),\n",
    "    (['blocks'], StandardScaler()),\n",
    "    (['wins'], StandardScaler()),\n",
    "    (['goals_against_average'], StandardScaler()),\n",
    "    (['saves'], StandardScaler()),\n",
    "    (['save_percentage'], StandardScaler()),\n",
    "    (['shutouts'], StandardScaler())\n",
    "], df_out=True)\n",
    "\n",
    "X_train = mapper.fit_transform(X_train)\n",
    "X_test = mapper.transform(X_test)"
   ]
  },
  {
   "cell_type": "code",
   "execution_count": 33,
   "metadata": {
    "slideshow": {
     "slide_type": "slide"
    }
   },
   "outputs": [
    {
     "data": {
      "text/plain": [
       "array([ 58.98562858, 111.85216118, 137.73149763, 122.46993907,\n",
       "        50.0146501 ,  95.60675443,  89.65006282,  -0.88417031,\n",
       "       175.05231979, 109.94944423])"
      ]
     },
     "execution_count": 33,
     "metadata": {},
     "output_type": "execute_result"
    }
   ],
   "source": [
    "from sklearn.linear_model import LinearRegression\n",
    "\n",
    "lr = LinearRegression()\n",
    "\n",
    "lr.fit(X_train, y_train)\n",
    "\n",
    "lr.predict(X_test)[:10]"
   ]
  },
  {
   "cell_type": "markdown",
   "metadata": {
    "slideshow": {
     "slide_type": "fragment"
    }
   },
   "source": [
    "# 🙅🏻‍♀️"
   ]
  },
  {
   "cell_type": "code",
   "execution_count": 34,
   "metadata": {
    "slideshow": {
     "slide_type": "slide"
    }
   },
   "outputs": [
    {
     "data": {
      "text/plain": [
       "array([ 45., 105., 139., 117.,  64.])"
      ]
     },
     "execution_count": 34,
     "metadata": {},
     "output_type": "execute_result"
    }
   ],
   "source": [
    "#!pip install mord\n",
    "\n",
    "import mord\n",
    "\n",
    "model = mord.OrdinalRidge(fit_intercept=False)\n",
    "\n",
    "model.fit(X_train, y_train)\n",
    "\n",
    "model.predict(X_test)[:5]"
   ]
  },
  {
   "cell_type": "code",
   "execution_count": 35,
   "metadata": {
    "slideshow": {
     "slide_type": "slide"
    }
   },
   "outputs": [
    {
     "data": {
      "text/html": [
       "<div>\n",
       "<style scoped>\n",
       "    .dataframe tbody tr th:only-of-type {\n",
       "        vertical-align: middle;\n",
       "    }\n",
       "\n",
       "    .dataframe tbody tr th {\n",
       "        vertical-align: top;\n",
       "    }\n",
       "\n",
       "    .dataframe thead th {\n",
       "        text-align: right;\n",
       "    }\n",
       "</style>\n",
       "<table border=\"1\" class=\"dataframe\">\n",
       "  <thead>\n",
       "    <tr style=\"text-align: right;\">\n",
       "      <th></th>\n",
       "      <th>true</th>\n",
       "      <th>pred</th>\n",
       "    </tr>\n",
       "  </thead>\n",
       "  <tbody>\n",
       "    <tr>\n",
       "      <th>0</th>\n",
       "      <td>50.0</td>\n",
       "      <td>45.0</td>\n",
       "    </tr>\n",
       "    <tr>\n",
       "      <th>1</th>\n",
       "      <td>73.0</td>\n",
       "      <td>105.0</td>\n",
       "    </tr>\n",
       "    <tr>\n",
       "      <th>2</th>\n",
       "      <td>109.0</td>\n",
       "      <td>139.0</td>\n",
       "    </tr>\n",
       "    <tr>\n",
       "      <th>3</th>\n",
       "      <td>107.0</td>\n",
       "      <td>117.0</td>\n",
       "    </tr>\n",
       "    <tr>\n",
       "      <th>4</th>\n",
       "      <td>78.0</td>\n",
       "      <td>64.0</td>\n",
       "    </tr>\n",
       "  </tbody>\n",
       "</table>\n",
       "</div>"
      ],
      "text/plain": [
       "    true   pred\n",
       "0   50.0   45.0\n",
       "1   73.0  105.0\n",
       "2  109.0  139.0\n",
       "3  107.0  117.0\n",
       "4   78.0   64.0"
      ]
     },
     "execution_count": 35,
     "metadata": {},
     "output_type": "execute_result"
    }
   ],
   "source": [
    "compare = pd.DataFrame({\n",
    "    'true': y_test,\n",
    "    'pred': model.predict(X_test)\n",
    "})\n",
    "\n",
    "compare.head()"
   ]
  },
  {
   "cell_type": "code",
   "execution_count": 36,
   "metadata": {
    "slideshow": {
     "slide_type": "slide"
    }
   },
   "outputs": [
    {
     "data": {
      "application/javascript": [
       "var spec = {\"config\": {\"view\": {\"width\": 400, \"height\": 300}}, \"data\": {\"name\": \"data-4aba56006713d9a73e852985597a4a43\"}, \"mark\": \"point\", \"encoding\": {\"x\": {\"type\": \"quantitative\", \"field\": \"true\"}, \"y\": {\"type\": \"quantitative\", \"field\": \"pred\"}}, \"$schema\": \"https://vega.github.io/schema/vega-lite/v2.6.0.json\", \"datasets\": {\"data-4aba56006713d9a73e852985597a4a43\": [{\"true\": 50.0, \"pred\": 45.0}, {\"true\": 73.0, \"pred\": 105.0}, {\"true\": 109.0, \"pred\": 139.0}, {\"true\": 107.0, \"pred\": 117.0}, {\"true\": 78.0, \"pred\": 64.0}, {\"true\": 53.0, \"pred\": 90.0}, {\"true\": 132.0, \"pred\": 75.0}, {\"true\": 12.0, \"pred\": 0.0}, {\"true\": 154.0, \"pred\": 169.0}, {\"true\": 121.0, \"pred\": 97.0}, {\"true\": 173.0, \"pred\": 135.0}, {\"true\": 102.0, \"pred\": 88.0}, {\"true\": 133.0, \"pred\": 126.0}, {\"true\": 167.0, \"pred\": 163.0}, {\"true\": 100.0, \"pred\": 88.0}, {\"true\": 68.0, \"pred\": 63.0}, {\"true\": 5.0, \"pred\": 0.0}, {\"true\": 14.0, \"pred\": 21.0}, {\"true\": 66.0, \"pred\": 39.0}, {\"true\": 88.0, \"pred\": 77.0}, {\"true\": 70.0, \"pred\": 99.0}, {\"true\": 153.0, \"pred\": 153.0}, {\"true\": 199.0, \"pred\": 168.0}, {\"true\": 161.0, \"pred\": 161.0}, {\"true\": 96.0, \"pred\": 60.0}, {\"true\": 7.0, \"pred\": 27.0}, {\"true\": 101.0, \"pred\": 99.0}, {\"true\": 178.0, \"pred\": 195.0}, {\"true\": 3.0, \"pred\": 0.0}, {\"true\": 95.0, \"pred\": 81.0}, {\"true\": 123.0, \"pred\": 114.0}, {\"true\": 111.0, \"pred\": 101.0}, {\"true\": 37.0, \"pred\": 0.0}, {\"true\": 145.0, \"pred\": 121.0}, {\"true\": 112.0, \"pred\": 111.0}, {\"true\": 186.0, \"pred\": 185.0}]}};\n",
       "var opt = {};\n",
       "var type = \"vega-lite\";\n",
       "var id = \"593b459a-b549-4e2d-9af7-c3ef08425531\";\n",
       "\n",
       "var output_area = this;\n",
       "\n",
       "require([\"nbextensions/jupyter-vega/index\"], function(vega) {\n",
       "  var target = document.createElement(\"div\");\n",
       "  target.id = id;\n",
       "  target.className = \"vega-embed\";\n",
       "\n",
       "  var style = document.createElement(\"style\");\n",
       "  style.textContent = [\n",
       "    \".vega-embed .error p {\",\n",
       "    \"  color: firebrick;\",\n",
       "    \"  font-size: 14px;\",\n",
       "    \"}\",\n",
       "  ].join(\"\\\\n\");\n",
       "\n",
       "  // element is a jQuery wrapped DOM element inside the output area\n",
       "  // see http://ipython.readthedocs.io/en/stable/api/generated/\\\n",
       "  // IPython.display.html#IPython.display.Javascript.__init__\n",
       "  element[0].appendChild(target);\n",
       "  element[0].appendChild(style);\n",
       "\n",
       "  vega.render(\"#\" + id, spec, type, opt, output_area);\n",
       "}, function (err) {\n",
       "  if (err.requireType !== \"scripterror\") {\n",
       "    throw(err);\n",
       "  }\n",
       "});\n"
      ],
      "text/plain": [
       "<vega.vegalite.VegaLite at 0x1a3c36d2b0>"
      ]
     },
     "metadata": {
      "jupyter-vega": "#593b459a-b549-4e2d-9af7-c3ef08425531"
     },
     "output_type": "display_data"
    },
    {
     "data": {
      "text/plain": []
     },
     "execution_count": 36,
     "metadata": {},
     "output_type": "execute_result"
    },
    {
     "data": {
      "image/png": "[encoded data removed]"
     },
     "metadata": {
      "jupyter-vega": "#593b459a-b549-4e2d-9af7-c3ef08425531"
     },
     "output_type": "display_data"
    }
   ],
   "source": [
    "import altair as alt\n",
    "alt.renderers.enable('notebook')\n",
    "\n",
    "(\n",
    "    alt.Chart(compare)\n",
    "    .mark_point()\n",
    "    .encode(\n",
    "        x='true', \n",
    "        y='pred'\n",
    "    )\n",
    ")"
   ]
  },
  {
   "cell_type": "code",
   "execution_count": 37,
   "metadata": {
    "slideshow": {
     "slide_type": "fragment"
    }
   },
   "outputs": [
    {
     "data": {
      "text/plain": [
       "0.8382371426085107"
      ]
     },
     "execution_count": 37,
     "metadata": {},
     "output_type": "execute_result"
    }
   ],
   "source": [
    "from sklearn.metrics import r2_score\n",
    "\n",
    "r2_score(compare['true'], compare['pred'])"
   ]
  },
  {
   "cell_type": "code",
   "execution_count": 38,
   "metadata": {
    "slideshow": {
     "slide_type": "slide"
    }
   },
   "outputs": [],
   "source": [
    "bias = pd.DataFrame({\n",
    "    'feature': mapper.transformed_names_,\n",
    "    'coef': model.coef_\n",
    "}).sort_values('coef')\n",
    "\n",
    "bias = bias[~bias.feature.str.contains('position')]"
   ]
  },
  {
   "cell_type": "code",
   "execution_count": 39,
   "metadata": {
    "slideshow": {
     "slide_type": "slide"
    }
   },
   "outputs": [
    {
     "data": {
      "text/html": [
       "<div>\n",
       "<style scoped>\n",
       "    .dataframe tbody tr th:only-of-type {\n",
       "        vertical-align: middle;\n",
       "    }\n",
       "\n",
       "    .dataframe tbody tr th {\n",
       "        vertical-align: top;\n",
       "    }\n",
       "\n",
       "    .dataframe thead th {\n",
       "        text-align: right;\n",
       "    }\n",
       "</style>\n",
       "<table border=\"1\" class=\"dataframe\">\n",
       "  <thead>\n",
       "    <tr style=\"text-align: right;\">\n",
       "      <th></th>\n",
       "      <th>feature</th>\n",
       "      <th>coef</th>\n",
       "    </tr>\n",
       "  </thead>\n",
       "  <tbody>\n",
       "    <tr>\n",
       "      <th>12</th>\n",
       "      <td>wins</td>\n",
       "      <td>-44.755466</td>\n",
       "    </tr>\n",
       "    <tr>\n",
       "      <th>5</th>\n",
       "      <td>goals</td>\n",
       "      <td>-35.614943</td>\n",
       "    </tr>\n",
       "    <tr>\n",
       "      <th>6</th>\n",
       "      <td>assists</td>\n",
       "      <td>-33.406105</td>\n",
       "    </tr>\n",
       "    <tr>\n",
       "      <th>9</th>\n",
       "      <td>shots_on_goal</td>\n",
       "      <td>-18.803191</td>\n",
       "    </tr>\n",
       "    <tr>\n",
       "      <th>16</th>\n",
       "      <td>shutouts</td>\n",
       "      <td>-16.977435</td>\n",
       "    </tr>\n",
       "    <tr>\n",
       "      <th>8</th>\n",
       "      <td>powerplay_points</td>\n",
       "      <td>-15.200296</td>\n",
       "    </tr>\n",
       "    <tr>\n",
       "      <th>13</th>\n",
       "      <td>goals_against_average</td>\n",
       "      <td>-10.403468</td>\n",
       "    </tr>\n",
       "    <tr>\n",
       "      <th>7</th>\n",
       "      <td>plus_minus</td>\n",
       "      <td>-7.260427</td>\n",
       "    </tr>\n",
       "    <tr>\n",
       "      <th>14</th>\n",
       "      <td>saves</td>\n",
       "      <td>-5.824131</td>\n",
       "    </tr>\n",
       "    <tr>\n",
       "      <th>10</th>\n",
       "      <td>hits</td>\n",
       "      <td>-5.062121</td>\n",
       "    </tr>\n",
       "    <tr>\n",
       "      <th>15</th>\n",
       "      <td>save_percentage</td>\n",
       "      <td>-3.811621</td>\n",
       "    </tr>\n",
       "    <tr>\n",
       "      <th>11</th>\n",
       "      <td>blocks</td>\n",
       "      <td>-3.203381</td>\n",
       "    </tr>\n",
       "  </tbody>\n",
       "</table>\n",
       "</div>"
      ],
      "text/plain": [
       "                  feature       coef\n",
       "12                   wins -44.755466\n",
       "5                   goals -35.614943\n",
       "6                 assists -33.406105\n",
       "9           shots_on_goal -18.803191\n",
       "16               shutouts -16.977435\n",
       "8        powerplay_points -15.200296\n",
       "13  goals_against_average -10.403468\n",
       "7              plus_minus  -7.260427\n",
       "14                  saves  -5.824131\n",
       "10                   hits  -5.062121\n",
       "15        save_percentage  -3.811621\n",
       "11                 blocks  -3.203381"
      ]
     },
     "execution_count": 39,
     "metadata": {},
     "output_type": "execute_result"
    }
   ],
   "source": [
    "bias"
   ]
  },
  {
   "cell_type": "markdown",
   "metadata": {
    "slideshow": {
     "slide_type": "fragment"
    }
   },
   "source": [
    "> Underdogs can change the odds of winning simply by changing the basis of competition.\n",
    "\n",
    "[Source](https://fs.blog/2010/07/colonel-blotto-game/)"
   ]
  },
  {
   "cell_type": "markdown",
   "metadata": {
    "slideshow": {
     "slide_type": "slide"
    }
   },
   "source": [
    "![](images/nhl_blotto.png)"
   ]
  },
  {
   "cell_type": "code",
   "execution_count": 40,
   "metadata": {
    "scrolled": true,
    "slideshow": {
     "slide_type": "slide"
    }
   },
   "outputs": [
    {
     "data": {
      "text/html": [
       "<div>\n",
       "<style scoped>\n",
       "    .dataframe tbody tr th:only-of-type {\n",
       "        vertical-align: middle;\n",
       "    }\n",
       "\n",
       "    .dataframe tbody tr th {\n",
       "        vertical-align: top;\n",
       "    }\n",
       "\n",
       "    .dataframe thead th {\n",
       "        text-align: right;\n",
       "    }\n",
       "</style>\n",
       "<table border=\"1\" class=\"dataframe\">\n",
       "  <thead>\n",
       "    <tr style=\"text-align: right;\">\n",
       "      <th></th>\n",
       "      <th>name</th>\n",
       "      <th>position</th>\n",
       "      <th>adp</th>\n",
       "      <th>goals</th>\n",
       "      <th>assists</th>\n",
       "      <th>plus_minus</th>\n",
       "      <th>powerplay_points</th>\n",
       "      <th>shots_on_goal</th>\n",
       "      <th>hits</th>\n",
       "      <th>blocks</th>\n",
       "      <th>wins</th>\n",
       "      <th>goals_against_average</th>\n",
       "      <th>saves</th>\n",
       "      <th>save_percentage</th>\n",
       "      <th>shutouts</th>\n",
       "    </tr>\n",
       "  </thead>\n",
       "  <tbody>\n",
       "    <tr>\n",
       "      <th>0</th>\n",
       "      <td>Connor McDavid</td>\n",
       "      <td>C</td>\n",
       "      <td>1.0</td>\n",
       "      <td>40.2750</td>\n",
       "      <td>69.665000</td>\n",
       "      <td>13.217500</td>\n",
       "      <td>19.75</td>\n",
       "      <td>208.250000</td>\n",
       "      <td>15.0</td>\n",
       "      <td>17.750000</td>\n",
       "      <td>0.0</td>\n",
       "      <td>0.0</td>\n",
       "      <td>0.0</td>\n",
       "      <td>0.0</td>\n",
       "      <td>0.0</td>\n",
       "    </tr>\n",
       "    <tr>\n",
       "      <th>1</th>\n",
       "      <td>Nikita Kucherov</td>\n",
       "      <td>RW</td>\n",
       "      <td>2.0</td>\n",
       "      <td>41.5150</td>\n",
       "      <td>56.670000</td>\n",
       "      <td>17.495000</td>\n",
       "      <td>28.50</td>\n",
       "      <td>214.750000</td>\n",
       "      <td>20.0</td>\n",
       "      <td>10.500000</td>\n",
       "      <td>0.0</td>\n",
       "      <td>0.0</td>\n",
       "      <td>0.0</td>\n",
       "      <td>0.0</td>\n",
       "      <td>0.0</td>\n",
       "    </tr>\n",
       "    <tr>\n",
       "      <th>2</th>\n",
       "      <td>Alex Ovechkin</td>\n",
       "      <td>LW</td>\n",
       "      <td>3.0</td>\n",
       "      <td>50.2300</td>\n",
       "      <td>39.236667</td>\n",
       "      <td>17.126667</td>\n",
       "      <td>21.00</td>\n",
       "      <td>245.666667</td>\n",
       "      <td>65.0</td>\n",
       "      <td>9.333333</td>\n",
       "      <td>0.0</td>\n",
       "      <td>0.0</td>\n",
       "      <td>0.0</td>\n",
       "      <td>0.0</td>\n",
       "      <td>0.0</td>\n",
       "    </tr>\n",
       "    <tr>\n",
       "      <th>3</th>\n",
       "      <td>Sidney Crosby</td>\n",
       "      <td>C</td>\n",
       "      <td>4.0</td>\n",
       "      <td>35.7775</td>\n",
       "      <td>62.445000</td>\n",
       "      <td>14.142500</td>\n",
       "      <td>28.75</td>\n",
       "      <td>197.500000</td>\n",
       "      <td>34.0</td>\n",
       "      <td>15.750000</td>\n",
       "      <td>0.0</td>\n",
       "      <td>0.0</td>\n",
       "      <td>0.0</td>\n",
       "      <td>0.0</td>\n",
       "      <td>0.0</td>\n",
       "    </tr>\n",
       "    <tr>\n",
       "      <th>4</th>\n",
       "      <td>Brad Marchand</td>\n",
       "      <td>LW</td>\n",
       "      <td>5.0</td>\n",
       "      <td>38.3900</td>\n",
       "      <td>52.975000</td>\n",
       "      <td>19.537500</td>\n",
       "      <td>20.00</td>\n",
       "      <td>174.250000</td>\n",
       "      <td>25.0</td>\n",
       "      <td>15.750000</td>\n",
       "      <td>0.0</td>\n",
       "      <td>0.0</td>\n",
       "      <td>0.0</td>\n",
       "      <td>0.0</td>\n",
       "      <td>0.0</td>\n",
       "    </tr>\n",
       "  </tbody>\n",
       "</table>\n",
       "</div>"
      ],
      "text/plain": [
       "              name position  adp    goals    assists  plus_minus  \\\n",
       "0   Connor McDavid        C  1.0  40.2750  69.665000   13.217500   \n",
       "1  Nikita Kucherov       RW  2.0  41.5150  56.670000   17.495000   \n",
       "2    Alex Ovechkin       LW  3.0  50.2300  39.236667   17.126667   \n",
       "3    Sidney Crosby        C  4.0  35.7775  62.445000   14.142500   \n",
       "4    Brad Marchand       LW  5.0  38.3900  52.975000   19.537500   \n",
       "\n",
       "   powerplay_points  shots_on_goal  hits     blocks  wins  \\\n",
       "0             19.75     208.250000  15.0  17.750000   0.0   \n",
       "1             28.50     214.750000  20.0  10.500000   0.0   \n",
       "2             21.00     245.666667  65.0   9.333333   0.0   \n",
       "3             28.75     197.500000  34.0  15.750000   0.0   \n",
       "4             20.00     174.250000  25.0  15.750000   0.0   \n",
       "\n",
       "   goals_against_average  saves  save_percentage  shutouts  \n",
       "0                    0.0    0.0              0.0       0.0  \n",
       "1                    0.0    0.0              0.0       0.0  \n",
       "2                    0.0    0.0              0.0       0.0  \n",
       "3                    0.0    0.0              0.0       0.0  \n",
       "4                    0.0    0.0              0.0       0.0  "
      ]
     },
     "execution_count": 40,
     "metadata": {},
     "output_type": "execute_result"
    }
   ],
   "source": [
    "df.head()"
   ]
  },
  {
   "cell_type": "code",
   "execution_count": 41,
   "metadata": {
    "slideshow": {
     "slide_type": "slide"
    }
   },
   "outputs": [],
   "source": [
    "# GAA is a bad thing, need to reverse\n",
    "df['goals_against_average'] = -df['goals_against_average']\n",
    "\n",
    "df[CATEGORIES] = (\n",
    "    df\n",
    "    [CATEGORIES]\n",
    "    .apply(lambda x: (x - x.min()) / (x.max() - x.min()))\n",
    ")"
   ]
  },
  {
   "cell_type": "code",
   "execution_count": 42,
   "metadata": {
    "scrolled": true,
    "slideshow": {
     "slide_type": "slide"
    }
   },
   "outputs": [
    {
     "data": {
      "text/html": [
       "<div>\n",
       "<style scoped>\n",
       "    .dataframe tbody tr th:only-of-type {\n",
       "        vertical-align: middle;\n",
       "    }\n",
       "\n",
       "    .dataframe tbody tr th {\n",
       "        vertical-align: top;\n",
       "    }\n",
       "\n",
       "    .dataframe thead th {\n",
       "        text-align: right;\n",
       "    }\n",
       "</style>\n",
       "<table border=\"1\" class=\"dataframe\">\n",
       "  <thead>\n",
       "    <tr style=\"text-align: right;\">\n",
       "      <th></th>\n",
       "      <th>name</th>\n",
       "      <th>position</th>\n",
       "      <th>adp</th>\n",
       "      <th>goals</th>\n",
       "      <th>assists</th>\n",
       "      <th>plus_minus</th>\n",
       "      <th>powerplay_points</th>\n",
       "      <th>shots_on_goal</th>\n",
       "      <th>hits</th>\n",
       "      <th>blocks</th>\n",
       "      <th>wins</th>\n",
       "      <th>goals_against_average</th>\n",
       "      <th>saves</th>\n",
       "      <th>save_percentage</th>\n",
       "      <th>shutouts</th>\n",
       "    </tr>\n",
       "  </thead>\n",
       "  <tbody>\n",
       "    <tr>\n",
       "      <th>0</th>\n",
       "      <td>Connor McDavid</td>\n",
       "      <td>C</td>\n",
       "      <td>1.0</td>\n",
       "      <td>0.801812</td>\n",
       "      <td>1.000000</td>\n",
       "      <td>0.760291</td>\n",
       "      <td>0.470238</td>\n",
       "      <td>0.836345</td>\n",
       "      <td>0.144578</td>\n",
       "      <td>0.200000</td>\n",
       "      <td>0.0</td>\n",
       "      <td>1.0</td>\n",
       "      <td>0.0</td>\n",
       "      <td>0.0</td>\n",
       "      <td>0.0</td>\n",
       "    </tr>\n",
       "    <tr>\n",
       "      <th>1</th>\n",
       "      <td>Nikita Kucherov</td>\n",
       "      <td>RW</td>\n",
       "      <td>2.0</td>\n",
       "      <td>0.826498</td>\n",
       "      <td>0.813464</td>\n",
       "      <td>0.838983</td>\n",
       "      <td>0.678571</td>\n",
       "      <td>0.862450</td>\n",
       "      <td>0.192771</td>\n",
       "      <td>0.118310</td>\n",
       "      <td>0.0</td>\n",
       "      <td>1.0</td>\n",
       "      <td>0.0</td>\n",
       "      <td>0.0</td>\n",
       "      <td>0.0</td>\n",
       "    </tr>\n",
       "    <tr>\n",
       "      <th>2</th>\n",
       "      <td>Alex Ovechkin</td>\n",
       "      <td>LW</td>\n",
       "      <td>3.0</td>\n",
       "      <td>1.000000</td>\n",
       "      <td>0.563219</td>\n",
       "      <td>0.832207</td>\n",
       "      <td>0.500000</td>\n",
       "      <td>0.986613</td>\n",
       "      <td>0.626506</td>\n",
       "      <td>0.105164</td>\n",
       "      <td>0.0</td>\n",
       "      <td>1.0</td>\n",
       "      <td>0.0</td>\n",
       "      <td>0.0</td>\n",
       "      <td>0.0</td>\n",
       "    </tr>\n",
       "    <tr>\n",
       "      <th>3</th>\n",
       "      <td>Sidney Crosby</td>\n",
       "      <td>C</td>\n",
       "      <td>4.0</td>\n",
       "      <td>0.712274</td>\n",
       "      <td>0.896361</td>\n",
       "      <td>0.777308</td>\n",
       "      <td>0.684524</td>\n",
       "      <td>0.793173</td>\n",
       "      <td>0.327711</td>\n",
       "      <td>0.177465</td>\n",
       "      <td>0.0</td>\n",
       "      <td>1.0</td>\n",
       "      <td>0.0</td>\n",
       "      <td>0.0</td>\n",
       "      <td>0.0</td>\n",
       "    </tr>\n",
       "    <tr>\n",
       "      <th>4</th>\n",
       "      <td>Brad Marchand</td>\n",
       "      <td>LW</td>\n",
       "      <td>5.0</td>\n",
       "      <td>0.764284</td>\n",
       "      <td>0.760425</td>\n",
       "      <td>0.876558</td>\n",
       "      <td>0.476190</td>\n",
       "      <td>0.699799</td>\n",
       "      <td>0.240964</td>\n",
       "      <td>0.177465</td>\n",
       "      <td>0.0</td>\n",
       "      <td>1.0</td>\n",
       "      <td>0.0</td>\n",
       "      <td>0.0</td>\n",
       "      <td>0.0</td>\n",
       "    </tr>\n",
       "  </tbody>\n",
       "</table>\n",
       "</div>"
      ],
      "text/plain": [
       "              name position  adp     goals   assists  plus_minus  \\\n",
       "0   Connor McDavid        C  1.0  0.801812  1.000000    0.760291   \n",
       "1  Nikita Kucherov       RW  2.0  0.826498  0.813464    0.838983   \n",
       "2    Alex Ovechkin       LW  3.0  1.000000  0.563219    0.832207   \n",
       "3    Sidney Crosby        C  4.0  0.712274  0.896361    0.777308   \n",
       "4    Brad Marchand       LW  5.0  0.764284  0.760425    0.876558   \n",
       "\n",
       "   powerplay_points  shots_on_goal      hits    blocks  wins  \\\n",
       "0          0.470238       0.836345  0.144578  0.200000   0.0   \n",
       "1          0.678571       0.862450  0.192771  0.118310   0.0   \n",
       "2          0.500000       0.986613  0.626506  0.105164   0.0   \n",
       "3          0.684524       0.793173  0.327711  0.177465   0.0   \n",
       "4          0.476190       0.699799  0.240964  0.177465   0.0   \n",
       "\n",
       "   goals_against_average  saves  save_percentage  shutouts  \n",
       "0                    1.0    0.0              0.0       0.0  \n",
       "1                    1.0    0.0              0.0       0.0  \n",
       "2                    1.0    0.0              0.0       0.0  \n",
       "3                    1.0    0.0              0.0       0.0  \n",
       "4                    1.0    0.0              0.0       0.0  "
      ]
     },
     "execution_count": 42,
     "metadata": {},
     "output_type": "execute_result"
    }
   ],
   "source": [
    "df.head()"
   ]
  },
  {
   "cell_type": "code",
   "execution_count": 43,
   "metadata": {
    "slideshow": {
     "slide_type": "slide"
    }
   },
   "outputs": [
    {
     "data": {
      "text/plain": [
       "feature\n",
       "wins                     0.800000\n",
       "goals                    0.843995\n",
       "assists                  0.854627\n",
       "shots_on_goal            0.924914\n",
       "shutouts                 0.933702\n",
       "powerplay_points         0.942256\n",
       "goals_against_average    0.965344\n",
       "plus_minus               0.980472\n",
       "saves                    0.987386\n",
       "hits                     0.991053\n",
       "save_percentage          0.997072\n",
       "blocks                   1.000000\n",
       "Name: mod, dtype: float64"
      ]
     },
     "execution_count": 43,
     "metadata": {},
     "output_type": "execute_result"
    }
   ],
   "source": [
    "def blotto(x, out_range=[0.80, 1]):\n",
    "    domain = np.min(x), np.max(x)\n",
    "    y = (x - (domain[1] + domain[0]) / 2) / (domain[1] - domain[0])\n",
    "    return y * (out_range[1] - out_range[0]) + (out_range[1] + out_range[0]) / 2\n",
    "\n",
    "bias['mod'] = bias[['coef']].apply(lambda x: blotto(x, (0.8, 1)))\n",
    "bias = bias[['feature', 'mod']].set_index('feature').iloc[:,0]\n",
    "\n",
    "bias"
   ]
  },
  {
   "cell_type": "code",
   "execution_count": 45,
   "metadata": {
    "scrolled": true,
    "slideshow": {
     "slide_type": "slide"
    }
   },
   "outputs": [
    {
     "data": {
      "text/html": [
       "<div>\n",
       "<style scoped>\n",
       "    .dataframe tbody tr th:only-of-type {\n",
       "        vertical-align: middle;\n",
       "    }\n",
       "\n",
       "    .dataframe tbody tr th {\n",
       "        vertical-align: top;\n",
       "    }\n",
       "\n",
       "    .dataframe thead th {\n",
       "        text-align: right;\n",
       "    }\n",
       "</style>\n",
       "<table border=\"1\" class=\"dataframe\">\n",
       "  <thead>\n",
       "    <tr style=\"text-align: right;\">\n",
       "      <th></th>\n",
       "      <th>name</th>\n",
       "      <th>position</th>\n",
       "      <th>adp</th>\n",
       "      <th>goals</th>\n",
       "      <th>assists</th>\n",
       "      <th>plus_minus</th>\n",
       "      <th>powerplay_points</th>\n",
       "      <th>shots_on_goal</th>\n",
       "      <th>hits</th>\n",
       "      <th>blocks</th>\n",
       "      <th>wins</th>\n",
       "      <th>goals_against_average</th>\n",
       "      <th>saves</th>\n",
       "      <th>save_percentage</th>\n",
       "      <th>shutouts</th>\n",
       "    </tr>\n",
       "  </thead>\n",
       "  <tbody>\n",
       "    <tr>\n",
       "      <th>0</th>\n",
       "      <td>Connor McDavid</td>\n",
       "      <td>C</td>\n",
       "      <td>1.0</td>\n",
       "      <td>0.676725</td>\n",
       "      <td>0.854627</td>\n",
       "      <td>0.745444</td>\n",
       "      <td>0.443085</td>\n",
       "      <td>0.773548</td>\n",
       "      <td>0.143285</td>\n",
       "      <td>0.200000</td>\n",
       "      <td>0.0</td>\n",
       "      <td>0.965344</td>\n",
       "      <td>0.0</td>\n",
       "      <td>0.0</td>\n",
       "      <td>0.0</td>\n",
       "    </tr>\n",
       "    <tr>\n",
       "      <th>1</th>\n",
       "      <td>Nikita Kucherov</td>\n",
       "      <td>RW</td>\n",
       "      <td>2.0</td>\n",
       "      <td>0.697561</td>\n",
       "      <td>0.695209</td>\n",
       "      <td>0.822599</td>\n",
       "      <td>0.639388</td>\n",
       "      <td>0.797692</td>\n",
       "      <td>0.191046</td>\n",
       "      <td>0.118310</td>\n",
       "      <td>0.0</td>\n",
       "      <td>0.965344</td>\n",
       "      <td>0.0</td>\n",
       "      <td>0.0</td>\n",
       "      <td>0.0</td>\n",
       "    </tr>\n",
       "    <tr>\n",
       "      <th>2</th>\n",
       "      <td>Alex Ovechkin</td>\n",
       "      <td>LW</td>\n",
       "      <td>3.0</td>\n",
       "      <td>0.843995</td>\n",
       "      <td>0.481342</td>\n",
       "      <td>0.815956</td>\n",
       "      <td>0.471128</td>\n",
       "      <td>0.912533</td>\n",
       "      <td>0.620901</td>\n",
       "      <td>0.105164</td>\n",
       "      <td>0.0</td>\n",
       "      <td>0.965344</td>\n",
       "      <td>0.0</td>\n",
       "      <td>0.0</td>\n",
       "      <td>0.0</td>\n",
       "    </tr>\n",
       "    <tr>\n",
       "      <th>3</th>\n",
       "      <td>Sidney Crosby</td>\n",
       "      <td>C</td>\n",
       "      <td>4.0</td>\n",
       "      <td>0.601156</td>\n",
       "      <td>0.766055</td>\n",
       "      <td>0.762129</td>\n",
       "      <td>0.644997</td>\n",
       "      <td>0.733617</td>\n",
       "      <td>0.324779</td>\n",
       "      <td>0.177465</td>\n",
       "      <td>0.0</td>\n",
       "      <td>0.965344</td>\n",
       "      <td>0.0</td>\n",
       "      <td>0.0</td>\n",
       "      <td>0.0</td>\n",
       "    </tr>\n",
       "    <tr>\n",
       "      <th>4</th>\n",
       "      <td>Brad Marchand</td>\n",
       "      <td>LW</td>\n",
       "      <td>5.0</td>\n",
       "      <td>0.645052</td>\n",
       "      <td>0.649880</td>\n",
       "      <td>0.859441</td>\n",
       "      <td>0.448693</td>\n",
       "      <td>0.647254</td>\n",
       "      <td>0.238808</td>\n",
       "      <td>0.177465</td>\n",
       "      <td>0.0</td>\n",
       "      <td>0.965344</td>\n",
       "      <td>0.0</td>\n",
       "      <td>0.0</td>\n",
       "      <td>0.0</td>\n",
       "    </tr>\n",
       "  </tbody>\n",
       "</table>\n",
       "</div>"
      ],
      "text/plain": [
       "              name position  adp     goals   assists  plus_minus  \\\n",
       "0   Connor McDavid        C  1.0  0.676725  0.854627    0.745444   \n",
       "1  Nikita Kucherov       RW  2.0  0.697561  0.695209    0.822599   \n",
       "2    Alex Ovechkin       LW  3.0  0.843995  0.481342    0.815956   \n",
       "3    Sidney Crosby        C  4.0  0.601156  0.766055    0.762129   \n",
       "4    Brad Marchand       LW  5.0  0.645052  0.649880    0.859441   \n",
       "\n",
       "   powerplay_points  shots_on_goal      hits    blocks  wins  \\\n",
       "0          0.443085       0.773548  0.143285  0.200000   0.0   \n",
       "1          0.639388       0.797692  0.191046  0.118310   0.0   \n",
       "2          0.471128       0.912533  0.620901  0.105164   0.0   \n",
       "3          0.644997       0.733617  0.324779  0.177465   0.0   \n",
       "4          0.448693       0.647254  0.238808  0.177465   0.0   \n",
       "\n",
       "   goals_against_average  saves  save_percentage  shutouts  \n",
       "0               0.965344    0.0              0.0       0.0  \n",
       "1               0.965344    0.0              0.0       0.0  \n",
       "2               0.965344    0.0              0.0       0.0  \n",
       "3               0.965344    0.0              0.0       0.0  \n",
       "4               0.965344    0.0              0.0       0.0  "
      ]
     },
     "execution_count": 45,
     "metadata": {},
     "output_type": "execute_result"
    }
   ],
   "source": [
    "df[list(bias.keys())] *= bias\n",
    "\n",
    "df.head()"
   ]
  },
  {
   "cell_type": "code",
   "execution_count": 46,
   "metadata": {
    "slideshow": {
     "slide_type": "slide"
    }
   },
   "outputs": [
    {
     "data": {
      "text/html": [
       "<div>\n",
       "<style scoped>\n",
       "    .dataframe tbody tr th:only-of-type {\n",
       "        vertical-align: middle;\n",
       "    }\n",
       "\n",
       "    .dataframe tbody tr th {\n",
       "        vertical-align: top;\n",
       "    }\n",
       "\n",
       "    .dataframe thead th {\n",
       "        text-align: right;\n",
       "    }\n",
       "</style>\n",
       "<table border=\"1\" class=\"dataframe\">\n",
       "  <thead>\n",
       "    <tr style=\"text-align: right;\">\n",
       "      <th></th>\n",
       "      <th>name</th>\n",
       "      <th>position</th>\n",
       "      <th>score</th>\n",
       "    </tr>\n",
       "  </thead>\n",
       "  <tbody>\n",
       "    <tr>\n",
       "      <th>0</th>\n",
       "      <td>Connor McDavid</td>\n",
       "      <td>C</td>\n",
       "      <td>4.125333</td>\n",
       "    </tr>\n",
       "    <tr>\n",
       "      <th>1</th>\n",
       "      <td>Nikita Kucherov</td>\n",
       "      <td>RW</td>\n",
       "      <td>4.229589</td>\n",
       "    </tr>\n",
       "    <tr>\n",
       "      <th>2</th>\n",
       "      <td>Alex Ovechkin</td>\n",
       "      <td>LW</td>\n",
       "      <td>4.372368</td>\n",
       "    </tr>\n",
       "    <tr>\n",
       "      <th>3</th>\n",
       "      <td>Sidney Crosby</td>\n",
       "      <td>C</td>\n",
       "      <td>4.374385</td>\n",
       "    </tr>\n",
       "    <tr>\n",
       "      <th>4</th>\n",
       "      <td>Brad Marchand</td>\n",
       "      <td>LW</td>\n",
       "      <td>3.986886</td>\n",
       "    </tr>\n",
       "    <tr>\n",
       "      <th>5</th>\n",
       "      <td>Patrik Laine</td>\n",
       "      <td>RW</td>\n",
       "      <td>3.860518</td>\n",
       "    </tr>\n",
       "    <tr>\n",
       "      <th>6</th>\n",
       "      <td>Patrick Kane</td>\n",
       "      <td>RW</td>\n",
       "      <td>3.650039</td>\n",
       "    </tr>\n",
       "    <tr>\n",
       "      <th>7</th>\n",
       "      <td>Nathan MacKinnon</td>\n",
       "      <td>C</td>\n",
       "      <td>3.878440</td>\n",
       "    </tr>\n",
       "    <tr>\n",
       "      <th>8</th>\n",
       "      <td>John Tavares</td>\n",
       "      <td>C</td>\n",
       "      <td>4.006343</td>\n",
       "    </tr>\n",
       "    <tr>\n",
       "      <th>9</th>\n",
       "      <td>Auston Matthews</td>\n",
       "      <td>C</td>\n",
       "      <td>4.005856</td>\n",
       "    </tr>\n",
       "  </tbody>\n",
       "</table>\n",
       "</div>"
      ],
      "text/plain": [
       "               name position     score\n",
       "0    Connor McDavid        C  4.125333\n",
       "1   Nikita Kucherov       RW  4.229589\n",
       "2     Alex Ovechkin       LW  4.372368\n",
       "3     Sidney Crosby        C  4.374385\n",
       "4     Brad Marchand       LW  3.986886\n",
       "5      Patrik Laine       RW  3.860518\n",
       "6      Patrick Kane       RW  3.650039\n",
       "7  Nathan MacKinnon        C  3.878440\n",
       "8      John Tavares        C  4.006343\n",
       "9   Auston Matthews        C  4.005856"
      ]
     },
     "execution_count": 46,
     "metadata": {},
     "output_type": "execute_result"
    }
   ],
   "source": [
    "from copy import deepcopy\n",
    "\n",
    "cats = deepcopy(CATEGORIES)\n",
    "\n",
    "cats.remove('goals')\n",
    "cats.remove('shutouts')\n",
    "\n",
    "df['score'] = df[cats].sum(axis=1)\n",
    "\n",
    "df[['name', 'position', 'score']].head(10)"
   ]
  },
  {
   "cell_type": "markdown",
   "metadata": {
    "slideshow": {
     "slide_type": "slide"
    }
   },
   "source": [
    "![](images/fantasy_settings.png)"
   ]
  },
  {
   "cell_type": "code",
   "execution_count": 47,
   "metadata": {
    "slideshow": {
     "slide_type": "slide"
    }
   },
   "outputs": [
    {
     "name": "stdout",
     "output_type": "stream",
     "text": [
      "10\n",
      "2\n"
     ]
    }
   ],
   "source": [
    "starters = {'C': 2, 'LW': 2, 'RW': 2, 'D': 4, 'G': 2}\n",
    "\n",
    "players = sum(starters.values())\n",
    "skaters = sum([value for key, value in starters.items() if key != 'G'])\n",
    "goalies = players - skaters\n",
    "\n",
    "print(skaters)\n",
    "print(goalies)"
   ]
  },
  {
   "cell_type": "code",
   "execution_count": 48,
   "metadata": {
    "scrolled": true,
    "slideshow": {
     "slide_type": "fragment"
    }
   },
   "outputs": [
    {
     "data": {
      "text/html": [
       "<div>\n",
       "<style scoped>\n",
       "    .dataframe tbody tr th:only-of-type {\n",
       "        vertical-align: middle;\n",
       "    }\n",
       "\n",
       "    .dataframe tbody tr th {\n",
       "        vertical-align: top;\n",
       "    }\n",
       "\n",
       "    .dataframe thead th {\n",
       "        text-align: right;\n",
       "    }\n",
       "</style>\n",
       "<table border=\"1\" class=\"dataframe\">\n",
       "  <thead>\n",
       "    <tr style=\"text-align: right;\">\n",
       "      <th></th>\n",
       "      <th>name</th>\n",
       "      <th>position</th>\n",
       "      <th>score</th>\n",
       "    </tr>\n",
       "  </thead>\n",
       "  <tbody>\n",
       "    <tr>\n",
       "      <th>0</th>\n",
       "      <td>Connor McDavid</td>\n",
       "      <td>C</td>\n",
       "      <td>0.412533</td>\n",
       "    </tr>\n",
       "    <tr>\n",
       "      <th>1</th>\n",
       "      <td>Nikita Kucherov</td>\n",
       "      <td>RW</td>\n",
       "      <td>0.422959</td>\n",
       "    </tr>\n",
       "    <tr>\n",
       "      <th>2</th>\n",
       "      <td>Alex Ovechkin</td>\n",
       "      <td>LW</td>\n",
       "      <td>0.437237</td>\n",
       "    </tr>\n",
       "    <tr>\n",
       "      <th>3</th>\n",
       "      <td>Sidney Crosby</td>\n",
       "      <td>C</td>\n",
       "      <td>0.437438</td>\n",
       "    </tr>\n",
       "    <tr>\n",
       "      <th>4</th>\n",
       "      <td>Brad Marchand</td>\n",
       "      <td>LW</td>\n",
       "      <td>0.398689</td>\n",
       "    </tr>\n",
       "  </tbody>\n",
       "</table>\n",
       "</div>"
      ],
      "text/plain": [
       "              name position     score\n",
       "0   Connor McDavid        C  0.412533\n",
       "1  Nikita Kucherov       RW  0.422959\n",
       "2    Alex Ovechkin       LW  0.437237\n",
       "3    Sidney Crosby        C  0.437438\n",
       "4    Brad Marchand       LW  0.398689"
      ]
     },
     "execution_count": 48,
     "metadata": {},
     "output_type": "execute_result"
    }
   ],
   "source": [
    "# df['score'] = df['score'] / players\n",
    "df['score'] = np.where(df['position'] == 'G', df['score'] / goalies, df['score'] / skaters)\n",
    "\n",
    "df[['name', 'position', 'score']].head()"
   ]
  },
  {
   "cell_type": "code",
   "execution_count": 49,
   "metadata": {
    "slideshow": {
     "slide_type": "slide"
    }
   },
   "outputs": [
    {
     "data": {
      "text/html": [
       "<div>\n",
       "<style scoped>\n",
       "    .dataframe tbody tr th:only-of-type {\n",
       "        vertical-align: middle;\n",
       "    }\n",
       "\n",
       "    .dataframe tbody tr th {\n",
       "        vertical-align: top;\n",
       "    }\n",
       "\n",
       "    .dataframe thead th {\n",
       "        text-align: right;\n",
       "    }\n",
       "</style>\n",
       "<table border=\"1\" class=\"dataframe\">\n",
       "  <thead>\n",
       "    <tr style=\"text-align: right;\">\n",
       "      <th></th>\n",
       "      <th>adp</th>\n",
       "      <th>goals</th>\n",
       "      <th>assists</th>\n",
       "      <th>plus_minus</th>\n",
       "      <th>powerplay_points</th>\n",
       "      <th>shots_on_goal</th>\n",
       "      <th>hits</th>\n",
       "      <th>blocks</th>\n",
       "      <th>wins</th>\n",
       "      <th>goals_against_average</th>\n",
       "      <th>saves</th>\n",
       "      <th>save_percentage</th>\n",
       "      <th>shutouts</th>\n",
       "    </tr>\n",
       "    <tr>\n",
       "      <th>position</th>\n",
       "      <th></th>\n",
       "      <th></th>\n",
       "      <th></th>\n",
       "      <th></th>\n",
       "      <th></th>\n",
       "      <th></th>\n",
       "      <th></th>\n",
       "      <th></th>\n",
       "      <th></th>\n",
       "      <th></th>\n",
       "      <th></th>\n",
       "      <th></th>\n",
       "      <th></th>\n",
       "    </tr>\n",
       "  </thead>\n",
       "  <tbody>\n",
       "    <tr>\n",
       "      <th>C</th>\n",
       "      <td>90.814815</td>\n",
       "      <td>27.847870</td>\n",
       "      <td>41.831867</td>\n",
       "      <td>6.499907</td>\n",
       "      <td>16.208333</td>\n",
       "      <td>160.316358</td>\n",
       "      <td>32.353395</td>\n",
       "      <td>19.879630</td>\n",
       "      <td>0.000000</td>\n",
       "      <td>0.000000</td>\n",
       "      <td>0.000000</td>\n",
       "      <td>0.000000</td>\n",
       "      <td>0.000000</td>\n",
       "    </tr>\n",
       "    <tr>\n",
       "      <th>D</th>\n",
       "      <td>106.727273</td>\n",
       "      <td>11.287386</td>\n",
       "      <td>35.609716</td>\n",
       "      <td>3.702670</td>\n",
       "      <td>14.823864</td>\n",
       "      <td>136.880682</td>\n",
       "      <td>43.346591</td>\n",
       "      <td>56.119318</td>\n",
       "      <td>0.000000</td>\n",
       "      <td>0.000000</td>\n",
       "      <td>0.000000</td>\n",
       "      <td>0.000000</td>\n",
       "      <td>0.000000</td>\n",
       "    </tr>\n",
       "    <tr>\n",
       "      <th>G</th>\n",
       "      <td>71.807692</td>\n",
       "      <td>0.000000</td>\n",
       "      <td>0.000000</td>\n",
       "      <td>0.000000</td>\n",
       "      <td>0.000000</td>\n",
       "      <td>0.000000</td>\n",
       "      <td>0.000000</td>\n",
       "      <td>0.000000</td>\n",
       "      <td>29.980192</td>\n",
       "      <td>2.548462</td>\n",
       "      <td>773.886346</td>\n",
       "      <td>0.916865</td>\n",
       "      <td>2.829712</td>\n",
       "    </tr>\n",
       "    <tr>\n",
       "      <th>LW</th>\n",
       "      <td>81.846154</td>\n",
       "      <td>28.906122</td>\n",
       "      <td>36.666987</td>\n",
       "      <td>5.528686</td>\n",
       "      <td>13.282051</td>\n",
       "      <td>170.467949</td>\n",
       "      <td>33.320513</td>\n",
       "      <td>15.461538</td>\n",
       "      <td>0.000000</td>\n",
       "      <td>0.000000</td>\n",
       "      <td>0.000000</td>\n",
       "      <td>0.000000</td>\n",
       "      <td>0.000000</td>\n",
       "    </tr>\n",
       "    <tr>\n",
       "      <th>RW</th>\n",
       "      <td>107.931034</td>\n",
       "      <td>27.010718</td>\n",
       "      <td>35.137500</td>\n",
       "      <td>2.843103</td>\n",
       "      <td>15.698276</td>\n",
       "      <td>163.390805</td>\n",
       "      <td>37.879310</td>\n",
       "      <td>18.919540</td>\n",
       "      <td>0.000000</td>\n",
       "      <td>0.000000</td>\n",
       "      <td>0.000000</td>\n",
       "      <td>0.000000</td>\n",
       "      <td>0.000000</td>\n",
       "    </tr>\n",
       "  </tbody>\n",
       "</table>\n",
       "</div>"
      ],
      "text/plain": [
       "                 adp      goals    assists  plus_minus  powerplay_points  \\\n",
       "position                                                                   \n",
       "C          90.814815  27.847870  41.831867    6.499907         16.208333   \n",
       "D         106.727273  11.287386  35.609716    3.702670         14.823864   \n",
       "G          71.807692   0.000000   0.000000    0.000000          0.000000   \n",
       "LW         81.846154  28.906122  36.666987    5.528686         13.282051   \n",
       "RW        107.931034  27.010718  35.137500    2.843103         15.698276   \n",
       "\n",
       "          shots_on_goal       hits     blocks       wins  \\\n",
       "position                                                   \n",
       "C            160.316358  32.353395  19.879630   0.000000   \n",
       "D            136.880682  43.346591  56.119318   0.000000   \n",
       "G              0.000000   0.000000   0.000000  29.980192   \n",
       "LW           170.467949  33.320513  15.461538   0.000000   \n",
       "RW           163.390805  37.879310  18.919540   0.000000   \n",
       "\n",
       "          goals_against_average       saves  save_percentage  shutouts  \n",
       "position                                                                \n",
       "C                      0.000000    0.000000         0.000000  0.000000  \n",
       "D                      0.000000    0.000000         0.000000  0.000000  \n",
       "G                      2.548462  773.886346         0.916865  2.829712  \n",
       "LW                     0.000000    0.000000         0.000000  0.000000  \n",
       "RW                     0.000000    0.000000         0.000000  0.000000  "
      ]
     },
     "execution_count": 49,
     "metadata": {},
     "output_type": "execute_result"
    }
   ],
   "source": [
    "raw.groupby('position').mean()"
   ]
  },
  {
   "cell_type": "code",
   "execution_count": 50,
   "metadata": {
    "slideshow": {
     "slide_type": "slide"
    }
   },
   "outputs": [],
   "source": [
    "pool_size = 10\n",
    "\n",
    "for position, slots in starters.items():\n",
    "    replacement = (\n",
    "        df[df['position'] == position]\n",
    "        .sort_values('score', ascending=False)\n",
    "        .head(slots * pool_size)\n",
    "        ['score']\n",
    "        .mean()\n",
    "    )\n",
    "    df.loc[df['position'] == position, 'score'] = df['score'] - replacement"
   ]
  },
  {
   "cell_type": "code",
   "execution_count": 52,
   "metadata": {
    "scrolled": true,
    "slideshow": {
     "slide_type": "slide"
    }
   },
   "outputs": [
    {
     "data": {
      "text/html": [
       "<div>\n",
       "<style scoped>\n",
       "    .dataframe tbody tr th:only-of-type {\n",
       "        vertical-align: middle;\n",
       "    }\n",
       "\n",
       "    .dataframe tbody tr th {\n",
       "        vertical-align: top;\n",
       "    }\n",
       "\n",
       "    .dataframe thead th {\n",
       "        text-align: right;\n",
       "    }\n",
       "</style>\n",
       "<table border=\"1\" class=\"dataframe\">\n",
       "  <thead>\n",
       "    <tr style=\"text-align: right;\">\n",
       "      <th></th>\n",
       "      <th>name</th>\n",
       "      <th>position</th>\n",
       "      <th>score</th>\n",
       "    </tr>\n",
       "  </thead>\n",
       "  <tbody>\n",
       "    <tr>\n",
       "      <th>11</th>\n",
       "      <td>Andrei Vasilevskiy</td>\n",
       "      <td>G</td>\n",
       "      <td>0.120399</td>\n",
       "    </tr>\n",
       "    <tr>\n",
       "      <th>2</th>\n",
       "      <td>Alex Ovechkin</td>\n",
       "      <td>LW</td>\n",
       "      <td>0.079319</td>\n",
       "    </tr>\n",
       "    <tr>\n",
       "      <th>29</th>\n",
       "      <td>Erik Karlsson</td>\n",
       "      <td>D</td>\n",
       "      <td>0.077475</td>\n",
       "    </tr>\n",
       "    <tr>\n",
       "      <th>19</th>\n",
       "      <td>Brent Burns</td>\n",
       "      <td>D</td>\n",
       "      <td>0.077302</td>\n",
       "    </tr>\n",
       "    <tr>\n",
       "      <th>17</th>\n",
       "      <td>Pekka Rinne</td>\n",
       "      <td>G</td>\n",
       "      <td>0.075867</td>\n",
       "    </tr>\n",
       "  </tbody>\n",
       "</table>\n",
       "</div>"
      ],
      "text/plain": [
       "                  name position     score\n",
       "11  Andrei Vasilevskiy        G  0.120399\n",
       "2        Alex Ovechkin       LW  0.079319\n",
       "29       Erik Karlsson        D  0.077475\n",
       "19         Brent Burns        D  0.077302\n",
       "17         Pekka Rinne        G  0.075867"
      ]
     },
     "execution_count": 52,
     "metadata": {},
     "output_type": "execute_result"
    }
   ],
   "source": [
    "df[['name', 'position', 'score']].sort_values('score', ascending=False).head()"
   ]
  },
  {
   "cell_type": "code",
   "execution_count": 53,
   "metadata": {
    "slideshow": {
     "slide_type": "slide"
    }
   },
   "outputs": [],
   "source": [
    "scale = blotto\n",
    "\n",
    "df['score'] = df[['score']].apply(lambda x: scale(x, (0, 1)))\n",
    "df['my_rank'] = df['score'].rank(method='average', ascending=False)\n",
    "df = df.sort_values('my_rank')"
   ]
  },
  {
   "cell_type": "code",
   "execution_count": 54,
   "metadata": {
    "slideshow": {
     "slide_type": "fragment"
    }
   },
   "outputs": [],
   "source": [
    "df['position_rank'] = df.groupby(['position'])['score'].rank(ascending=False)\n",
    "df['arbitrage'] = df['adp'] - df['my_rank']"
   ]
  },
  {
   "cell_type": "code",
   "execution_count": 55,
   "metadata": {
    "slideshow": {
     "slide_type": "slide"
    }
   },
   "outputs": [
    {
     "data": {
      "text/html": [
       "<div>\n",
       "<style scoped>\n",
       "    .dataframe tbody tr th:only-of-type {\n",
       "        vertical-align: middle;\n",
       "    }\n",
       "\n",
       "    .dataframe tbody tr th {\n",
       "        vertical-align: top;\n",
       "    }\n",
       "\n",
       "    .dataframe thead th {\n",
       "        text-align: right;\n",
       "    }\n",
       "</style>\n",
       "<table border=\"1\" class=\"dataframe\">\n",
       "  <thead>\n",
       "    <tr style=\"text-align: right;\">\n",
       "      <th></th>\n",
       "      <th>name</th>\n",
       "      <th>position</th>\n",
       "      <th>score</th>\n",
       "      <th>adp</th>\n",
       "      <th>my_rank</th>\n",
       "      <th>position_rank</th>\n",
       "      <th>arbitrage</th>\n",
       "    </tr>\n",
       "  </thead>\n",
       "  <tbody>\n",
       "    <tr>\n",
       "      <th>11</th>\n",
       "      <td>Andrei Vasilevskiy</td>\n",
       "      <td>G</td>\n",
       "      <td>1.000000</td>\n",
       "      <td>12.0</td>\n",
       "      <td>1.0</td>\n",
       "      <td>1.0</td>\n",
       "      <td>11.0</td>\n",
       "    </tr>\n",
       "    <tr>\n",
       "      <th>2</th>\n",
       "      <td>Alex Ovechkin</td>\n",
       "      <td>LW</td>\n",
       "      <td>0.929064</td>\n",
       "      <td>3.0</td>\n",
       "      <td>2.0</td>\n",
       "      <td>1.0</td>\n",
       "      <td>1.0</td>\n",
       "    </tr>\n",
       "    <tr>\n",
       "      <th>29</th>\n",
       "      <td>Erik Karlsson</td>\n",
       "      <td>D</td>\n",
       "      <td>0.925880</td>\n",
       "      <td>30.0</td>\n",
       "      <td>3.0</td>\n",
       "      <td>1.0</td>\n",
       "      <td>27.0</td>\n",
       "    </tr>\n",
       "    <tr>\n",
       "      <th>19</th>\n",
       "      <td>Brent Burns</td>\n",
       "      <td>D</td>\n",
       "      <td>0.925582</td>\n",
       "      <td>20.0</td>\n",
       "      <td>4.0</td>\n",
       "      <td>2.0</td>\n",
       "      <td>16.0</td>\n",
       "    </tr>\n",
       "    <tr>\n",
       "      <th>17</th>\n",
       "      <td>Pekka Rinne</td>\n",
       "      <td>G</td>\n",
       "      <td>0.923104</td>\n",
       "      <td>18.0</td>\n",
       "      <td>5.0</td>\n",
       "      <td>2.0</td>\n",
       "      <td>13.0</td>\n",
       "    </tr>\n",
       "  </tbody>\n",
       "</table>\n",
       "</div>"
      ],
      "text/plain": [
       "                  name position     score   adp  my_rank  position_rank  \\\n",
       "11  Andrei Vasilevskiy        G  1.000000  12.0      1.0            1.0   \n",
       "2        Alex Ovechkin       LW  0.929064   3.0      2.0            1.0   \n",
       "29       Erik Karlsson        D  0.925880  30.0      3.0            1.0   \n",
       "19         Brent Burns        D  0.925582  20.0      4.0            2.0   \n",
       "17         Pekka Rinne        G  0.923104  18.0      5.0            2.0   \n",
       "\n",
       "    arbitrage  \n",
       "11       11.0  \n",
       "2         1.0  \n",
       "29       27.0  \n",
       "19       16.0  \n",
       "17       13.0  "
      ]
     },
     "execution_count": 55,
     "metadata": {},
     "output_type": "execute_result"
    }
   ],
   "source": [
    "df[['name', 'position', 'score', 'adp', 'my_rank', 'position_rank', 'arbitrage']].head()"
   ]
  },
  {
   "cell_type": "markdown",
   "metadata": {
    "slideshow": {
     "slide_type": "slide"
    }
   },
   "source": [
    "![](images/draft.png)"
   ]
  },
  {
   "cell_type": "markdown",
   "metadata": {
    "slideshow": {
     "slide_type": "slide"
    }
   },
   "source": [
    "![](images/my_draft.png)"
   ]
  },
  {
   "cell_type": "markdown",
   "metadata": {
    "slideshow": {
     "slide_type": "slide"
    }
   },
   "source": [
    "![](images/afterdraft.png)"
   ]
  },
  {
   "cell_type": "markdown",
   "metadata": {
    "slideshow": {
     "slide_type": "slide"
    }
   },
   "source": [
    "![](images/lastweek.png)"
   ]
  },
  {
   "cell_type": "markdown",
   "metadata": {
    "slideshow": {
     "slide_type": "slide"
    }
   },
   "source": [
    "![](https://media.giphy.com/media/lD76yTC5zxZPG/giphy.gif)"
   ]
  },
  {
   "cell_type": "markdown",
   "metadata": {
    "slideshow": {
     "slide_type": "slide"
    }
   },
   "source": [
    "<div align=\"center\">\n",
    "\n",
    "    twitter: @maxhumber\n",
    "    linkedin: /in/maxhumber\n",
    "    email: maxhumber@gmail.com\n",
    "\n",
    "</div>"
   ]
  }
 ],
 "metadata": {
  "celltoolbar": "Slideshow",
  "kernelspec": {
   "display_name": "Python 3",
   "language": "python",
   "name": "python3"
  },
  "language_info": {
   "codemirror_mode": {
    "name": "ipython",
    "version": 3
   },
   "file_extension": ".py",
   "mimetype": "text/x-python",
   "name": "python",
   "nbconvert_exporter": "python",
   "pygments_lexer": "ipython3",
   "version": "3.6.6"
  }
 },
 "nbformat": 4,
 "nbformat_minor": 2
}
