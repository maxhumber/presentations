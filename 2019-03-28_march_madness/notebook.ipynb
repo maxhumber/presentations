{
 "cells": [
  {
   "cell_type": "markdown",
   "metadata": {},
   "source": [
    "# mλrch mλdness\n",
    "[@maxhumber](https://www.twitter.com/maxhumber)\n",
    "\n",
    "Available at: [https://github.com/maxhumber/march_madness](https://github.com/maxhumber/march_madness)"
   ]
  },
  {
   "cell_type": "markdown",
   "metadata": {},
   "source": [
    "![](images/aboutme.png)"
   ]
  },
  {
   "cell_type": "markdown",
   "metadata": {},
   "source": [
    "### inspiration"
   ]
  },
  {
   "cell_type": "markdown",
   "metadata": {},
   "source": [
    "![538](images/bracket.png)\n",
    "\n",
    "source: [fivethirtyeight.com](https://projects.fivethirtyeight.com/2019-march-madness-predictions)"
   ]
  },
  {
   "cell_type": "markdown",
   "metadata": {},
   "source": [
    "![](images/numberphile.png)\n",
    "\n",
    "source: [numberphile](https://www.youtube.com/watch?v=Vv9wpQIGZDw)"
   ]
  },
  {
   "cell_type": "markdown",
   "metadata": {},
   "source": [
    "### something for everyone:\n",
    "- webscraping \n",
    "- data cleaning\n",
    "- poisson\n",
    "- simulation\n",
    "- activity"
   ]
  },
  {
   "cell_type": "markdown",
   "metadata": {},
   "source": [
    "### imports"
   ]
  },
  {
   "cell_type": "code",
   "execution_count": 1,
   "metadata": {},
   "outputs": [],
   "source": [
    "import pandas as pd\n",
    "import numpy as np\n",
    "import requests\n",
    "from bs4 import BeautifulSoup\n",
    "\n",
    "np.random.seed(2000)"
   ]
  },
  {
   "cell_type": "markdown",
   "metadata": {},
   "source": [
    "### scrape"
   ]
  },
  {
   "cell_type": "markdown",
   "metadata": {},
   "source": [
    "![](images/big10.png)\n",
    "\n",
    "source: [ncaa](https://www.sports-reference.com/cbb/seasons/2019-standings.html)"
   ]
  },
  {
   "cell_type": "markdown",
   "metadata": {},
   "source": [
    "[robots.txt](https://www.sports-reference.com/robots.txt):\n",
    "```\n",
    "User-agent: AhrefsBot \n",
    "Disallow: /\n",
    "\n",
    "User-agent: Twitterbot\n",
    "Disallow:\n",
    "\n",
    "User-agent: *\n",
    "Disallow: /bb/\n",
    "Disallow: /olympics/athlete_search.cgi\n",
    "Disallow: /cfb/search.cgi\n",
    "Disallow: /cbb/search.cgi\n",
    "Disallow: /cbb/boxscores/index.cgi?*\n",
    "Disallow: /cbb/players/*/splits/*/?*\n",
    "Disallow: /cbb/players/*/splits/*?*\n",
    "Disallow: /cbb/players/*/splits/*\n",
    "Disallow: /cbb/players/*/splits*\n",
    "Disallow: /cfb/boxscores/index.cgi?*\n",
    "Disallow: /cfb/players/*/splits/*/?*\n",
    "Disallow: /cfb/players/*/splits/*?*\n",
    "Disallow: /cfb/players/*/splits/*\n",
    "Disallow: /cfb/players/*/splits*\n",
    "Disallow: /cfb/schools/*/*/splits/*/?*\n",
    "Disallow: /cfb/schools/*/*/splits/*?*\n",
    "Disallow: /cfb/schools/*/*/splits/*\n",
    "Disallow: /cfb/schools/*/*/splits*\n",
    "Crawl-delay: 3\n",
    "```"
   ]
  },
  {
   "cell_type": "code",
   "execution_count": 2,
   "metadata": {},
   "outputs": [],
   "source": [
    "url = 'https://www.sports-reference.com/cbb/seasons/2019-standings.html'\n",
    "r = requests.get(url)"
   ]
  },
  {
   "cell_type": "code",
   "execution_count": 3,
   "metadata": {},
   "outputs": [
    {
     "name": "stdout",
     "output_type": "stream",
     "text": [
      "   </div>\n",
      "    \t\t\n",
      "</div>\n",
      "<div class=\"placeholder\"></div>\n",
      "<!--\n",
      "   <div class=\"table_outer_container\">\n",
      "      <div class=\"overthrow table_container\" id=\"div_standings_big-12\">\n",
      "  <table class=\"sortable stats_table\" id=\"standings_big-12\" data-cols-to-freeze=2><caption>Big 12 Conference Table</caption>\n",
      "   <colgroup><col><col><col><col><col><col><col><col><col><col><col><col><col><col><col><col><col><col><col><col><col><col></colgroup>\n",
      "   <thead>\n",
      "      \n",
      "      <tr class=\"over_header\">\n",
      "         <th aria-label=\"\" data-stat=\"\" colspan=\"3\" class=\" over_header center\" ></th>\n",
      "         <th aria-label=\"\" data-stat=\"header_overall\" colspan=\"3\" class=\" over_header center\" >Overall</th><th></th>\n",
      "         <th aria-label=\"\" data-stat=\"header_conf\" colspan=\"3\" class=\" over_header center\" >Conference</th><th></th>\n",
      "         <th aria-label=\"\" data-stat=\"header_pts_per_g\" colspan=\"2\" class=\" over_header center\" >PTS/G</th><th></th>\n",
      "         <th aria-label=\"\" data-stat=\"header_srs\" colspan=\"2\" class=\" over_header center\" >SRS</th><th></th>\n",
      "         <th aria-label=\"\" data-stat=\"header_polls\" colspan=\"3\" class=\" over_header center\" >Polls</th>\n",
      "         <th aria-label=\"\" data-stat=\"\" col\n"
     ]
    }
   ],
   "source": [
    "print(r.text[170825:172000])"
   ]
  },
  {
   "cell_type": "code",
   "execution_count": 4,
   "metadata": {},
   "outputs": [
    {
     "data": {
      "text/plain": [
       "[]"
      ]
     },
     "execution_count": 4,
     "metadata": {},
     "output_type": "execute_result"
    }
   ],
   "source": [
    "soup = BeautifulSoup(r.text)\n",
    "soup.find_all(class_='overthrow table_container')"
   ]
  },
  {
   "cell_type": "markdown",
   "metadata": {},
   "source": [
    "### sneaky people"
   ]
  },
  {
   "cell_type": "code",
   "execution_count": 5,
   "metadata": {},
   "outputs": [],
   "source": [
    "text = r.text.replace('<!--', '').replace('-->', '')"
   ]
  },
  {
   "cell_type": "code",
   "execution_count": 6,
   "metadata": {},
   "outputs": [
    {
     "data": {
      "text/plain": [
       "32"
      ]
     },
     "execution_count": 6,
     "metadata": {},
     "output_type": "execute_result"
    }
   ],
   "source": [
    "soup = BeautifulSoup(text)\n",
    "len(soup.find_all(class_='overthrow table_container'))"
   ]
  },
  {
   "cell_type": "markdown",
   "metadata": {},
   "source": [
    "### pandas 🐼"
   ]
  },
  {
   "cell_type": "code",
   "execution_count": 7,
   "metadata": {},
   "outputs": [],
   "source": [
    "soup = BeautifulSoup(text)\n",
    "frames = pd.DataFrame()\n",
    "for table in soup.find_all(class_='overthrow table_container'):\n",
    "    df = pd.read_html(str(table))[0]\n",
    "    frames = pd.concat([frames, df])"
   ]
  },
  {
   "cell_type": "code",
   "execution_count": 8,
   "metadata": {},
   "outputs": [
    {
     "data": {
      "text/html": [
       "<div>\n",
       "<style scoped>\n",
       "    .dataframe tbody tr th:only-of-type {\n",
       "        vertical-align: middle;\n",
       "    }\n",
       "\n",
       "    .dataframe tbody tr th {\n",
       "        vertical-align: top;\n",
       "    }\n",
       "\n",
       "    .dataframe thead tr th {\n",
       "        text-align: left;\n",
       "    }\n",
       "</style>\n",
       "<table border=\"1\" class=\"dataframe\">\n",
       "  <thead>\n",
       "    <tr>\n",
       "      <th></th>\n",
       "      <th>Unnamed: 0_level_0</th>\n",
       "      <th>Overall</th>\n",
       "      <th>Unnamed: 2_level_0</th>\n",
       "      <th>Conference</th>\n",
       "      <th>Unnamed: 4_level_0</th>\n",
       "      <th>PTS/G</th>\n",
       "      <th>Unnamed: 6_level_0</th>\n",
       "      <th>SRS</th>\n",
       "      <th>Unnamed: 8_level_0</th>\n",
       "      <th>Polls</th>\n",
       "      <th>...</th>\n",
       "      <th>Unnamed: 12_level_0</th>\n",
       "      <th>Unnamed: 13_level_0</th>\n",
       "      <th>Unnamed: 14_level_0</th>\n",
       "      <th>Unnamed: 15_level_0</th>\n",
       "      <th>Unnamed: 16_level_0</th>\n",
       "      <th>Unnamed: 17_level_0</th>\n",
       "      <th>Unnamed: 18_level_0</th>\n",
       "      <th>Unnamed: 19_level_0</th>\n",
       "      <th>Unnamed: 20_level_0</th>\n",
       "      <th>Unnamed: 21_level_0</th>\n",
       "    </tr>\n",
       "    <tr>\n",
       "      <th></th>\n",
       "      <th>Rk</th>\n",
       "      <th>School</th>\n",
       "      <th>Conf</th>\n",
       "      <th>W</th>\n",
       "      <th>L</th>\n",
       "      <th>W-L%</th>\n",
       "      <th>Unnamed: 6_level_1</th>\n",
       "      <th>W</th>\n",
       "      <th>L</th>\n",
       "      <th>W-L%</th>\n",
       "      <th>...</th>\n",
       "      <th>Opp</th>\n",
       "      <th>Unnamed: 13_level_1</th>\n",
       "      <th>SRS</th>\n",
       "      <th>SOS</th>\n",
       "      <th>Unnamed: 16_level_1</th>\n",
       "      <th>AP Pre</th>\n",
       "      <th>AP High</th>\n",
       "      <th>AP Final</th>\n",
       "      <th>Unnamed: 20_level_1</th>\n",
       "      <th>Notes</th>\n",
       "    </tr>\n",
       "  </thead>\n",
       "  <tbody>\n",
       "    <tr>\n",
       "      <th>0</th>\n",
       "      <td>1.0</td>\n",
       "      <td>Houston</td>\n",
       "      <td>AAC</td>\n",
       "      <td>33.0</td>\n",
       "      <td>3.0</td>\n",
       "      <td>0.917</td>\n",
       "      <td>NaN</td>\n",
       "      <td>16.0</td>\n",
       "      <td>2.0</td>\n",
       "      <td>0.889</td>\n",
       "      <td>...</td>\n",
       "      <td>61.0</td>\n",
       "      <td>NaN</td>\n",
       "      <td>18.97</td>\n",
       "      <td>4.17</td>\n",
       "      <td>NaN</td>\n",
       "      <td>NaN</td>\n",
       "      <td>8.0</td>\n",
       "      <td>11.0</td>\n",
       "      <td>NaN</td>\n",
       "      <td>NCAA Tournament; Reg. Season Champion</td>\n",
       "    </tr>\n",
       "    <tr>\n",
       "      <th>1</th>\n",
       "      <td>2.0</td>\n",
       "      <td>Cincinnati</td>\n",
       "      <td>AAC</td>\n",
       "      <td>28.0</td>\n",
       "      <td>7.0</td>\n",
       "      <td>0.800</td>\n",
       "      <td>NaN</td>\n",
       "      <td>14.0</td>\n",
       "      <td>4.0</td>\n",
       "      <td>0.778</td>\n",
       "      <td>...</td>\n",
       "      <td>62.7</td>\n",
       "      <td>NaN</td>\n",
       "      <td>14.57</td>\n",
       "      <td>5.54</td>\n",
       "      <td>NaN</td>\n",
       "      <td>NaN</td>\n",
       "      <td>20.0</td>\n",
       "      <td>22.0</td>\n",
       "      <td>NaN</td>\n",
       "      <td>NCAA Tournament; Conf. Tournament Champion</td>\n",
       "    </tr>\n",
       "    <tr>\n",
       "      <th>2</th>\n",
       "      <td>3.0</td>\n",
       "      <td>Central Florida</td>\n",
       "      <td>AAC</td>\n",
       "      <td>24.0</td>\n",
       "      <td>9.0</td>\n",
       "      <td>0.727</td>\n",
       "      <td>NaN</td>\n",
       "      <td>13.0</td>\n",
       "      <td>5.0</td>\n",
       "      <td>0.722</td>\n",
       "      <td>...</td>\n",
       "      <td>64.5</td>\n",
       "      <td>NaN</td>\n",
       "      <td>13.39</td>\n",
       "      <td>5.60</td>\n",
       "      <td>NaN</td>\n",
       "      <td>NaN</td>\n",
       "      <td>25.0</td>\n",
       "      <td>NaN</td>\n",
       "      <td>NaN</td>\n",
       "      <td>NCAA Tournament</td>\n",
       "    </tr>\n",
       "    <tr>\n",
       "      <th>3</th>\n",
       "      <td>4.0</td>\n",
       "      <td>Temple</td>\n",
       "      <td>AAC</td>\n",
       "      <td>23.0</td>\n",
       "      <td>10.0</td>\n",
       "      <td>0.697</td>\n",
       "      <td>NaN</td>\n",
       "      <td>13.0</td>\n",
       "      <td>5.0</td>\n",
       "      <td>0.722</td>\n",
       "      <td>...</td>\n",
       "      <td>71.5</td>\n",
       "      <td>NaN</td>\n",
       "      <td>8.20</td>\n",
       "      <td>4.95</td>\n",
       "      <td>NaN</td>\n",
       "      <td>NaN</td>\n",
       "      <td>NaN</td>\n",
       "      <td>NaN</td>\n",
       "      <td>NaN</td>\n",
       "      <td>NCAA Tournament</td>\n",
       "    </tr>\n",
       "    <tr>\n",
       "      <th>4</th>\n",
       "      <td>5.0</td>\n",
       "      <td>Memphis</td>\n",
       "      <td>AAC</td>\n",
       "      <td>22.0</td>\n",
       "      <td>14.0</td>\n",
       "      <td>0.611</td>\n",
       "      <td>NaN</td>\n",
       "      <td>11.0</td>\n",
       "      <td>7.0</td>\n",
       "      <td>0.611</td>\n",
       "      <td>...</td>\n",
       "      <td>74.4</td>\n",
       "      <td>NaN</td>\n",
       "      <td>10.71</td>\n",
       "      <td>5.10</td>\n",
       "      <td>NaN</td>\n",
       "      <td>NaN</td>\n",
       "      <td>NaN</td>\n",
       "      <td>NaN</td>\n",
       "      <td>NaN</td>\n",
       "      <td>NaN</td>\n",
       "    </tr>\n",
       "  </tbody>\n",
       "</table>\n",
       "<p>5 rows × 22 columns</p>\n",
       "</div>"
      ],
      "text/plain": [
       "  Unnamed: 0_level_0          Overall Unnamed: 2_level_0 Conference  \\\n",
       "                  Rk           School               Conf          W   \n",
       "0                1.0          Houston                AAC       33.0   \n",
       "1                2.0       Cincinnati                AAC       28.0   \n",
       "2                3.0  Central Florida                AAC       24.0   \n",
       "3                4.0           Temple                AAC       23.0   \n",
       "4                5.0          Memphis                AAC       22.0   \n",
       "\n",
       "  Unnamed: 4_level_0  PTS/G Unnamed: 6_level_0   SRS Unnamed: 8_level_0  \\\n",
       "                   L   W-L% Unnamed: 6_level_1     W                  L   \n",
       "0                3.0  0.917                NaN  16.0                2.0   \n",
       "1                7.0  0.800                NaN  14.0                4.0   \n",
       "2                9.0  0.727                NaN  13.0                5.0   \n",
       "3               10.0  0.697                NaN  13.0                5.0   \n",
       "4               14.0  0.611                NaN  11.0                7.0   \n",
       "\n",
       "   Polls                     ...                     Unnamed: 12_level_0  \\\n",
       "    W-L%                     ...                                     Opp   \n",
       "0  0.889                     ...                                    61.0   \n",
       "1  0.778                     ...                                    62.7   \n",
       "2  0.722                     ...                                    64.5   \n",
       "3  0.722                     ...                                    71.5   \n",
       "4  0.611                     ...                                    74.4   \n",
       "\n",
       "  Unnamed: 13_level_0 Unnamed: 14_level_0 Unnamed: 15_level_0  \\\n",
       "  Unnamed: 13_level_1                 SRS                 SOS   \n",
       "0                 NaN               18.97                4.17   \n",
       "1                 NaN               14.57                5.54   \n",
       "2                 NaN               13.39                5.60   \n",
       "3                 NaN                8.20                4.95   \n",
       "4                 NaN               10.71                5.10   \n",
       "\n",
       "  Unnamed: 16_level_0 Unnamed: 17_level_0 Unnamed: 18_level_0  \\\n",
       "  Unnamed: 16_level_1              AP Pre             AP High   \n",
       "0                 NaN                 NaN                 8.0   \n",
       "1                 NaN                 NaN                20.0   \n",
       "2                 NaN                 NaN                25.0   \n",
       "3                 NaN                 NaN                 NaN   \n",
       "4                 NaN                 NaN                 NaN   \n",
       "\n",
       "  Unnamed: 19_level_0 Unnamed: 20_level_0  \\\n",
       "             AP Final Unnamed: 20_level_1   \n",
       "0                11.0                 NaN   \n",
       "1                22.0                 NaN   \n",
       "2                 NaN                 NaN   \n",
       "3                 NaN                 NaN   \n",
       "4                 NaN                 NaN   \n",
       "\n",
       "                          Unnamed: 21_level_0  \n",
       "                                        Notes  \n",
       "0       NCAA Tournament; Reg. Season Champion  \n",
       "1  NCAA Tournament; Conf. Tournament Champion  \n",
       "2                             NCAA Tournament  \n",
       "3                             NCAA Tournament  \n",
       "4                                         NaN  \n",
       "\n",
       "[5 rows x 22 columns]"
      ]
     },
     "execution_count": 8,
     "metadata": {},
     "output_type": "execute_result"
    }
   ],
   "source": [
    "frames.head()"
   ]
  },
  {
   "cell_type": "markdown",
   "metadata": {},
   "source": [
    "### clean 🧹"
   ]
  },
  {
   "cell_type": "code",
   "execution_count": 9,
   "metadata": {},
   "outputs": [],
   "source": [
    "df = frames.copy()\n",
    "# squash multi-level\n",
    "df.columns = ['_'.join(col) for col in df.columns]\n",
    "df = df.rename(columns={\n",
    "    'Overall_School': 'school',\n",
    "    'Unnamed: 2_level_0_Conf': 'conf',\n",
    "    'Conference_W': 'w',\n",
    "    'Unnamed: 4_level_0_L': 'l',\n",
    "    'Unnamed: 11_level_0_Own': 'pf',\n",
    "    'Unnamed: 12_level_0_Opp': 'pa',\n",
    "    'Unnamed: 21_level_0_Notes': 'notes'\n",
    "})\n",
    "\n",
    "# select only the bits we need\n",
    "df = df[['school', 'conf', 'w', 'l', 'pf', 'pa', 'notes']]\n",
    "\n",
    "# need zeroes for the mask to work\n",
    "df.notes = df.notes.fillna('0')\n",
    "ncaa = df[df.notes.str.contains('NCAA Tournament')].reset_index(drop=True)\n",
    "\n",
    "# drop notes, no longer needed\n",
    "ncaa = ncaa.drop('notes', axis=1)"
   ]
  },
  {
   "cell_type": "markdown",
   "metadata": {},
   "source": [
    "### model preview"
   ]
  },
  {
   "cell_type": "markdown",
   "metadata": {},
   "source": [
    "![](images/model.png)"
   ]
  },
  {
   "cell_type": "markdown",
   "metadata": {},
   "source": [
    "### conference proxy for home"
   ]
  },
  {
   "cell_type": "code",
   "execution_count": 10,
   "metadata": {},
   "outputs": [
    {
     "data": {
      "text/html": [
       "<div>\n",
       "<style scoped>\n",
       "    .dataframe tbody tr th:only-of-type {\n",
       "        vertical-align: middle;\n",
       "    }\n",
       "\n",
       "    .dataframe tbody tr th {\n",
       "        vertical-align: top;\n",
       "    }\n",
       "\n",
       "    .dataframe thead th {\n",
       "        text-align: right;\n",
       "    }\n",
       "</style>\n",
       "<table border=\"1\" class=\"dataframe\">\n",
       "  <thead>\n",
       "    <tr style=\"text-align: right;\">\n",
       "      <th></th>\n",
       "      <th>school</th>\n",
       "      <th>conf</th>\n",
       "      <th>w</th>\n",
       "      <th>l</th>\n",
       "      <th>pf</th>\n",
       "      <th>pa</th>\n",
       "    </tr>\n",
       "  </thead>\n",
       "  <tbody>\n",
       "    <tr>\n",
       "      <th>4</th>\n",
       "      <td>Virginia</td>\n",
       "      <td>ACC</td>\n",
       "      <td>31.0</td>\n",
       "      <td>3.0</td>\n",
       "      <td>71.6</td>\n",
       "      <td>55.0</td>\n",
       "    </tr>\n",
       "    <tr>\n",
       "      <th>5</th>\n",
       "      <td>North Carolina</td>\n",
       "      <td>ACC</td>\n",
       "      <td>29.0</td>\n",
       "      <td>6.0</td>\n",
       "      <td>86.0</td>\n",
       "      <td>72.5</td>\n",
       "    </tr>\n",
       "    <tr>\n",
       "      <th>6</th>\n",
       "      <td>Duke</td>\n",
       "      <td>ACC</td>\n",
       "      <td>31.0</td>\n",
       "      <td>5.0</td>\n",
       "      <td>83.4</td>\n",
       "      <td>67.6</td>\n",
       "    </tr>\n",
       "    <tr>\n",
       "      <th>7</th>\n",
       "      <td>Florida State</td>\n",
       "      <td>ACC</td>\n",
       "      <td>29.0</td>\n",
       "      <td>7.0</td>\n",
       "      <td>75.4</td>\n",
       "      <td>67.0</td>\n",
       "    </tr>\n",
       "    <tr>\n",
       "      <th>8</th>\n",
       "      <td>Virginia Tech</td>\n",
       "      <td>ACC</td>\n",
       "      <td>26.0</td>\n",
       "      <td>8.0</td>\n",
       "      <td>73.6</td>\n",
       "      <td>61.7</td>\n",
       "    </tr>\n",
       "    <tr>\n",
       "      <th>9</th>\n",
       "      <td>Louisville</td>\n",
       "      <td>ACC</td>\n",
       "      <td>20.0</td>\n",
       "      <td>14.0</td>\n",
       "      <td>74.6</td>\n",
       "      <td>68.4</td>\n",
       "    </tr>\n",
       "    <tr>\n",
       "      <th>10</th>\n",
       "      <td>Syracuse</td>\n",
       "      <td>ACC</td>\n",
       "      <td>20.0</td>\n",
       "      <td>14.0</td>\n",
       "      <td>69.7</td>\n",
       "      <td>66.1</td>\n",
       "    </tr>\n",
       "  </tbody>\n",
       "</table>\n",
       "</div>"
      ],
      "text/plain": [
       "            school conf     w     l    pf    pa\n",
       "4         Virginia  ACC  31.0   3.0  71.6  55.0\n",
       "5   North Carolina  ACC  29.0   6.0  86.0  72.5\n",
       "6             Duke  ACC  31.0   5.0  83.4  67.6\n",
       "7    Florida State  ACC  29.0   7.0  75.4  67.0\n",
       "8    Virginia Tech  ACC  26.0   8.0  73.6  61.7\n",
       "9       Louisville  ACC  20.0  14.0  74.6  68.4\n",
       "10        Syracuse  ACC  20.0  14.0  69.7  66.1"
      ]
     },
     "execution_count": 10,
     "metadata": {},
     "output_type": "execute_result"
    }
   ],
   "source": [
    "ncaa[ncaa['conf'] == 'ACC']"
   ]
  },
  {
   "cell_type": "code",
   "execution_count": 11,
   "metadata": {},
   "outputs": [],
   "source": [
    "conf = df.groupby('conf')[['pf', 'pa']].mean().reset_index()"
   ]
  },
  {
   "cell_type": "code",
   "execution_count": 12,
   "metadata": {},
   "outputs": [
    {
     "data": {
      "text/html": [
       "<div>\n",
       "<style scoped>\n",
       "    .dataframe tbody tr th:only-of-type {\n",
       "        vertical-align: middle;\n",
       "    }\n",
       "\n",
       "    .dataframe tbody tr th {\n",
       "        vertical-align: top;\n",
       "    }\n",
       "\n",
       "    .dataframe thead th {\n",
       "        text-align: right;\n",
       "    }\n",
       "</style>\n",
       "<table border=\"1\" class=\"dataframe\">\n",
       "  <thead>\n",
       "    <tr style=\"text-align: right;\">\n",
       "      <th></th>\n",
       "      <th>conf</th>\n",
       "      <th>pf</th>\n",
       "      <th>pa</th>\n",
       "    </tr>\n",
       "  </thead>\n",
       "  <tbody>\n",
       "    <tr>\n",
       "      <th>0</th>\n",
       "      <td>A-10</td>\n",
       "      <td>69.071429</td>\n",
       "      <td>68.450000</td>\n",
       "    </tr>\n",
       "    <tr>\n",
       "      <th>1</th>\n",
       "      <td>A-Sun</td>\n",
       "      <td>70.777778</td>\n",
       "      <td>73.422222</td>\n",
       "    </tr>\n",
       "    <tr>\n",
       "      <th>2</th>\n",
       "      <td>AAC</td>\n",
       "      <td>72.433333</td>\n",
       "      <td>69.541667</td>\n",
       "    </tr>\n",
       "    <tr>\n",
       "      <th>3</th>\n",
       "      <td>ACC</td>\n",
       "      <td>73.206667</td>\n",
       "      <td>67.820000</td>\n",
       "    </tr>\n",
       "    <tr>\n",
       "      <th>4</th>\n",
       "      <td>AEC</td>\n",
       "      <td>67.300000</td>\n",
       "      <td>69.788889</td>\n",
       "    </tr>\n",
       "  </tbody>\n",
       "</table>\n",
       "</div>"
      ],
      "text/plain": [
       "    conf         pf         pa\n",
       "0   A-10  69.071429  68.450000\n",
       "1  A-Sun  70.777778  73.422222\n",
       "2    AAC  72.433333  69.541667\n",
       "3    ACC  73.206667  67.820000\n",
       "4    AEC  67.300000  69.788889"
      ]
     },
     "execution_count": 12,
     "metadata": {},
     "output_type": "execute_result"
    }
   ],
   "source": [
    "conf.head()"
   ]
  },
  {
   "cell_type": "markdown",
   "metadata": {},
   "source": [
    "### merge"
   ]
  },
  {
   "cell_type": "code",
   "execution_count": 13,
   "metadata": {},
   "outputs": [],
   "source": [
    "# bring in conference averages \n",
    "ncaa = pd.merge(ncaa, conf, how='left', on='conf', suffixes=('', '_conf'))\n",
    "\n",
    "# round for the eyes\n",
    "ncaa.pf_conf = ncaa.pf_conf.apply(round, ndigits=2)\n",
    "ncaa.pa_conf = ncaa.pa_conf.apply(round, ndigits=2)"
   ]
  },
  {
   "cell_type": "code",
   "execution_count": 14,
   "metadata": {},
   "outputs": [
    {
     "data": {
      "text/html": [
       "<div>\n",
       "<style scoped>\n",
       "    .dataframe tbody tr th:only-of-type {\n",
       "        vertical-align: middle;\n",
       "    }\n",
       "\n",
       "    .dataframe tbody tr th {\n",
       "        vertical-align: top;\n",
       "    }\n",
       "\n",
       "    .dataframe thead th {\n",
       "        text-align: right;\n",
       "    }\n",
       "</style>\n",
       "<table border=\"1\" class=\"dataframe\">\n",
       "  <thead>\n",
       "    <tr style=\"text-align: right;\">\n",
       "      <th></th>\n",
       "      <th>school</th>\n",
       "      <th>conf</th>\n",
       "      <th>w</th>\n",
       "      <th>l</th>\n",
       "      <th>pf</th>\n",
       "      <th>pa</th>\n",
       "      <th>pf_conf</th>\n",
       "      <th>pa_conf</th>\n",
       "    </tr>\n",
       "  </thead>\n",
       "  <tbody>\n",
       "    <tr>\n",
       "      <th>38</th>\n",
       "      <td>Northern Kentucky</td>\n",
       "      <td>Horizon</td>\n",
       "      <td>26.0</td>\n",
       "      <td>9.0</td>\n",
       "      <td>77.2</td>\n",
       "      <td>70.1</td>\n",
       "      <td>74.34</td>\n",
       "      <td>76.03</td>\n",
       "    </tr>\n",
       "    <tr>\n",
       "      <th>58</th>\n",
       "      <td>Mississippi</td>\n",
       "      <td>SEC</td>\n",
       "      <td>20.0</td>\n",
       "      <td>13.0</td>\n",
       "      <td>75.3</td>\n",
       "      <td>71.1</td>\n",
       "      <td>73.89</td>\n",
       "      <td>70.29</td>\n",
       "    </tr>\n",
       "    <tr>\n",
       "      <th>34</th>\n",
       "      <td>Ohio State</td>\n",
       "      <td>Big Ten</td>\n",
       "      <td>20.0</td>\n",
       "      <td>15.0</td>\n",
       "      <td>69.1</td>\n",
       "      <td>66.2</td>\n",
       "      <td>71.59</td>\n",
       "      <td>67.12</td>\n",
       "    </tr>\n",
       "    <tr>\n",
       "      <th>52</th>\n",
       "      <td>Colgate</td>\n",
       "      <td>Patriot</td>\n",
       "      <td>24.0</td>\n",
       "      <td>11.0</td>\n",
       "      <td>75.4</td>\n",
       "      <td>70.3</td>\n",
       "      <td>72.55</td>\n",
       "      <td>73.50</td>\n",
       "    </tr>\n",
       "    <tr>\n",
       "      <th>24</th>\n",
       "      <td>St. John's (NY)</td>\n",
       "      <td>Big East</td>\n",
       "      <td>21.0</td>\n",
       "      <td>13.0</td>\n",
       "      <td>77.1</td>\n",
       "      <td>74.8</td>\n",
       "      <td>75.25</td>\n",
       "      <td>72.27</td>\n",
       "    </tr>\n",
       "  </tbody>\n",
       "</table>\n",
       "</div>"
      ],
      "text/plain": [
       "               school      conf     w     l    pf    pa  pf_conf  pa_conf\n",
       "38  Northern Kentucky   Horizon  26.0   9.0  77.2  70.1    74.34    76.03\n",
       "58        Mississippi       SEC  20.0  13.0  75.3  71.1    73.89    70.29\n",
       "34         Ohio State   Big Ten  20.0  15.0  69.1  66.2    71.59    67.12\n",
       "52            Colgate   Patriot  24.0  11.0  75.4  70.3    72.55    73.50\n",
       "24    St. John's (NY)  Big East  21.0  13.0  77.1  74.8    75.25    72.27"
      ]
     },
     "execution_count": 14,
     "metadata": {},
     "output_type": "execute_result"
    }
   ],
   "source": [
    "ncaa.sample(5)"
   ]
  },
  {
   "cell_type": "markdown",
   "metadata": {},
   "source": [
    "### seeds 🌱"
   ]
  },
  {
   "cell_type": "code",
   "execution_count": 15,
   "metadata": {},
   "outputs": [],
   "source": [
    "# bring in seed information\n",
    "seeds = pd.read_csv('data/seeds.csv')\n",
    "ncaa = pd.merge(ncaa, seeds, how='left', on=['school'])\n",
    "\n",
    "# re-order columns\n",
    "ncaa = ncaa[['school', 'region', 'seed', 'pf', 'pa', 'pf_conf', 'pa_conf']]\n",
    "\n",
    "# drop the play-in teams, just keep it to 64\n",
    "ncaa = ncaa[~ncaa.school.isin(\n",
    "    ['Temple', 'Prairie View', 'St. John\\'s (NY)', 'North Carolina Central']\n",
    ")]"
   ]
  },
  {
   "cell_type": "code",
   "execution_count": 16,
   "metadata": {},
   "outputs": [],
   "source": [
    "# fix seeding info\n",
    "ncaa.seed = ncaa.seed.str.replace('b', '').str.replace('a', '')\n",
    "ncaa.seed = ncaa.seed.apply(int)\n",
    "\n",
    "# sort\n",
    "ncaa = ncaa.sort_values(['region', 'seed']).reset_index(drop=True)"
   ]
  },
  {
   "cell_type": "code",
   "execution_count": 17,
   "metadata": {},
   "outputs": [
    {
     "data": {
      "text/html": [
       "<div>\n",
       "<style scoped>\n",
       "    .dataframe tbody tr th:only-of-type {\n",
       "        vertical-align: middle;\n",
       "    }\n",
       "\n",
       "    .dataframe tbody tr th {\n",
       "        vertical-align: top;\n",
       "    }\n",
       "\n",
       "    .dataframe thead th {\n",
       "        text-align: right;\n",
       "    }\n",
       "</style>\n",
       "<table border=\"1\" class=\"dataframe\">\n",
       "  <thead>\n",
       "    <tr style=\"text-align: right;\">\n",
       "      <th></th>\n",
       "      <th>school</th>\n",
       "      <th>region</th>\n",
       "      <th>seed</th>\n",
       "      <th>pf</th>\n",
       "      <th>pa</th>\n",
       "      <th>pf_conf</th>\n",
       "      <th>pa_conf</th>\n",
       "    </tr>\n",
       "  </thead>\n",
       "  <tbody>\n",
       "    <tr>\n",
       "      <th>0</th>\n",
       "      <td>Duke</td>\n",
       "      <td>East</td>\n",
       "      <td>1</td>\n",
       "      <td>83.4</td>\n",
       "      <td>67.6</td>\n",
       "      <td>73.21</td>\n",
       "      <td>67.82</td>\n",
       "    </tr>\n",
       "    <tr>\n",
       "      <th>1</th>\n",
       "      <td>Michigan State</td>\n",
       "      <td>East</td>\n",
       "      <td>2</td>\n",
       "      <td>78.5</td>\n",
       "      <td>65.1</td>\n",
       "      <td>71.59</td>\n",
       "      <td>67.12</td>\n",
       "    </tr>\n",
       "    <tr>\n",
       "      <th>2</th>\n",
       "      <td>Louisiana State</td>\n",
       "      <td>East</td>\n",
       "      <td>3</td>\n",
       "      <td>80.9</td>\n",
       "      <td>72.9</td>\n",
       "      <td>73.89</td>\n",
       "      <td>70.29</td>\n",
       "    </tr>\n",
       "    <tr>\n",
       "      <th>3</th>\n",
       "      <td>Virginia Tech</td>\n",
       "      <td>East</td>\n",
       "      <td>4</td>\n",
       "      <td>73.6</td>\n",
       "      <td>61.7</td>\n",
       "      <td>73.21</td>\n",
       "      <td>67.82</td>\n",
       "    </tr>\n",
       "    <tr>\n",
       "      <th>4</th>\n",
       "      <td>Mississippi State</td>\n",
       "      <td>East</td>\n",
       "      <td>5</td>\n",
       "      <td>77.3</td>\n",
       "      <td>70.4</td>\n",
       "      <td>73.89</td>\n",
       "      <td>70.29</td>\n",
       "    </tr>\n",
       "  </tbody>\n",
       "</table>\n",
       "</div>"
      ],
      "text/plain": [
       "              school region  seed    pf    pa  pf_conf  pa_conf\n",
       "0               Duke   East     1  83.4  67.6    73.21    67.82\n",
       "1     Michigan State   East     2  78.5  65.1    71.59    67.12\n",
       "2    Louisiana State   East     3  80.9  72.9    73.89    70.29\n",
       "3      Virginia Tech   East     4  73.6  61.7    73.21    67.82\n",
       "4  Mississippi State   East     5  77.3  70.4    73.89    70.29"
      ]
     },
     "execution_count": 17,
     "metadata": {},
     "output_type": "execute_result"
    }
   ],
   "source": [
    "ncaa.head()"
   ]
  },
  {
   "cell_type": "markdown",
   "metadata": {},
   "source": [
    "### model constants"
   ]
  },
  {
   "cell_type": "code",
   "execution_count": 18,
   "metadata": {},
   "outputs": [],
   "source": [
    "PF = round(ncaa.pf.mean(), 2)\n",
    "PA = round(ncaa.pa.mean(), 2)"
   ]
  },
  {
   "cell_type": "markdown",
   "metadata": {},
   "source": [
    "### poisson"
   ]
  },
  {
   "cell_type": "markdown",
   "metadata": {},
   "source": [
    "![](images/poisson.png)"
   ]
  },
  {
   "cell_type": "code",
   "execution_count": 19,
   "metadata": {},
   "outputs": [
    {
     "data": {
      "text/plain": [
       "0.378556968730844"
      ]
     },
     "execution_count": 19,
     "metadata": {},
     "output_type": "execute_result"
    }
   ],
   "source": [
    "np.random.normal(1, 1)"
   ]
  },
  {
   "cell_type": "code",
   "execution_count": 20,
   "metadata": {},
   "outputs": [
    {
     "data": {
      "text/plain": [
       "2"
      ]
     },
     "execution_count": 20,
     "metadata": {},
     "output_type": "execute_result"
    }
   ],
   "source": [
    "np.random.poisson(1)"
   ]
  },
  {
   "cell_type": "code",
   "execution_count": 21,
   "metadata": {},
   "outputs": [
    {
     "data": {
      "text/plain": [
       "90"
      ]
     },
     "execution_count": 21,
     "metadata": {},
     "output_type": "execute_result"
    }
   ],
   "source": [
    "duke = 83.4\n",
    "np.random.poisson(duke)"
   ]
  },
  {
   "cell_type": "markdown",
   "metadata": {},
   "source": [
    "### bears to snakes"
   ]
  },
  {
   "cell_type": "code",
   "execution_count": 22,
   "metadata": {},
   "outputs": [],
   "source": [
    "east = ncaa.query(\"region == 'East'\")\n",
    "east = east.set_index('school', drop=False)\n",
    "schools = east.to_dict(orient='index')"
   ]
  },
  {
   "cell_type": "code",
   "execution_count": 23,
   "metadata": {},
   "outputs": [
    {
     "data": {
      "text/plain": [
       "{'school': 'Duke',\n",
       " 'region': 'East',\n",
       " 'seed': 1,\n",
       " 'pf': 83.4,\n",
       " 'pa': 67.6,\n",
       " 'pf_conf': 73.21,\n",
       " 'pa_conf': 67.82}"
      ]
     },
     "execution_count": 23,
     "metadata": {},
     "output_type": "execute_result"
    }
   ],
   "source": [
    "schools['Duke']"
   ]
  },
  {
   "cell_type": "code",
   "execution_count": 24,
   "metadata": {},
   "outputs": [
    {
     "data": {
      "text/plain": [
       "{'school': 'North Dakota State',\n",
       " 'region': 'East',\n",
       " 'seed': 16,\n",
       " 'pf': 72.2,\n",
       " 'pa': 74.1,\n",
       " 'pf_conf': 73.86,\n",
       " 'pa_conf': 75.94}"
      ]
     },
     "execution_count": 24,
     "metadata": {},
     "output_type": "execute_result"
    }
   ],
   "source": [
    "schools['North Dakota State']"
   ]
  },
  {
   "cell_type": "markdown",
   "metadata": {},
   "source": [
    "### atk / def strength model"
   ]
  },
  {
   "cell_type": "code",
   "execution_count": 25,
   "metadata": {},
   "outputs": [],
   "source": [
    "def simulate_points(a, b):\n",
    "    atts = a['pf'] / a['pf_conf']\n",
    "    defs = b['pa'] / b['pa_conf']\n",
    "    pts = PF * atts * defs\n",
    "    return np.random.poisson(pts)"
   ]
  },
  {
   "cell_type": "code",
   "execution_count": 26,
   "metadata": {},
   "outputs": [],
   "source": [
    "a = schools['Duke']\n",
    "b = schools['North Dakota State']"
   ]
  },
  {
   "cell_type": "code",
   "execution_count": 27,
   "metadata": {},
   "outputs": [
    {
     "data": {
      "text/plain": [
       "84"
      ]
     },
     "execution_count": 27,
     "metadata": {},
     "output_type": "execute_result"
    }
   ],
   "source": [
    "simulate_points(a, b)"
   ]
  },
  {
   "cell_type": "code",
   "execution_count": 28,
   "metadata": {},
   "outputs": [
    {
     "data": {
      "text/plain": [
       "73"
      ]
     },
     "execution_count": 28,
     "metadata": {},
     "output_type": "execute_result"
    }
   ],
   "source": [
    "simulate_points(b, a)"
   ]
  },
  {
   "cell_type": "markdown",
   "metadata": {},
   "source": [
    "### simulate game"
   ]
  },
  {
   "cell_type": "code",
   "execution_count": 29,
   "metadata": {},
   "outputs": [],
   "source": [
    "def simulate_game(a, b):\n",
    "    pa = simulate_points(a, b)\n",
    "    pb = simulate_points(b, a)\n",
    "    return a if pa >= pb else b"
   ]
  },
  {
   "cell_type": "code",
   "execution_count": 30,
   "metadata": {},
   "outputs": [
    {
     "data": {
      "text/plain": [
       "{'school': 'Duke',\n",
       " 'region': 'East',\n",
       " 'seed': 1,\n",
       " 'pf': 83.4,\n",
       " 'pa': 67.6,\n",
       " 'pf_conf': 73.21,\n",
       " 'pa_conf': 67.82}"
      ]
     },
     "execution_count": 30,
     "metadata": {},
     "output_type": "execute_result"
    }
   ],
   "source": [
    "simulate_game(a, b)"
   ]
  },
  {
   "cell_type": "markdown",
   "metadata": {},
   "source": [
    "### simulate tournament"
   ]
  },
  {
   "cell_type": "code",
   "execution_count": 31,
   "metadata": {},
   "outputs": [],
   "source": [
    "# bracket pairings\n",
    "def create_bracket():\n",
    "    bracket = {\n",
    "        # 1 - 64 teams\n",
    "        'A': {1: None, 16: None},\n",
    "        'B': {8: None, 9: None},\n",
    "        'C': {5: None, 12: None},\n",
    "        'D': {4: None, 13: None},\n",
    "        'E': {6: None, 11: None},\n",
    "        'F': {3: None, 14: None},\n",
    "        'G': {7: None, 10: None},\n",
    "        'H': {2: None, 15: None},\n",
    "        # 2 - 32 teams\n",
    "        'AB': {'A': None, 'B': None},\n",
    "        'CD': {'C': None, 'D': None},\n",
    "        'EF': {'E': None, 'F': None},\n",
    "        'GH': {'G': None, 'H': None},\n",
    "        # 3 - 16 teams\n",
    "        'ABCD': {'AB': None, 'CD': None},\n",
    "        'EFGH': {'EF': None, 'GH': None},\n",
    "        # 4 - 8 teams\n",
    "        'ABCDEFGH': {'ABCD': None, 'EFGH': None}\n",
    "    }\n",
    "    return bracket"
   ]
  },
  {
   "cell_type": "code",
   "execution_count": 32,
   "metadata": {},
   "outputs": [],
   "source": [
    "bracket = create_bracket()"
   ]
  },
  {
   "cell_type": "code",
   "execution_count": 33,
   "metadata": {},
   "outputs": [],
   "source": [
    "def seed_bracket(schools):\n",
    "    init = {s['seed']: s['school'] for s in schools.values()}\n",
    "    for matchup, seeds in bracket.items():\n",
    "        for seed in seeds:\n",
    "            school = init.get(seed)\n",
    "            bracket[matchup][seed] = school"
   ]
  },
  {
   "cell_type": "code",
   "execution_count": 34,
   "metadata": {},
   "outputs": [],
   "source": [
    "seed_bracket(schools)"
   ]
  },
  {
   "cell_type": "code",
   "execution_count": 35,
   "metadata": {},
   "outputs": [
    {
     "data": {
      "text/plain": [
       "{'A': {1: 'Duke', 16: 'North Dakota State'},\n",
       " 'B': {8: 'Virginia Commonwealth', 9: 'Central Florida'},\n",
       " 'C': {5: 'Mississippi State', 12: 'Liberty'},\n",
       " 'D': {4: 'Virginia Tech', 13: 'Saint Louis'},\n",
       " 'E': {6: 'Maryland', 11: 'Belmont'},\n",
       " 'F': {3: 'Louisiana State', 14: 'Yale'},\n",
       " 'G': {7: 'Louisville', 10: 'Minnesota'},\n",
       " 'H': {2: 'Michigan State', 15: 'Bradley'},\n",
       " 'AB': {'A': None, 'B': None},\n",
       " 'CD': {'C': None, 'D': None},\n",
       " 'EF': {'E': None, 'F': None},\n",
       " 'GH': {'G': None, 'H': None},\n",
       " 'ABCD': {'AB': None, 'CD': None},\n",
       " 'EFGH': {'EF': None, 'GH': None},\n",
       " 'ABCDEFGH': {'ABCD': None, 'EFGH': None}}"
      ]
     },
     "execution_count": 35,
     "metadata": {},
     "output_type": "execute_result"
    }
   ],
   "source": [
    "bracket"
   ]
  },
  {
   "cell_type": "markdown",
   "metadata": {},
   "source": [
    "### play matchups"
   ]
  },
  {
   "cell_type": "code",
   "execution_count": 36,
   "metadata": {},
   "outputs": [],
   "source": [
    "def play_game(matchup):\n",
    "    a, b = bracket[matchup].values()\n",
    "    winner = simulate_game(schools[a], schools[b])\n",
    "    winner = winner['school']\n",
    "    return winner"
   ]
  },
  {
   "cell_type": "code",
   "execution_count": 37,
   "metadata": {},
   "outputs": [
    {
     "data": {
      "text/plain": [
       "'North Dakota State'"
      ]
     },
     "execution_count": 37,
     "metadata": {},
     "output_type": "execute_result"
    }
   ],
   "source": [
    "play_game('A')"
   ]
  },
  {
   "cell_type": "code",
   "execution_count": 38,
   "metadata": {},
   "outputs": [],
   "source": [
    "def play_region():\n",
    "    for matchup in bracket:\n",
    "        winner = play_game(matchup)\n",
    "        if matchup == 'ABCDEFGH':\n",
    "            return winner\n",
    "        else:\n",
    "            [value \n",
    "                 for value in bracket.values() \n",
    "                 if matchup in value\n",
    "            ][0][matchup] = winner"
   ]
  },
  {
   "cell_type": "code",
   "execution_count": 39,
   "metadata": {},
   "outputs": [
    {
     "data": {
      "text/plain": [
       "'Liberty'"
      ]
     },
     "execution_count": 39,
     "metadata": {},
     "output_type": "execute_result"
    }
   ],
   "source": [
    "play_region()"
   ]
  },
  {
   "cell_type": "code",
   "execution_count": 40,
   "metadata": {},
   "outputs": [
    {
     "data": {
      "text/plain": [
       "{'A': {1: 'Duke', 16: 'North Dakota State'},\n",
       " 'B': {8: 'Virginia Commonwealth', 9: 'Central Florida'},\n",
       " 'C': {5: 'Mississippi State', 12: 'Liberty'},\n",
       " 'D': {4: 'Virginia Tech', 13: 'Saint Louis'},\n",
       " 'E': {6: 'Maryland', 11: 'Belmont'},\n",
       " 'F': {3: 'Louisiana State', 14: 'Yale'},\n",
       " 'G': {7: 'Louisville', 10: 'Minnesota'},\n",
       " 'H': {2: 'Michigan State', 15: 'Bradley'},\n",
       " 'AB': {'A': 'Duke', 'B': 'Central Florida'},\n",
       " 'CD': {'C': 'Liberty', 'D': 'Virginia Tech'},\n",
       " 'EF': {'E': 'Belmont', 'F': 'Yale'},\n",
       " 'GH': {'G': 'Louisville', 'H': 'Bradley'},\n",
       " 'ABCD': {'AB': 'Central Florida', 'CD': 'Liberty'},\n",
       " 'EFGH': {'EF': 'Belmont', 'GH': 'Bradley'},\n",
       " 'ABCDEFGH': {'ABCD': 'Liberty', 'EFGH': 'Belmont'}}"
      ]
     },
     "execution_count": 40,
     "metadata": {},
     "output_type": "execute_result"
    }
   ],
   "source": [
    "bracket"
   ]
  },
  {
   "cell_type": "markdown",
   "metadata": {},
   "source": [
    "### again"
   ]
  },
  {
   "cell_type": "code",
   "execution_count": 41,
   "metadata": {},
   "outputs": [
    {
     "name": "stdout",
     "output_type": "stream",
     "text": [
      "Belmont\n"
     ]
    },
    {
     "data": {
      "text/plain": [
       "{'A': {1: 'Duke', 16: 'North Dakota State'},\n",
       " 'B': {8: 'Virginia Commonwealth', 9: 'Central Florida'},\n",
       " 'C': {5: 'Mississippi State', 12: 'Liberty'},\n",
       " 'D': {4: 'Virginia Tech', 13: 'Saint Louis'},\n",
       " 'E': {6: 'Maryland', 11: 'Belmont'},\n",
       " 'F': {3: 'Louisiana State', 14: 'Yale'},\n",
       " 'G': {7: 'Louisville', 10: 'Minnesota'},\n",
       " 'H': {2: 'Michigan State', 15: 'Bradley'},\n",
       " 'AB': {'A': 'Duke', 'B': 'Virginia Commonwealth'},\n",
       " 'CD': {'C': 'Mississippi State', 'D': 'Saint Louis'},\n",
       " 'EF': {'E': 'Belmont', 'F': 'Louisiana State'},\n",
       " 'GH': {'G': 'Louisville', 'H': 'Michigan State'},\n",
       " 'ABCD': {'AB': 'Duke', 'CD': 'Mississippi State'},\n",
       " 'EFGH': {'EF': 'Belmont', 'GH': 'Michigan State'},\n",
       " 'ABCDEFGH': {'ABCD': 'Duke', 'EFGH': 'Belmont'}}"
      ]
     },
     "execution_count": 41,
     "metadata": {},
     "output_type": "execute_result"
    }
   ],
   "source": [
    "bracket = create_bracket()\n",
    "seed_bracket(schools)\n",
    "winner = play_region()\n",
    "print(winner)\n",
    "bracket"
   ]
  },
  {
   "cell_type": "markdown",
   "metadata": {},
   "source": [
    "### activity "
   ]
  },
  {
   "cell_type": "markdown",
   "metadata": {},
   "source": [
    "1. Refactor the code to accept {all}/{any of the} four regions"
   ]
  },
  {
   "cell_type": "code",
   "execution_count": null,
   "metadata": {},
   "outputs": [],
   "source": []
  },
  {
   "cell_type": "markdown",
   "metadata": {},
   "source": [
    "2. Extend or augment the code to keep track of the winners over multiple simulations"
   ]
  },
  {
   "cell_type": "code",
   "execution_count": null,
   "metadata": {},
   "outputs": [],
   "source": []
  }
 ],
 "metadata": {
  "kernelspec": {
   "display_name": "Python 3",
   "language": "python",
   "name": "python3"
  },
  "language_info": {
   "codemirror_mode": {
    "name": "ipython",
    "version": 3
   },
   "file_extension": ".py",
   "mimetype": "text/x-python",
   "name": "python",
   "nbconvert_exporter": "python",
   "pygments_lexer": "ipython3",
   "version": "3.7.1"
  }
 },
 "nbformat": 4,
 "nbformat_minor": 2
}
