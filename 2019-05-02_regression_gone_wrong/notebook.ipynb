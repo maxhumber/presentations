{
 "cells": [
  {
   "cell_type": "markdown",
   "metadata": {
    "slideshow": {
     "slide_type": "slide"
    }
   },
   "source": [
    "<div align=\"center\">\n",
    "  <h1>Regression Gone Wrong*</h1>\n",
    "    <font color=\"blue\"><a href=\"https://twitter.com/maxhumber\"><h2>@maxhumber</h2></a></font>\n",
    "  <a href=\"www.github.com/maxhumber/regression\"><h5>www.github.com/maxhumber/regression</h5></a>   \n",
    "  <h4>Boston • ODSC • May 2, 2019</h4>\n",
    "</div>"
   ]
  },
  {
   "cell_type": "markdown",
   "metadata": {
    "slideshow": {
     "slide_type": "slide"
    }
   },
   "source": [
    "<div align=\"center\">\n",
    "    <img src=\"images/ymxb.png\" height=\"600\" width=\"600\">\n",
    "</div>"
   ]
  },
  {
   "cell_type": "markdown",
   "metadata": {
    "slideshow": {
     "slide_type": "slide"
    }
   },
   "source": [
    "<div align=\"center\">\n",
    "    <img src=\"images/datalol.png\" height=\"600\" width=\"600\">\n",
    "</div>"
   ]
  },
  {
   "cell_type": "markdown",
   "metadata": {
    "slideshow": {
     "slide_type": "slide"
    }
   },
   "source": [
    "<div align=\"center\">\n",
    "    <img src=\"images/titanic.jpg\" height=\"700\" width=\"700\">\n",
    "</div>"
   ]
  },
  {
   "cell_type": "markdown",
   "metadata": {
    "slideshow": {
     "slide_type": "slide"
    }
   },
   "source": [
    "<div align=\"center\">\n",
    "    <img src=\"images/hockey_clipart.jpg\" height=\"500\" width=\"500\">\n",
    "</div>"
   ]
  },
  {
   "cell_type": "markdown",
   "metadata": {
    "slideshow": {
     "slide_type": "slide"
    }
   },
   "source": [
    "<div align=\"center\">\n",
    "    <img src=\"images/toronto.jpg\" height=\"800\" width=\"800\">\n",
    "</div>"
   ]
  },
  {
   "cell_type": "markdown",
   "metadata": {
    "slideshow": {
     "slide_type": "slide"
    }
   },
   "source": [
    "<div align=\"center\">\n",
    "    <img src=\"images/bruins.jpg\" height=\"700\" width=\"700\">\n",
    "</div>"
   ]
  },
  {
   "cell_type": "markdown",
   "metadata": {
    "slideshow": {
     "slide_type": "slide"
    }
   },
   "source": [
    "<div align=\"center\">\n",
    "    <img src=\"images/leafs_ice.jpg\" height=\"600\" width=\"600\">\n",
    "</div>"
   ]
  },
  {
   "cell_type": "markdown",
   "metadata": {
    "slideshow": {
     "slide_type": "slide"
    }
   },
   "source": [
    "<div align=\"center\">\n",
    "    <b><font size=\"+10\">Regression 101</font></b>\n",
    "</div>"
   ]
  },
  {
   "cell_type": "code",
   "execution_count": 1,
   "metadata": {
    "slideshow": {
     "slide_type": "slide"
    }
   },
   "outputs": [],
   "source": [
    "# step 1:\n",
    "import pandas as pd"
   ]
  },
  {
   "cell_type": "code",
   "execution_count": 2,
   "metadata": {
    "slideshow": {
     "slide_type": "fragment"
    }
   },
   "outputs": [],
   "source": [
    "# step 2:\n",
    "df = pd.read_csv('data/skaters.csv')\n",
    "columns = ['name', 'age', 'position', 'goals', 'assists', 'plus_minus', 'shots_on_goal', 'blocks', 'hits']\n",
    "df = df[columns].dropna()"
   ]
  },
  {
   "cell_type": "code",
   "execution_count": 3,
   "metadata": {
    "scrolled": false,
    "slideshow": {
     "slide_type": "slide"
    }
   },
   "outputs": [
    {
     "data": {
      "text/html": [
       "<table border=\"1\" class=\"dataframe table table-responsive table-striped table-bordered\">\n",
       "  <thead>\n",
       "    <tr style=\"text-align: right;\">\n",
       "      <th>name</th>\n",
       "      <th>age</th>\n",
       "      <th>position</th>\n",
       "      <th>goals</th>\n",
       "      <th>assists</th>\n",
       "      <th>plus_minus</th>\n",
       "      <th>shots_on_goal</th>\n",
       "      <th>blocks</th>\n",
       "      <th>hits</th>\n",
       "    </tr>\n",
       "  </thead>\n",
       "  <tbody>\n",
       "    <tr>\n",
       "      <td>P.K. Subban</td>\n",
       "      <td>20.0</td>\n",
       "      <td>D</td>\n",
       "      <td>0</td>\n",
       "      <td>2</td>\n",
       "      <td>1</td>\n",
       "      <td>4</td>\n",
       "      <td>2.0</td>\n",
       "      <td>1.0</td>\n",
       "    </tr>\n",
       "    <tr>\n",
       "      <td>John Tavares</td>\n",
       "      <td>22.0</td>\n",
       "      <td>C</td>\n",
       "      <td>28</td>\n",
       "      <td>19</td>\n",
       "      <td>-2</td>\n",
       "      <td>162</td>\n",
       "      <td>22.0</td>\n",
       "      <td>33.0</td>\n",
       "    </tr>\n",
       "    <tr>\n",
       "      <td>Kevin Fiala</td>\n",
       "      <td>20.0</td>\n",
       "      <td>LW</td>\n",
       "      <td>11</td>\n",
       "      <td>5</td>\n",
       "      <td>1</td>\n",
       "      <td>114</td>\n",
       "      <td>14.0</td>\n",
       "      <td>44.0</td>\n",
       "    </tr>\n",
       "    <tr>\n",
       "      <td>Kris Letang</td>\n",
       "      <td>27.0</td>\n",
       "      <td>D</td>\n",
       "      <td>11</td>\n",
       "      <td>43</td>\n",
       "      <td>12</td>\n",
       "      <td>197</td>\n",
       "      <td>117.0</td>\n",
       "      <td>131.0</td>\n",
       "    </tr>\n",
       "    <tr>\n",
       "      <td>Morgan Rielly</td>\n",
       "      <td>24.0</td>\n",
       "      <td>D</td>\n",
       "      <td>20</td>\n",
       "      <td>52</td>\n",
       "      <td>24</td>\n",
       "      <td>223</td>\n",
       "      <td>114.0</td>\n",
       "      <td>61.0</td>\n",
       "    </tr>\n",
       "  </tbody>\n",
       "</table>"
      ],
      "text/plain": [
       "<IPython.core.display.HTML object>"
      ]
     },
     "execution_count": 3,
     "metadata": {},
     "output_type": "execute_result"
    }
   ],
   "source": [
    "from IPython.core.display import HTML\n",
    "\n",
    "def display(df, index=False):\n",
    "    return HTML(df.to_html(\n",
    "        index=index,\n",
    "        classes='table table-responsive table-striped table-bordered'\n",
    "    ))\n",
    "\n",
    "display(df.sample(5))"
   ]
  },
  {
   "cell_type": "code",
   "execution_count": 4,
   "metadata": {
    "slideshow": {
     "slide_type": "slide"
    }
   },
   "outputs": [],
   "source": [
    "# step 3 - target:\n",
    "y = df['goals']\n",
    "X = df[['age', 'assists', 'plus_minus', 'shots_on_goal', 'blocks', 'hits']]"
   ]
  },
  {
   "cell_type": "code",
   "execution_count": 5,
   "metadata": {
    "slideshow": {
     "slide_type": "fragment"
    }
   },
   "outputs": [],
   "source": [
    "# step 4:\n",
    "from sklearn.model_selection import train_test_split\n",
    "X_train, X_test, y_train, y_test = train_test_split(\n",
    "    X, y, test_size=0.2, random_state=1993)"
   ]
  },
  {
   "cell_type": "code",
   "execution_count": 6,
   "metadata": {
    "slideshow": {
     "slide_type": "slide"
    }
   },
   "outputs": [],
   "source": [
    "# step 5:\n",
    "from sklearn.linear_model import LinearRegression"
   ]
  },
  {
   "cell_type": "code",
   "execution_count": 7,
   "metadata": {
    "slideshow": {
     "slide_type": "fragment"
    }
   },
   "outputs": [],
   "source": [
    "# step 6:\n",
    "model = LinearRegression()"
   ]
  },
  {
   "cell_type": "code",
   "execution_count": 8,
   "metadata": {
    "slideshow": {
     "slide_type": "fragment"
    }
   },
   "outputs": [
    {
     "data": {
      "text/plain": [
       "LinearRegression(copy_X=True, fit_intercept=True, n_jobs=None,\n",
       "         normalize=False)"
      ]
     },
     "execution_count": 8,
     "metadata": {},
     "output_type": "execute_result"
    }
   ],
   "source": [
    "# step 7:\n",
    "model.fit(X_train, y_train)"
   ]
  },
  {
   "cell_type": "code",
   "execution_count": 9,
   "metadata": {
    "slideshow": {
     "slide_type": "fragment"
    }
   },
   "outputs": [],
   "source": [
    "# step 8:\n",
    "y_hat = model.predict(X_test)"
   ]
  },
  {
   "cell_type": "code",
   "execution_count": 10,
   "metadata": {
    "slideshow": {
     "slide_type": "slide"
    }
   },
   "outputs": [
    {
     "name": "stdout",
     "output_type": "stream",
     "text": [
      "R^2: 0.81\n",
      "MAE: 2.96\n"
     ]
    }
   ],
   "source": [
    "# step 9:\n",
    "from sklearn.metrics import r2_score, mean_absolute_error\n",
    "print(f'R^2: {r2_score(y_test, y_hat):.2f}')\n",
    "print(f'MAE: {mean_absolute_error(y_test, y_hat):.2f}')"
   ]
  },
  {
   "cell_type": "code",
   "execution_count": 13,
   "metadata": {
    "slideshow": {
     "slide_type": "fragment"
    }
   },
   "outputs": [
    {
     "data": {
      "text/html": [
       "<img src=\"images/go_me.gif\" height=\"250\" width=\"250\">"
      ],
      "text/plain": [
       "<IPython.core.display.HTML object>"
      ]
     },
     "execution_count": 13,
     "metadata": {},
     "output_type": "execute_result"
    }
   ],
   "source": [
    "def gif(f, height=250, width=250):\n",
    "    return HTML(f'<img src=\"images/{f}\" height=\"{height}\" width=\"{width}\">')\n",
    "\n",
    "gif('go_me.gif')"
   ]
  },
  {
   "cell_type": "code",
   "execution_count": 14,
   "metadata": {
    "slideshow": {
     "slide_type": "slide"
    }
   },
   "outputs": [
    {
     "data": {
      "image/png": "[encoded data removed]",
      "text/plain": [
       "<Figure size 576x360 with 1 Axes>"
      ]
     },
     "metadata": {
      "needs_background": "light"
     },
     "output_type": "display_data"
    }
   ],
   "source": [
    "from matplotlib import pyplot as plt\n",
    "%matplotlib inline\n",
    "\n",
    "plt.figure(figsize=(8, 5))\n",
    "plt.scatter(y_test, y_hat, alpha=1/5)\n",
    "plt.plot([0, 50], [0, 50], c='r');"
   ]
  },
  {
   "cell_type": "code",
   "execution_count": 15,
   "metadata": {
    "slideshow": {
     "slide_type": "slide"
    }
   },
   "outputs": [
    {
     "data": {
      "text/html": [
       "<table border=\"1\" class=\"dataframe table table-responsive table-striped table-bordered\">\n",
       "  <thead>\n",
       "    <tr style=\"text-align: right;\">\n",
       "      <th>name</th>\n",
       "      <th>age</th>\n",
       "      <th>position</th>\n",
       "      <th>goals</th>\n",
       "      <th>assists</th>\n",
       "      <th>plus_minus</th>\n",
       "      <th>shots_on_goal</th>\n",
       "      <th>blocks</th>\n",
       "      <th>hits</th>\n",
       "    </tr>\n",
       "  </thead>\n",
       "  <tbody>\n",
       "    <tr>\n",
       "      <td>Shea Weber</td>\n",
       "      <td>32.0</td>\n",
       "      <td>D</td>\n",
       "      <td>6</td>\n",
       "      <td>10</td>\n",
       "      <td>-8</td>\n",
       "      <td>75</td>\n",
       "      <td>59.0</td>\n",
       "      <td>66.0</td>\n",
       "    </tr>\n",
       "    <tr>\n",
       "      <td>Dylan Sikura</td>\n",
       "      <td>23.0</td>\n",
       "      <td>C</td>\n",
       "      <td>0</td>\n",
       "      <td>8</td>\n",
       "      <td>2</td>\n",
       "      <td>52</td>\n",
       "      <td>10.0</td>\n",
       "      <td>3.0</td>\n",
       "    </tr>\n",
       "    <tr>\n",
       "      <td>Matt Puempel</td>\n",
       "      <td>24.0</td>\n",
       "      <td>LW</td>\n",
       "      <td>6</td>\n",
       "      <td>3</td>\n",
       "      <td>-11</td>\n",
       "      <td>44</td>\n",
       "      <td>12.0</td>\n",
       "      <td>28.0</td>\n",
       "    </tr>\n",
       "    <tr>\n",
       "      <td>Connor Carrick</td>\n",
       "      <td>22.0</td>\n",
       "      <td>D</td>\n",
       "      <td>2</td>\n",
       "      <td>6</td>\n",
       "      <td>8</td>\n",
       "      <td>89</td>\n",
       "      <td>79.0</td>\n",
       "      <td>66.0</td>\n",
       "    </tr>\n",
       "    <tr>\n",
       "      <td>Jonathan Huberdeau</td>\n",
       "      <td>23.0</td>\n",
       "      <td>C</td>\n",
       "      <td>10</td>\n",
       "      <td>16</td>\n",
       "      <td>-2</td>\n",
       "      <td>86</td>\n",
       "      <td>7.0</td>\n",
       "      <td>18.0</td>\n",
       "    </tr>\n",
       "  </tbody>\n",
       "</table>"
      ],
      "text/plain": [
       "<IPython.core.display.HTML object>"
      ]
     },
     "execution_count": 15,
     "metadata": {},
     "output_type": "execute_result"
    }
   ],
   "source": [
    "display(df.sample(5))"
   ]
  },
  {
   "cell_type": "markdown",
   "metadata": {
    "slideshow": {
     "slide_type": "slide"
    }
   },
   "source": [
    "<h1>problems...</h1>\n",
    "<ol>\n",
    "    <li>it's nonsense...</li>\n",
    "    <li>can't extend to new data...</li>\n",
    "    <li><i>maybe</i> not the right algorithm...</li>\n",
    "</ol>\n",
    "<br>\n",
    "<div align=\"left\">\n",
    "    <img src=\"images/oh_no.gif\" height=\"250\" width=\"250\">\n",
    "</div>"
   ]
  },
  {
   "cell_type": "markdown",
   "metadata": {
    "slideshow": {
     "slide_type": "slide"
    }
   },
   "source": [
    "<div align=\"center\">\n",
    "  <h4>Regression Gone Wrong*</h4>\n",
    "</div>"
   ]
  },
  {
   "cell_type": "markdown",
   "metadata": {
    "slideshow": {
     "slide_type": "fragment"
    }
   },
   "source": [
    "<div align=\"center\">\n",
    "    <b><font size=\"+10\" color=\"red\">#YouSuckAtRegression</font></b>\n",
    "</div>"
   ]
  },
  {
   "cell_type": "markdown",
   "metadata": {
    "slideshow": {
     "slide_type": "fragment"
    }
   },
   "source": [
    "<div align=\"center\">\n",
    "    <img src=\"images/the_show.gif\" height=\"400\" width=\"400\">\n",
    "</div>"
   ]
  },
  {
   "cell_type": "markdown",
   "metadata": {
    "slideshow": {
     "slide_type": "slide"
    }
   },
   "source": [
    "<h4>model preview</h4>\n",
    "<ol>\n",
    "    <li>Multiple output regression...</li>\n",
    "    <li>Ordinal regression...</li>\n",
    "    <li>Poisson regression...</li>\n",
    "</ol>"
   ]
  },
  {
   "cell_type": "markdown",
   "metadata": {
    "slideshow": {
     "slide_type": "fragment"
    }
   },
   "source": [
    "<ol>\n",
    "<li>...to predict player performance next year</li>\n",
    "<li>...to find diamonds in the rough</li>\n",
    "<li>...to choose the right side of the Over/Under</li>\n",
    "</ol>"
   ]
  },
  {
   "cell_type": "markdown",
   "metadata": {
    "slideshow": {
     "slide_type": "slide"
    }
   },
   "source": [
    "<div align=\"center\">\n",
    "    <img src=\"images/kramer.gif\" height=\"400\" width=\"400\">\n",
    "</div>"
   ]
  },
  {
   "cell_type": "markdown",
   "metadata": {
    "slideshow": {
     "slide_type": "slide"
    }
   },
   "source": [
    "<div align=\"center\">\n",
    "    <h1>Multiple Output Regression</h1>\n",
    "</div>"
   ]
  },
  {
   "cell_type": "markdown",
   "metadata": {
    "slideshow": {
     "slide_type": "slide"
    }
   },
   "source": [
    "<div align=\"center\">\n",
    "    <img src=\"images/ymxb.png\" height=\"300\" width=\"300\">\n",
    "</div>\n",
    "<br>\n",
    "<div align=\"center\">\n",
    "    <img src=\"images/prediction_machine.png\" height=\"400\" width=\"400\">\n",
    "</div>"
   ]
  },
  {
   "cell_type": "markdown",
   "metadata": {
    "slideshow": {
     "slide_type": "slide"
    }
   },
   "source": [
    "<div align=\"center\">\n",
    "    <img src=\"images/prediction_machine_2.png\" height=\"600\" width=\"600\">\n",
    "</div>"
   ]
  },
  {
   "cell_type": "code",
   "execution_count": 16,
   "metadata": {
    "slideshow": {
     "slide_type": "slide"
    }
   },
   "outputs": [],
   "source": [
    "import pandas as pd \n",
    "\n",
    "df = pd.read_csv('data/skaters.csv')\n",
    "# quick clean\n",
    "df['season_start'] = df['season'].apply(lambda x: int(x[:4]))\n",
    "df = df.query('season_start >= 2007')\n",
    "df['position'] = df['position'].apply(\n",
    "    lambda x: 'Multiple' if '/' in x else x)"
   ]
  },
  {
   "cell_type": "code",
   "execution_count": 17,
   "metadata": {
    "slideshow": {
     "slide_type": "fragment"
    }
   },
   "outputs": [],
   "source": [
    "Y_columns = [\n",
    "    'goals', 'assists', 'plus_minus', \n",
    "    'shots_on_goal', 'blocks', 'hits']\n",
    "X_columns = ['position', 'age'] + Y_columns"
   ]
  },
  {
   "cell_type": "code",
   "execution_count": 18,
   "metadata": {
    "slideshow": {
     "slide_type": "slide"
    }
   },
   "outputs": [
    {
     "data": {
      "text/html": [
       "<table border=\"1\" class=\"dataframe table table-responsive table-striped table-bordered\">\n",
       "  <thead>\n",
       "    <tr style=\"text-align: right;\">\n",
       "      <th>name</th>\n",
       "      <th>season</th>\n",
       "      <th>position</th>\n",
       "      <th>age</th>\n",
       "      <th>goals</th>\n",
       "      <th>assists</th>\n",
       "      <th>plus_minus</th>\n",
       "      <th>shots_on_goal</th>\n",
       "      <th>blocks</th>\n",
       "      <th>hits</th>\n",
       "    </tr>\n",
       "  </thead>\n",
       "  <tbody>\n",
       "    <tr>\n",
       "      <td>Mitch Marner</td>\n",
       "      <td>2016-17</td>\n",
       "      <td>C</td>\n",
       "      <td>19.0</td>\n",
       "      <td>19</td>\n",
       "      <td>42</td>\n",
       "      <td>0</td>\n",
       "      <td>176</td>\n",
       "      <td>39.0</td>\n",
       "      <td>41.0</td>\n",
       "    </tr>\n",
       "    <tr>\n",
       "      <td>Mitch Marner</td>\n",
       "      <td>2017-18</td>\n",
       "      <td>C</td>\n",
       "      <td>20.0</td>\n",
       "      <td>22</td>\n",
       "      <td>47</td>\n",
       "      <td>-1</td>\n",
       "      <td>194</td>\n",
       "      <td>25.0</td>\n",
       "      <td>31.0</td>\n",
       "    </tr>\n",
       "    <tr>\n",
       "      <td>Mitch Marner</td>\n",
       "      <td>2018-19</td>\n",
       "      <td>C</td>\n",
       "      <td>21.0</td>\n",
       "      <td>26</td>\n",
       "      <td>68</td>\n",
       "      <td>22</td>\n",
       "      <td>233</td>\n",
       "      <td>43.0</td>\n",
       "      <td>29.0</td>\n",
       "    </tr>\n",
       "  </tbody>\n",
       "</table>"
      ],
      "text/plain": [
       "<IPython.core.display.HTML object>"
      ]
     },
     "execution_count": 18,
     "metadata": {},
     "output_type": "execute_result"
    }
   ],
   "source": [
    "display(\n",
    "    df[['name', 'season'] + X_columns]\n",
    "    .query('name == \"Mitch Marner\"')\n",
    ")"
   ]
  },
  {
   "cell_type": "code",
   "execution_count": 21,
   "metadata": {
    "slideshow": {
     "slide_type": "slide"
    }
   },
   "outputs": [
    {
     "data": {
      "text/html": [
       "<img src=\"images/shift.gif\" height=\"150\" width=\"150\">"
      ],
      "text/plain": [
       "<IPython.core.display.HTML object>"
      ]
     },
     "execution_count": 21,
     "metadata": {},
     "output_type": "execute_result"
    }
   ],
   "source": [
    "# shift everything by a year \n",
    "Y = df.groupby('id')[Y_columns].shift(-1)\n",
    "X = df[X_columns]\n",
    "# drop out dangling Y rows...\n",
    "X = X[~pd.isnull(Y).any(axis=1)]\n",
    "Y = Y.dropna()\n",
    "# reset index\n",
    "Y = Y.reset_index(drop=True)\n",
    "X = X.reset_index(drop=True)\n",
    "# this is me shifting:\n",
    "gif('shift.gif', height=150, width=150)"
   ]
  },
  {
   "cell_type": "code",
   "execution_count": 22,
   "metadata": {
    "slideshow": {
     "slide_type": "slide"
    }
   },
   "outputs": [
    {
     "data": {
      "text/html": [
       "<table border=\"1\" class=\"dataframe table table-responsive table-striped table-bordered\">\n",
       "  <thead>\n",
       "    <tr style=\"text-align: right;\">\n",
       "      <th></th>\n",
       "      <th>position</th>\n",
       "      <th>age</th>\n",
       "      <th>goals</th>\n",
       "      <th>assists</th>\n",
       "      <th>plus_minus</th>\n",
       "      <th>shots_on_goal</th>\n",
       "      <th>blocks</th>\n",
       "      <th>hits</th>\n",
       "    </tr>\n",
       "  </thead>\n",
       "  <tbody>\n",
       "    <tr>\n",
       "      <th>0</th>\n",
       "      <td>C</td>\n",
       "      <td>22.0</td>\n",
       "      <td>0</td>\n",
       "      <td>3</td>\n",
       "      <td>2</td>\n",
       "      <td>9</td>\n",
       "      <td>2.0</td>\n",
       "      <td>0.0</td>\n",
       "    </tr>\n",
       "    <tr>\n",
       "      <th>1</th>\n",
       "      <td>D</td>\n",
       "      <td>23.0</td>\n",
       "      <td>0</td>\n",
       "      <td>3</td>\n",
       "      <td>-2</td>\n",
       "      <td>12</td>\n",
       "      <td>9.0</td>\n",
       "      <td>6.0</td>\n",
       "    </tr>\n",
       "    <tr>\n",
       "      <th>2</th>\n",
       "      <td>C</td>\n",
       "      <td>18.0</td>\n",
       "      <td>18</td>\n",
       "      <td>34</td>\n",
       "      <td>-2</td>\n",
       "      <td>134</td>\n",
       "      <td>33.0</td>\n",
       "      <td>38.0</td>\n",
       "    </tr>\n",
       "    <tr>\n",
       "      <th>3</th>\n",
       "      <td>C</td>\n",
       "      <td>19.0</td>\n",
       "      <td>4</td>\n",
       "      <td>20</td>\n",
       "      <td>3</td>\n",
       "      <td>78</td>\n",
       "      <td>27.0</td>\n",
       "      <td>27.0</td>\n",
       "    </tr>\n",
       "    <tr>\n",
       "      <th>4</th>\n",
       "      <td>C</td>\n",
       "      <td>20.0</td>\n",
       "      <td>19</td>\n",
       "      <td>37</td>\n",
       "      <td>-12</td>\n",
       "      <td>178</td>\n",
       "      <td>35.0</td>\n",
       "      <td>72.0</td>\n",
       "    </tr>\n",
       "  </tbody>\n",
       "</table>"
      ],
      "text/plain": [
       "<IPython.core.display.HTML object>"
      ]
     },
     "execution_count": 22,
     "metadata": {},
     "output_type": "execute_result"
    }
   ],
   "source": [
    "display(X.head(5), index=True)"
   ]
  },
  {
   "cell_type": "code",
   "execution_count": 23,
   "metadata": {
    "slideshow": {
     "slide_type": "fragment"
    }
   },
   "outputs": [
    {
     "data": {
      "text/html": [
       "<table border=\"1\" class=\"dataframe table table-responsive table-striped table-bordered\">\n",
       "  <thead>\n",
       "    <tr style=\"text-align: right;\">\n",
       "      <th></th>\n",
       "      <th>goals</th>\n",
       "      <th>assists</th>\n",
       "      <th>plus_minus</th>\n",
       "      <th>shots_on_goal</th>\n",
       "      <th>blocks</th>\n",
       "      <th>hits</th>\n",
       "    </tr>\n",
       "  </thead>\n",
       "  <tbody>\n",
       "    <tr>\n",
       "      <th>0</th>\n",
       "      <td>0.0</td>\n",
       "      <td>8.0</td>\n",
       "      <td>2.0</td>\n",
       "      <td>52.0</td>\n",
       "      <td>10.0</td>\n",
       "      <td>3.0</td>\n",
       "    </tr>\n",
       "    <tr>\n",
       "      <th>1</th>\n",
       "      <td>0.0</td>\n",
       "      <td>6.0</td>\n",
       "      <td>9.0</td>\n",
       "      <td>42.0</td>\n",
       "      <td>35.0</td>\n",
       "      <td>33.0</td>\n",
       "    </tr>\n",
       "    <tr>\n",
       "      <th>2</th>\n",
       "      <td>4.0</td>\n",
       "      <td>20.0</td>\n",
       "      <td>3.0</td>\n",
       "      <td>78.0</td>\n",
       "      <td>27.0</td>\n",
       "      <td>27.0</td>\n",
       "    </tr>\n",
       "    <tr>\n",
       "      <th>3</th>\n",
       "      <td>19.0</td>\n",
       "      <td>37.0</td>\n",
       "      <td>-12.0</td>\n",
       "      <td>178.0</td>\n",
       "      <td>35.0</td>\n",
       "      <td>72.0</td>\n",
       "    </tr>\n",
       "  </tbody>\n",
       "</table>"
      ],
      "text/plain": [
       "<IPython.core.display.HTML object>"
      ]
     },
     "execution_count": 23,
     "metadata": {},
     "output_type": "execute_result"
    }
   ],
   "source": [
    "display(Y.head(4), index=True)"
   ]
  },
  {
   "cell_type": "code",
   "execution_count": 24,
   "metadata": {
    "slideshow": {
     "slide_type": "slide"
    }
   },
   "outputs": [],
   "source": [
    "X_train, X_test, Y_train, Y_test = (\n",
    "    train_test_split(X, Y, test_size=0.2, random_state=42)\n",
    ")"
   ]
  },
  {
   "cell_type": "markdown",
   "metadata": {
    "slideshow": {
     "slide_type": "slide"
    }
   },
   "source": [
    "<div align=\"center\">\n",
    "    <img src=\"images/secret_sauce.jpg\" height=\"600\" width=\"600\">\n",
    "</div>"
   ]
  },
  {
   "cell_type": "code",
   "execution_count": 25,
   "metadata": {
    "slideshow": {
     "slide_type": "slide"
    }
   },
   "outputs": [],
   "source": [
    "from sklearn_pandas import DataFrameMapper, CategoricalImputer\n",
    "from sklearn.preprocessing import PolynomialFeatures, LabelBinarizer\n",
    "from sklearn.impute import SimpleImputer\n",
    "\n",
    "mapper = DataFrameMapper([\n",
    "    (['age'], [SimpleImputer(), PolynomialFeatures(include_bias=False)]),\n",
    "    (['position'], [CategoricalImputer(), LabelBinarizer()]),\n",
    "    (['goals'], SimpleImputer()),\n",
    "    (['assists'], SimpleImputer()),\n",
    "    (['plus_minus'], SimpleImputer()),\n",
    "    (['shots_on_goal'], SimpleImputer()),\n",
    "    (['blocks'], SimpleImputer()),\n",
    "    (['hits'], SimpleImputer())\n",
    "])"
   ]
  },
  {
   "cell_type": "code",
   "execution_count": 26,
   "metadata": {
    "slideshow": {
     "slide_type": "fragment"
    }
   },
   "outputs": [],
   "source": [
    "Z_train = mapper.fit_transform(X_train)\n",
    "Z_test = mapper.transform(X_test)"
   ]
  },
  {
   "cell_type": "code",
   "execution_count": 29,
   "metadata": {
    "slideshow": {
     "slide_type": "slide"
    }
   },
   "outputs": [
    {
     "data": {
      "text/html": [
       "<img src=\"images/magic.gif\" height=\"250\" width=\"250\">"
      ],
      "text/plain": [
       "<IPython.core.display.HTML object>"
      ]
     },
     "execution_count": 29,
     "metadata": {},
     "output_type": "execute_result"
    }
   ],
   "source": [
    "from sklearn.multioutput import MultiOutputRegressor\n",
    "\n",
    "multi_model = MultiOutputRegressor(LinearRegression())\n",
    "multi_model.fit(Z_train, Y_train)\n",
    "\n",
    "gif('magic.gif')"
   ]
  },
  {
   "cell_type": "code",
   "execution_count": 30,
   "metadata": {
    "slideshow": {
     "slide_type": "slide"
    }
   },
   "outputs": [
    {
     "data": {
      "text/html": [
       "<table border=\"1\" class=\"dataframe table table-responsive table-striped table-bordered\">\n",
       "  <thead>\n",
       "    <tr style=\"text-align: right;\">\n",
       "      <th></th>\n",
       "      <th>goals</th>\n",
       "      <th>assists</th>\n",
       "      <th>plus_minus</th>\n",
       "      <th>shots_on_goal</th>\n",
       "      <th>blocks</th>\n",
       "      <th>hits</th>\n",
       "    </tr>\n",
       "  </thead>\n",
       "  <tbody>\n",
       "    <tr>\n",
       "      <th>717</th>\n",
       "      <td>11.0</td>\n",
       "      <td>30.0</td>\n",
       "      <td>15.0</td>\n",
       "      <td>133.0</td>\n",
       "      <td>178.0</td>\n",
       "      <td>27.0</td>\n",
       "    </tr>\n",
       "    <tr>\n",
       "      <th>718</th>\n",
       "      <td>15.0</td>\n",
       "      <td>34.0</td>\n",
       "      <td>11.0</td>\n",
       "      <td>170.0</td>\n",
       "      <td>61.0</td>\n",
       "      <td>98.0</td>\n",
       "    </tr>\n",
       "  </tbody>\n",
       "</table>"
      ],
      "text/plain": [
       "<IPython.core.display.HTML object>"
      ]
     },
     "execution_count": 30,
     "metadata": {},
     "output_type": "execute_result"
    }
   ],
   "source": [
    "display(pd.DataFrame(Z_test, columns=mapper.transformed_names_)\n",
    "    [Y_columns].tail(2),index=True\n",
    ")"
   ]
  },
  {
   "cell_type": "code",
   "execution_count": 31,
   "metadata": {
    "slideshow": {
     "slide_type": "fragment"
    }
   },
   "outputs": [
    {
     "data": {
      "text/html": [
       "<table border=\"1\" class=\"dataframe table table-responsive table-striped table-bordered\">\n",
       "  <thead>\n",
       "    <tr style=\"text-align: right;\">\n",
       "      <th></th>\n",
       "      <th>goals</th>\n",
       "      <th>assists</th>\n",
       "      <th>plus_minus</th>\n",
       "      <th>shots_on_goal</th>\n",
       "      <th>blocks</th>\n",
       "      <th>hits</th>\n",
       "    </tr>\n",
       "  </thead>\n",
       "  <tbody>\n",
       "    <tr>\n",
       "      <th>717</th>\n",
       "      <td>8.458210</td>\n",
       "      <td>28.477160</td>\n",
       "      <td>6.268463</td>\n",
       "      <td>129.552805</td>\n",
       "      <td>150.222495</td>\n",
       "      <td>28.486686</td>\n",
       "    </tr>\n",
       "    <tr>\n",
       "      <th>718</th>\n",
       "      <td>17.329003</td>\n",
       "      <td>30.994235</td>\n",
       "      <td>3.292957</td>\n",
       "      <td>167.443193</td>\n",
       "      <td>52.733255</td>\n",
       "      <td>87.363247</td>\n",
       "    </tr>\n",
       "  </tbody>\n",
       "</table>"
      ],
      "text/plain": [
       "<IPython.core.display.HTML object>"
      ]
     },
     "execution_count": 31,
     "metadata": {},
     "output_type": "execute_result"
    }
   ],
   "source": [
    "display(pd.DataFrame(multi_model.predict(Z_test), columns=Y_columns)\n",
    "    .tail(2), index=True\n",
    ")"
   ]
  },
  {
   "cell_type": "markdown",
   "metadata": {
    "slideshow": {
     "slide_type": "slide"
    }
   },
   "source": [
    "<div align=\"center\">\n",
    "    <img src=\"images/deeper.jpg\" height=\"600\" width=\"600\">\n",
    "</div>"
   ]
  },
  {
   "cell_type": "code",
   "execution_count": 32,
   "metadata": {
    "slideshow": {
     "slide_type": "slide"
    }
   },
   "outputs": [],
   "source": [
    "y_sog = Y['shots_on_goal']\n",
    "y_goals = Y['goals']"
   ]
  },
  {
   "cell_type": "code",
   "execution_count": 35,
   "metadata": {
    "slideshow": {
     "slide_type": "slide"
    }
   },
   "outputs": [
    {
     "data": {
      "text/html": [
       "<img src=\"images/mindblown.gif\" height=\"100\" width=\"100\">"
      ],
      "text/plain": [
       "<IPython.core.display.HTML object>"
      ]
     },
     "execution_count": 35,
     "metadata": {},
     "output_type": "execute_result"
    }
   ],
   "source": [
    "(X_train, X_test, \n",
    " y_sog_train, y_sog_test, \n",
    " y_goals_train, y_goals_test) = train_test_split(\n",
    "    X, y_sog, y_goals,\n",
    "    test_size=0.2, random_state=42\n",
    ")\n",
    "\n",
    "gif('mindblown.gif', height=\"100\", width=\"100\")"
   ]
  },
  {
   "cell_type": "code",
   "execution_count": 36,
   "metadata": {
    "slideshow": {
     "slide_type": "fragment"
    }
   },
   "outputs": [],
   "source": [
    "Z_train = mapper.fit_transform(X_train)\n",
    "Z_test = mapper.transform(X_test)"
   ]
  },
  {
   "cell_type": "code",
   "execution_count": 37,
   "metadata": {
    "slideshow": {
     "slide_type": "slide"
    }
   },
   "outputs": [],
   "source": [
    "from tensorflow.keras import layers, Input, Model\n",
    "from tensorflow.keras.layers import Dense, Dropout"
   ]
  },
  {
   "cell_type": "markdown",
   "metadata": {
    "slideshow": {
     "slide_type": "fragment"
    }
   },
   "source": [
    "<div align=\"center\">\n",
    "    <img src=\"images/network.png\" height=\"250\" width=\"250\">\n",
    "</div>"
   ]
  },
  {
   "cell_type": "markdown",
   "metadata": {
    "slideshow": {
     "slide_type": "fragment"
    }
   },
   "source": [
    "<div align=\"center\">\n",
    "    <img src=\"images/share.gif\" height=\"250\" width=\"250\">\n",
    "</div>"
   ]
  },
  {
   "cell_type": "code",
   "execution_count": 38,
   "metadata": {
    "slideshow": {
     "slide_type": "slide"
    }
   },
   "outputs": [],
   "source": [
    "data_input = Input(shape=(Z_train.shape[1],), dtype='float64', name='last_season')\n",
    "\n",
    "x = Dense(50, activation='relu')(data_input)\n",
    "x = Dense(200, activation='relu')(x)\n",
    "x = Dense(50, activation='relu')(x)\n",
    "\n",
    "goals_prediction = Dense(1, name='goals')(x)\n",
    "sog_prediction = Dense(1, name='shots_on_goal')(x)\n",
    "model = Model(data_input, [goals_prediction, sog_prediction])"
   ]
  },
  {
   "cell_type": "code",
   "execution_count": 39,
   "metadata": {
    "slideshow": {
     "slide_type": "slide"
    }
   },
   "outputs": [
    {
     "data": {
      "image/png": "[encoded data removed]",
      "text/plain": [
       "<IPython.core.display.Image object>"
      ]
     },
     "execution_count": 39,
     "metadata": {},
     "output_type": "execute_result"
    }
   ],
   "source": [
    "from tensorflow.keras.utils import plot_model\n",
    "plot_model(model)"
   ]
  },
  {
   "cell_type": "code",
   "execution_count": 40,
   "metadata": {
    "slideshow": {
     "slide_type": "slide"
    }
   },
   "outputs": [
    {
     "name": "stdout",
     "output_type": "stream",
     "text": [
      "Epoch 1/10\n",
      "2874/2874 [==============================] - 2s 802us/sample - loss: 1049.8968 - goals_loss: 71.8429 - shots_on_goal_loss: 3314.6824\n",
      "Epoch 2/10\n",
      "2874/2874 [==============================] - 2s 632us/sample - loss: 802.2937 - goals_loss: 53.8377 - shots_on_goal_loss: 2639.1702\n",
      "Epoch 3/10\n",
      "2874/2874 [==============================] - 2s 632us/sample - loss: 764.1010 - goals_loss: 50.6600 - shots_on_goal_loss: 2575.0105\n",
      "Epoch 4/10\n",
      "2874/2874 [==============================] - 2s 632us/sample - loss: 729.0798 - goals_loss: 47.8668 - shots_on_goal_loss: 2504.1208\n",
      "Epoch 5/10\n",
      "2874/2874 [==============================] - 2s 639us/sample - loss: 711.1807 - goals_loss: 46.3438 - shots_on_goal_loss: 2477.4294\n",
      "Epoch 6/10\n",
      "2874/2874 [==============================] - 2s 659us/sample - loss: 702.8108 - goals_loss: 45.7206 - shots_on_goal_loss: 2456.0461\n",
      "Epoch 7/10\n",
      "2874/2874 [==============================] - 2s 614us/sample - loss: 697.4693 - goals_loss: 45.5496 - shots_on_goal_loss: 2419.7256\n",
      "Epoch 8/10\n",
      "2874/2874 [==============================] - 2s 621us/sample - loss: 687.9068 - goals_loss: 44.7507 - shots_on_goal_loss: 2403.9998\n",
      "Epoch 9/10\n",
      "2874/2874 [==============================] - 2s 683us/sample - loss: 682.9240 - goals_loss: 44.3721 - shots_on_goal_loss: 2392.0371\n",
      "Epoch 10/10\n",
      "2874/2874 [==============================] - 2s 625us/sample - loss: 672.2812 - goals_loss: 43.6051 - shots_on_goal_loss: 2362.2959\n"
     ]
    },
    {
     "data": {
      "text/plain": [
       "<tensorflow.python.keras.callbacks.History at 0x1a28010128>"
      ]
     },
     "execution_count": 40,
     "metadata": {},
     "output_type": "execute_result"
    }
   ],
   "source": [
    "model.compile(\n",
    "    optimizer='Nadam',\n",
    "    loss={'goals': 'mse', 'shots_on_goal': 'mse'},\n",
    "    loss_weights={'goals': 10, 'shots_on_goal': 1/10},\n",
    ")\n",
    "model.fit(Z_train, [y_goals_train, y_sog_train], \n",
    "    epochs=10, batch_size=2)"
   ]
  },
  {
   "cell_type": "code",
   "execution_count": 41,
   "metadata": {
    "slideshow": {
     "slide_type": "slide"
    }
   },
   "outputs": [
    {
     "data": {
      "text/plain": [
       "{'position': ['C'],\n",
       " 'age': [21.0],\n",
       " 'goals': [29],\n",
       " 'assists': [48],\n",
       " 'plus_minus': [7],\n",
       " 'shots_on_goal': [172],\n",
       " 'blocks': [36.0],\n",
       " 'hits': [41.0]}"
      ]
     },
     "execution_count": 41,
     "metadata": {},
     "output_type": "execute_result"
    }
   ],
   "source": [
    "X_test.sample(1).to_dict(orient='list')"
   ]
  },
  {
   "cell_type": "code",
   "execution_count": 42,
   "metadata": {
    "slideshow": {
     "slide_type": "slide"
    }
   },
   "outputs": [
    {
     "data": {
      "text/plain": [
       "[array([[16.49804686]]), array([[139.51257558]])]"
      ]
     },
     "execution_count": 42,
     "metadata": {},
     "output_type": "execute_result"
    }
   ],
   "source": [
    "X_new = pd.DataFrame({\n",
    "    'position': ['C'],\n",
    "    'age': [29.0],\n",
    "    'goals': [19],\n",
    "    'assists': [21],\n",
    "    'plus_minus': [2],\n",
    "    'shots_on_goal': [155],\n",
    "    'blocks': [47.0],\n",
    "    'hits': [255.0]\n",
    "})\n",
    "Z_new = mapper.transform(X_new)\n",
    "model.predict(Z_new)"
   ]
  },
  {
   "cell_type": "code",
   "execution_count": 46,
   "metadata": {
    "slideshow": {
     "slide_type": "slide"
    }
   },
   "outputs": [
    {
     "name": "stdout",
     "output_type": "stream",
     "text": [
      "0.6069494418760939\n",
      "0.5762410369870379\n"
     ]
    }
   ],
   "source": [
    "y_hat_goals = model.predict(Z_test)[0][:, 0]\n",
    "y_hat_sog = model.predict(Z_test)[1][:, 0]\n",
    "preds = pd.DataFrame({\n",
    "    'goals': y_goals_test,\n",
    "    'goals_predicted': y_hat_goals,\n",
    "    'sog': y_sog_test,\n",
    "    'sog_predicted': y_hat_sog,\n",
    "})\n",
    "\n",
    "print(r2_score(preds['goals'], preds['goals_predicted']))\n",
    "print(r2_score(preds['sog'], preds['sog_predicted']))\n",
    "\n",
    "# gif('unknown.gif')"
   ]
  },
  {
   "cell_type": "markdown",
   "metadata": {
    "slideshow": {
     "slide_type": "slide"
    }
   },
   "source": [
    "<div align=\"center\">\n",
    "    <img src=\"images/moneymoney.gif\" height=\"500\" width=\"500\">\n",
    "</div>"
   ]
  },
  {
   "cell_type": "code",
   "execution_count": 47,
   "metadata": {
    "slideshow": {
     "slide_type": "slide"
    }
   },
   "outputs": [
    {
     "data": {
      "text/html": [
       "<table border=\"1\" class=\"dataframe table table-responsive table-striped table-bordered\">\n",
       "  <thead>\n",
       "    <tr style=\"text-align: right;\">\n",
       "      <th>name</th>\n",
       "      <th>position</th>\n",
       "      <th>adp</th>\n",
       "      <th>goals</th>\n",
       "      <th>assists</th>\n",
       "      <th>plus_minus</th>\n",
       "      <th>powerplay_points</th>\n",
       "      <th>shots_on_goal</th>\n",
       "      <th>hits</th>\n",
       "      <th>blocks</th>\n",
       "    </tr>\n",
       "  </thead>\n",
       "  <tbody>\n",
       "    <tr>\n",
       "      <td>Connor McDavid</td>\n",
       "      <td>C</td>\n",
       "      <td>1</td>\n",
       "      <td>40.2750</td>\n",
       "      <td>69.665000</td>\n",
       "      <td>13.217500</td>\n",
       "      <td>19.75</td>\n",
       "      <td>208.250000</td>\n",
       "      <td>15.0</td>\n",
       "      <td>17.750000</td>\n",
       "    </tr>\n",
       "    <tr>\n",
       "      <td>Nikita Kucherov</td>\n",
       "      <td>RW</td>\n",
       "      <td>2</td>\n",
       "      <td>41.5150</td>\n",
       "      <td>56.670000</td>\n",
       "      <td>17.495000</td>\n",
       "      <td>28.50</td>\n",
       "      <td>214.750000</td>\n",
       "      <td>20.0</td>\n",
       "      <td>10.500000</td>\n",
       "    </tr>\n",
       "    <tr>\n",
       "      <td>Alex Ovechkin</td>\n",
       "      <td>LW</td>\n",
       "      <td>3</td>\n",
       "      <td>50.2300</td>\n",
       "      <td>39.236667</td>\n",
       "      <td>17.126667</td>\n",
       "      <td>21.00</td>\n",
       "      <td>245.666667</td>\n",
       "      <td>65.0</td>\n",
       "      <td>9.333333</td>\n",
       "    </tr>\n",
       "    <tr>\n",
       "      <td>Sidney Crosby</td>\n",
       "      <td>C</td>\n",
       "      <td>4</td>\n",
       "      <td>35.7775</td>\n",
       "      <td>62.445000</td>\n",
       "      <td>14.142500</td>\n",
       "      <td>28.75</td>\n",
       "      <td>197.500000</td>\n",
       "      <td>34.0</td>\n",
       "      <td>15.750000</td>\n",
       "    </tr>\n",
       "    <tr>\n",
       "      <td>Brad Marchand</td>\n",
       "      <td>LW</td>\n",
       "      <td>5</td>\n",
       "      <td>38.3900</td>\n",
       "      <td>52.975000</td>\n",
       "      <td>19.537500</td>\n",
       "      <td>20.00</td>\n",
       "      <td>174.250000</td>\n",
       "      <td>25.0</td>\n",
       "      <td>15.750000</td>\n",
       "    </tr>\n",
       "  </tbody>\n",
       "</table>"
      ],
      "text/plain": [
       "<IPython.core.display.HTML object>"
      ]
     },
     "execution_count": 47,
     "metadata": {},
     "output_type": "execute_result"
    }
   ],
   "source": [
    "df = pd.read_csv('data/draft.csv')\n",
    "display(df.iloc[:, :10].head())"
   ]
  },
  {
   "cell_type": "markdown",
   "metadata": {
    "slideshow": {
     "slide_type": "slide"
    }
   },
   "source": [
    "<div align=\"center\">\n",
    "    <img src=\"images/fantasy.jpg\" height=\"500\" width=\"600\">\n",
    "</div>"
   ]
  },
  {
   "cell_type": "markdown",
   "metadata": {
    "slideshow": {
     "slide_type": "slide"
    }
   },
   "source": [
    "<div align=\"center\">\n",
    "    <img src=\"images/nhl_blotto.png\" height=\"500\" width=\"800\">\n",
    "</div>"
   ]
  },
  {
   "cell_type": "markdown",
   "metadata": {
    "slideshow": {
     "slide_type": "fragment"
    }
   },
   "source": [
    "<div align=\"center\">\n",
    "    <img src=\"images/nhl_blotto_2b.png\" height=\"500\" width=\"800\">\n",
    "</div>"
   ]
  },
  {
   "cell_type": "code",
   "execution_count": 48,
   "metadata": {
    "slideshow": {
     "slide_type": "slide"
    }
   },
   "outputs": [],
   "source": [
    "categories = [\n",
    "    'goals',\n",
    "    'assists',\n",
    "    'plus_minus',\n",
    "    'powerplay_points',\n",
    "    'shots_on_goal',\n",
    "    'hits',\n",
    "    'blocks',\n",
    "    'wins',\n",
    "    'goals_against_average',\n",
    "    'saves',\n",
    "    'save_percentage',\n",
    "    'shutouts'\n",
    "]\n",
    "\n",
    "y = df['adp']\n",
    "X = df[['position'] + categories]"
   ]
  },
  {
   "cell_type": "code",
   "execution_count": 49,
   "metadata": {
    "slideshow": {
     "slide_type": "slide"
    }
   },
   "outputs": [],
   "source": [
    "X_train, X_test, y_train, y_test = train_test_split(\n",
    "    X, y, test_size=0.20, random_state=5)"
   ]
  },
  {
   "cell_type": "code",
   "execution_count": 50,
   "metadata": {
    "slideshow": {
     "slide_type": "slide"
    }
   },
   "outputs": [],
   "source": [
    "from sklearn.preprocessing import StandardScaler\n",
    "\n",
    "mapper = DataFrameMapper([\n",
    "    (['position'], LabelBinarizer()),\n",
    "    (['goals'], StandardScaler()),\n",
    "    (['assists'], StandardScaler()),\n",
    "    (['plus_minus'], StandardScaler()),\n",
    "    (['powerplay_points'], StandardScaler()),\n",
    "    (['shots_on_goal'], StandardScaler()),\n",
    "    (['hits'], StandardScaler()),\n",
    "    (['blocks'], StandardScaler()),\n",
    "    (['wins'], StandardScaler()),\n",
    "    (['goals_against_average'], StandardScaler()),\n",
    "    (['saves'], StandardScaler()),\n",
    "    (['save_percentage'], StandardScaler()),\n",
    "    (['shutouts'], StandardScaler())])"
   ]
  },
  {
   "cell_type": "code",
   "execution_count": 51,
   "metadata": {
    "slideshow": {
     "slide_type": "slide"
    }
   },
   "outputs": [],
   "source": [
    "Z_train = mapper.fit_transform(X_train)\n",
    "Z_test = mapper.transform(X_test)"
   ]
  },
  {
   "cell_type": "code",
   "execution_count": 52,
   "metadata": {
    "slideshow": {
     "slide_type": "slide"
    }
   },
   "outputs": [
    {
     "data": {
      "text/plain": [
       "array([ 48.41389296,  55.63518889, -11.75859152,  40.77822351,\n",
       "       137.50479356, 170.48747709,  89.30467878,  64.04388235,\n",
       "        94.40890631,  62.47600084])"
      ]
     },
     "execution_count": 52,
     "metadata": {},
     "output_type": "execute_result"
    }
   ],
   "source": [
    "model = LinearRegression()\n",
    "model.fit(Z_train, y_train)\n",
    "model.predict(Z_test)[:10]"
   ]
  },
  {
   "cell_type": "markdown",
   "metadata": {
    "slideshow": {
     "slide_type": "fragment"
    }
   },
   "source": [
    "<div align=\"center\">\n",
    "    <img src=\"images/makesnosense.gif\" height=\"300\" width=\"300\">\n",
    "</div>"
   ]
  },
  {
   "cell_type": "markdown",
   "metadata": {
    "slideshow": {
     "slide_type": "slide"
    }
   },
   "source": [
    "<div align=\"center\">\n",
    "    <h1>Ordinal Regression</h1>\n",
    "</div>"
   ]
  },
  {
   "cell_type": "code",
   "execution_count": 53,
   "metadata": {
    "slideshow": {
     "slide_type": "slide"
    }
   },
   "outputs": [],
   "source": [
    "#!pip install mord\n",
    "from mord import OrdinalRidge\n",
    "\n",
    "model = OrdinalRidge(fit_intercept=False)"
   ]
  },
  {
   "cell_type": "code",
   "execution_count": 54,
   "metadata": {
    "slideshow": {
     "slide_type": "fragment"
    }
   },
   "outputs": [
    {
     "data": {
      "text/plain": [
       "OrdinalRidge(alpha=1.0, copy_X=True, fit_intercept=False, max_iter=None,\n",
       "       normalize=False, random_state=None, solver='auto', tol=0.001)"
      ]
     },
     "execution_count": 54,
     "metadata": {},
     "output_type": "execute_result"
    }
   ],
   "source": [
    "model.fit(Z_train, y_train)"
   ]
  },
  {
   "cell_type": "code",
   "execution_count": 55,
   "metadata": {
    "slideshow": {
     "slide_type": "fragment"
    }
   },
   "outputs": [
    {
     "data": {
      "text/plain": [
       "array([ 48.,  54.,   1.,  37., 134., 164.,  81.,  63.,  87.,  65.])"
      ]
     },
     "execution_count": 55,
     "metadata": {},
     "output_type": "execute_result"
    }
   ],
   "source": [
    "model.predict(Z_test)[:10] + 1"
   ]
  },
  {
   "cell_type": "code",
   "execution_count": 56,
   "metadata": {
    "slideshow": {
     "slide_type": "slide"
    }
   },
   "outputs": [
    {
     "data": {
      "image/png": "[encoded data removed]",
      "text/plain": [
       "<Figure size 432x288 with 1 Axes>"
      ]
     },
     "metadata": {
      "needs_background": "light"
     },
     "output_type": "display_data"
    }
   ],
   "source": [
    "compare = pd.DataFrame({\n",
    "    'y': y_test, 'yhat': model.predict(Z_test) + 1})\n",
    "\n",
    "plt.scatter(compare.y, compare.yhat)\n",
    "plt.plot([0, 200], [0, 200], c='r');"
   ]
  },
  {
   "cell_type": "code",
   "execution_count": 57,
   "metadata": {
    "slideshow": {
     "slide_type": "fragment"
    }
   },
   "outputs": [
    {
     "data": {
      "text/plain": [
       "0.7472513693545548"
      ]
     },
     "execution_count": 57,
     "metadata": {},
     "output_type": "execute_result"
    }
   ],
   "source": [
    "r2_score(compare.y, compare.yhat)"
   ]
  },
  {
   "cell_type": "code",
   "execution_count": 58,
   "metadata": {
    "scrolled": true,
    "slideshow": {
     "slide_type": "slide"
    }
   },
   "outputs": [
    {
     "data": {
      "text/html": [
       "<table border=\"1\" class=\"dataframe table table-responsive table-striped table-bordered\">\n",
       "  <thead>\n",
       "    <tr style=\"text-align: right;\">\n",
       "      <th>feature</th>\n",
       "      <th>coef</th>\n",
       "    </tr>\n",
       "  </thead>\n",
       "  <tbody>\n",
       "    <tr>\n",
       "      <td>wins</td>\n",
       "      <td>-53.326332</td>\n",
       "    </tr>\n",
       "    <tr>\n",
       "      <td>assists</td>\n",
       "      <td>-43.783531</td>\n",
       "    </tr>\n",
       "    <tr>\n",
       "      <td>goals</td>\n",
       "      <td>-39.414865</td>\n",
       "    </tr>\n",
       "    <tr>\n",
       "      <td>shots_on_goal</td>\n",
       "      <td>-19.420086</td>\n",
       "    </tr>\n",
       "    <tr>\n",
       "      <td>goals_against_average</td>\n",
       "      <td>-12.000836</td>\n",
       "    </tr>\n",
       "    <tr>\n",
       "      <td>saves</td>\n",
       "      <td>-6.835524</td>\n",
       "    </tr>\n",
       "    <tr>\n",
       "      <td>save_percentage</td>\n",
       "      <td>-6.004746</td>\n",
       "    </tr>\n",
       "    <tr>\n",
       "      <td>hits</td>\n",
       "      <td>-5.807997</td>\n",
       "    </tr>\n",
       "    <tr>\n",
       "      <td>powerplay_points</td>\n",
       "      <td>-5.614948</td>\n",
       "    </tr>\n",
       "    <tr>\n",
       "      <td>plus_minus</td>\n",
       "      <td>-5.508739</td>\n",
       "    </tr>\n",
       "    <tr>\n",
       "      <td>shutouts</td>\n",
       "      <td>-5.069873</td>\n",
       "    </tr>\n",
       "    <tr>\n",
       "      <td>blocks</td>\n",
       "      <td>-2.146761</td>\n",
       "    </tr>\n",
       "  </tbody>\n",
       "</table>"
      ],
      "text/plain": [
       "<IPython.core.display.HTML object>"
      ]
     },
     "execution_count": 58,
     "metadata": {},
     "output_type": "execute_result"
    }
   ],
   "source": [
    "bias = pd.DataFrame({\n",
    "    'feature': mapper.transformed_names_,\n",
    "    'coef': model.coef_\n",
    "}).sort_values('coef')\n",
    "\n",
    "display(bias[~bias.feature.str.contains('position')])"
   ]
  },
  {
   "cell_type": "markdown",
   "metadata": {
    "slideshow": {
     "slide_type": "slide"
    }
   },
   "source": [
    "<div align=\"center\">\n",
    "    <img src=\"images/nhl_blotto_2b.png\" height=\"500\" width=\"800\">\n",
    "</div>"
   ]
  },
  {
   "cell_type": "markdown",
   "metadata": {
    "slideshow": {
     "slide_type": "slide"
    }
   },
   "source": [
    "<div align=\"center\">\n",
    "    <img src=\"images/nhl_blotto_2.png\" height=\"500\" width=\"800\">\n",
    "</div>"
   ]
  },
  {
   "cell_type": "markdown",
   "metadata": {
    "slideshow": {
     "slide_type": "slide"
    }
   },
   "source": [
    "<div align=\"center\">\n",
    "    <img src=\"images/my_draft.png\" height=\"500\" width=\"500\">\n",
    "</div>"
   ]
  },
  {
   "cell_type": "markdown",
   "metadata": {
    "slideshow": {
     "slide_type": "slide"
    }
   },
   "source": [
    "<div align=\"center\">\n",
    "    <img src=\"images/results.png\" height=\"500\" width=\"500\">\n",
    "</div>"
   ]
  },
  {
   "cell_type": "markdown",
   "metadata": {
    "slideshow": {
     "slide_type": "slide"
    }
   },
   "source": [
    "<div align=\"center\">\n",
    "    <img src=\"images/vegas.gif\" height=\"700\" width=\"700\">\n",
    "</div>"
   ]
  },
  {
   "cell_type": "markdown",
   "metadata": {
    "slideshow": {
     "slide_type": "slide"
    }
   },
   "source": [
    "<div align=\"center\">\n",
    "    <img src=\"images/over_under.png\" height=\"700\" width=\"700\">\n",
    "</div>"
   ]
  },
  {
   "cell_type": "code",
   "execution_count": 59,
   "metadata": {
    "slideshow": {
     "slide_type": "slide"
    }
   },
   "outputs": [],
   "source": [
    "df = pd.read_csv('data/games.csv')\n",
    "last_year = df.query('season == \"2017-18\"')"
   ]
  },
  {
   "cell_type": "code",
   "execution_count": 60,
   "metadata": {
    "slideshow": {
     "slide_type": "fragment"
    }
   },
   "outputs": [],
   "source": [
    "home = df.groupby('home').mean().reset_index().rename(\n",
    "    columns={'home_goals': 'home_for', 'away_goals': 'home_against'})\n",
    "away = df.groupby('away').mean().reset_index().rename(\n",
    "    columns={'home_goals': 'away_against', 'away_goals': 'away_for'})"
   ]
  },
  {
   "cell_type": "code",
   "execution_count": 61,
   "metadata": {
    "slideshow": {
     "slide_type": "slide"
    }
   },
   "outputs": [],
   "source": [
    "this_year = df.query('season == \"2018-19\"')\n",
    "\n",
    "df = pd.merge(this_year, home, how='left', on='home')\n",
    "df = pd.merge(df, away, how='left', on='away')"
   ]
  },
  {
   "cell_type": "code",
   "execution_count": 62,
   "metadata": {
    "slideshow": {
     "slide_type": "slide"
    }
   },
   "outputs": [],
   "source": [
    "df['home_for*away_against'] = df['home_for'] * df['away_against']\n",
    "df['away_for*home_against'] = df['away_for'] * df['home_against']\n",
    "df['goals_total'] = df['home_goals'] + df['away_goals']"
   ]
  },
  {
   "cell_type": "code",
   "execution_count": 63,
   "metadata": {
    "slideshow": {
     "slide_type": "fragment"
    }
   },
   "outputs": [],
   "source": [
    "y = df['goals_total']\n",
    "X = df[[\n",
    "    'home_for', 'home_against', 'away_against', 'away_for',\n",
    "    'home_for*away_against', 'away_for*home_against'\n",
    "]]"
   ]
  },
  {
   "cell_type": "code",
   "execution_count": 64,
   "metadata": {
    "slideshow": {
     "slide_type": "slide"
    }
   },
   "outputs": [
    {
     "data": {
      "text/plain": [
       "LinearRegression(copy_X=True, fit_intercept=True, n_jobs=None,\n",
       "         normalize=False)"
      ]
     },
     "execution_count": 64,
     "metadata": {},
     "output_type": "execute_result"
    }
   ],
   "source": [
    "X_train, X_test, y_train, y_test = train_test_split(X, y, test_size=0.2, random_state=42)\n",
    "model = LinearRegression()\n",
    "model.fit(X_train, y_train)"
   ]
  },
  {
   "cell_type": "code",
   "execution_count": 65,
   "metadata": {
    "slideshow": {
     "slide_type": "slide"
    }
   },
   "outputs": [
    {
     "data": {
      "text/plain": [
       "0.08740758682223271"
      ]
     },
     "execution_count": 65,
     "metadata": {},
     "output_type": "execute_result"
    },
    {
     "data": {
      "image/png": "[encoded data removed]",
      "text/plain": [
       "<Figure size 432x288 with 1 Axes>"
      ]
     },
     "metadata": {
      "needs_background": "light"
     },
     "output_type": "display_data"
    }
   ],
   "source": [
    "y_hat = model.predict(X_test)\n",
    "plt.scatter(y_test, y_hat, alpha=1/10);\n",
    "r2_score(y_test, y_hat)"
   ]
  },
  {
   "cell_type": "code",
   "execution_count": 66,
   "metadata": {
    "slideshow": {
     "slide_type": "slide"
    }
   },
   "outputs": [
    {
     "name": "stdout",
     "output_type": "stream",
     "text": [
      "5.566375992685668\n",
      "6.029897718332022\n"
     ]
    },
    {
     "data": {
      "image/png": "[encoded data removed]",
      "text/plain": [
       "<Figure size 432x288 with 1 Axes>"
      ]
     },
     "metadata": {
      "needs_background": "light"
     },
     "output_type": "display_data"
    }
   ],
   "source": [
    "import numpy as np \n",
    "\n",
    "print(np.var(y))\n",
    "print(np.mean(y))\n",
    "\n",
    "import seaborn as sns\n",
    "sns.kdeplot(y, bw=1);"
   ]
  },
  {
   "cell_type": "markdown",
   "metadata": {
    "slideshow": {
     "slide_type": "slide"
    }
   },
   "source": [
    "<div align=\"center\">\n",
    "    <h1>Poisson Regression</h1>\n",
    "</div>"
   ]
  },
  {
   "cell_type": "code",
   "execution_count": 67,
   "metadata": {
    "slideshow": {
     "slide_type": "slide"
    }
   },
   "outputs": [
    {
     "ename": "ImportError",
     "evalue": "cannot import name 'PoissonRegression' from 'sklearn.linear_model' (/Users/max/anaconda3/lib/python3.7/site-packages/sklearn/linear_model/__init__.py)",
     "output_type": "error",
     "traceback": [
      "\u001b[0;31m---------------------------------------------------------------------------\u001b[0m",
      "\u001b[0;31mImportError\u001b[0m                               Traceback (most recent call last)",
      "\u001b[0;32m<ipython-input-67-cac70bd8c38e>\u001b[0m in \u001b[0;36m<module>\u001b[0;34m\u001b[0m\n\u001b[0;32m----> 1\u001b[0;31m \u001b[0;32mfrom\u001b[0m \u001b[0msklearn\u001b[0m\u001b[0;34m.\u001b[0m\u001b[0mlinear_model\u001b[0m \u001b[0;32mimport\u001b[0m \u001b[0mPoissonRegression\u001b[0m\u001b[0;34m\u001b[0m\u001b[0;34m\u001b[0m\u001b[0m\n\u001b[0m",
      "\u001b[0;31mImportError\u001b[0m: cannot import name 'PoissonRegression' from 'sklearn.linear_model' (/Users/max/anaconda3/lib/python3.7/site-packages/sklearn/linear_model/__init__.py)"
     ]
    }
   ],
   "source": [
    "from sklearn.linear_model import PoissonRegression"
   ]
  },
  {
   "cell_type": "markdown",
   "metadata": {
    "slideshow": {
     "slide_type": "fragment"
    }
   },
   "source": [
    "<div align=\"center\">\n",
    "    <img src=\"images/whyyy.gif\" height=\"300\" width=\"300\">\n",
    "</div>"
   ]
  },
  {
   "cell_type": "code",
   "execution_count": 70,
   "metadata": {
    "slideshow": {
     "slide_type": "slide"
    }
   },
   "outputs": [
    {
     "data": {
      "text/html": [
       "<img src=\"images/darkness.gif\" height=\"400\" width=\"400\">"
      ],
      "text/plain": [
       "<IPython.core.display.HTML object>"
      ]
     },
     "execution_count": 70,
     "metadata": {},
     "output_type": "execute_result"
    }
   ],
   "source": [
    "import statsmodels.api as sm\n",
    "\n",
    "gif('darkness.gif', height=400, width=400)"
   ]
  },
  {
   "cell_type": "code",
   "execution_count": 71,
   "metadata": {
    "slideshow": {
     "slide_type": "slide"
    }
   },
   "outputs": [],
   "source": [
    "X_train_i = sm.add_constant(X_train)"
   ]
  },
  {
   "cell_type": "code",
   "execution_count": 72,
   "metadata": {
    "slideshow": {
     "slide_type": "fragment"
    }
   },
   "outputs": [],
   "source": [
    "glm_poi = sm.GLM(y_train, X_train_i, family=sm.families.Poisson())\n",
    "glm_poi = glm_poi.fit()"
   ]
  },
  {
   "cell_type": "markdown",
   "metadata": {
    "slideshow": {
     "slide_type": "fragment"
    }
   },
   "source": [
    "<div align=\"center\">\n",
    "    <img src=\"images/barf.gif\" height=\"300\" width=\"350\">\n",
    "</div>"
   ]
  },
  {
   "cell_type": "code",
   "execution_count": 75,
   "metadata": {
    "slideshow": {
     "slide_type": "slide"
    }
   },
   "outputs": [
    {
     "data": {
      "text/html": [
       "<img src=\"images/rolling.gif\" height=\"250\" width=\"250\">"
      ],
      "text/plain": [
       "<IPython.core.display.HTML object>"
      ]
     },
     "execution_count": 75,
     "metadata": {},
     "output_type": "execute_result"
    }
   ],
   "source": [
    "# https://scikit-learn.org/stable/developers/contributing.html#rolling-your-own-estimator\n",
    "from sklearn.base import BaseEstimator\n",
    "\n",
    "gif('rolling.gif')"
   ]
  },
  {
   "cell_type": "code",
   "execution_count": 76,
   "metadata": {
    "slideshow": {
     "slide_type": "slide"
    }
   },
   "outputs": [],
   "source": [
    "class PoissonRegression(BaseEstimator):\n",
    "    def __init__(self, fit_intercept=True):\n",
    "        self.fit_intercept = fit_intercept\n",
    "\n",
    "    def fit(self, X, y):\n",
    "        if self.fit_intercept:\n",
    "            X = sm.add_constant(X)\n",
    "        self.model = sm.GLM(y, X, family=sm.families.Poisson()).fit()\n",
    "        if self.fit_intercept:\n",
    "            self.coef_ = self.model.params[1:]\n",
    "            self.intercept_ = self.model.params[0]\n",
    "        else:\n",
    "            self.coef_ = self.model.params\n",
    "        return self\n",
    "\n",
    "    def predict(self, X):\n",
    "        if self.fit_intercept:\n",
    "            X = sm.add_constant(X)\n",
    "        return self.model.predict(X)"
   ]
  },
  {
   "cell_type": "markdown",
   "metadata": {
    "slideshow": {
     "slide_type": "slide"
    }
   },
   "source": [
    "<div align=\"center\">\n",
    "    <img src=\"images/drake.png\" height=\"500\" width=\"500\">\n",
    "</div>"
   ]
  },
  {
   "cell_type": "code",
   "execution_count": 77,
   "metadata": {
    "slideshow": {
     "slide_type": "slide"
    }
   },
   "outputs": [
    {
     "data": {
      "text/plain": [
       "1253    5.066474\n",
       "1187    6.830212\n",
       "422     6.772087\n",
       "976     6.461347\n",
       "793     5.171348\n",
       "785     7.232495\n",
       "23      5.692423\n",
       "405     5.080402\n",
       "43      6.075223\n",
       "582     5.343032\n",
       "dtype: float64"
      ]
     },
     "execution_count": 77,
     "metadata": {},
     "output_type": "execute_result"
    }
   ],
   "source": [
    "pr = PoissonRegression()\n",
    "pr.fit(X_train, y_train)\n",
    "pr.predict(X_test)[:10]"
   ]
  },
  {
   "cell_type": "code",
   "execution_count": 78,
   "metadata": {
    "slideshow": {
     "slide_type": "slide"
    }
   },
   "outputs": [
    {
     "name": "stdout",
     "output_type": "stream",
     "text": [
      "0.08783648586923143\n"
     ]
    },
    {
     "data": {
      "image/png": "[encoded data removed]",
      "text/plain": [
       "<Figure size 432x288 with 1 Axes>"
      ]
     },
     "metadata": {
      "needs_background": "light"
     },
     "output_type": "display_data"
    }
   ],
   "source": [
    "y_hat = pr.predict(X_test)\n",
    "print(r2_score(y_test, y_hat))\n",
    "plt.scatter(y_test, y_hat, alpha=1/10);"
   ]
  },
  {
   "cell_type": "markdown",
   "metadata": {
    "slideshow": {
     "slide_type": "slide"
    }
   },
   "source": [
    "<div align=\"center\">\n",
    "    <img src=\"images/point.gif\" height=\"500\" width=\"500\">\n",
    "</div>"
   ]
  },
  {
   "cell_type": "markdown",
   "metadata": {
    "slideshow": {
     "slide_type": "slide"
    }
   },
   "source": [
    "<div align=\"center\">\n",
    "    <img src=\"images/dont.gif\" height=\"500\" width=\"500\">\n",
    "</div>"
   ]
  },
  {
   "cell_type": "markdown",
   "metadata": {
    "slideshow": {
     "slide_type": "slide"
    }
   },
   "source": [
    "<h1>TL;DL:</h1>\n",
    "<ol>\n",
    "    <li>data > algorithm</li>\n",
    "    <li>don't get cute</li>\n",
    "    <li>be mindful of the unseen</li>\n",
    "</ol>"
   ]
  },
  {
   "cell_type": "markdown",
   "metadata": {
    "slideshow": {
     "slide_type": "slide"
    }
   },
   "source": [
    "<div align=\"center\">\n",
    "    <img src=\"images/thats_all.gif\" height=\"500\" width=\"500\">\n",
    "</div>"
   ]
  },
  {
   "cell_type": "markdown",
   "metadata": {
    "slideshow": {
     "slide_type": "slide"
    }
   },
   "source": [
    "<div align=\"center\">\n",
    "    \n",
    "<a href=\"https://twitter.com/maxhumber\"><h4>@maxhumber</h4></a></font>\n",
    "<br>\n",
    "<a href=\"https://www.linkedin.com/in/maxhumber/\"><h4>/in/maxhumber</h4></a></font><h4>max.humber@gmail.com</h4>\n",
    "\n",
    "</div>"
   ]
  }
 ],
 "metadata": {
  "celltoolbar": "Slideshow",
  "kernelspec": {
   "display_name": "Python 3",
   "language": "python",
   "name": "python3"
  },
  "language_info": {
   "codemirror_mode": {
    "name": "ipython",
    "version": 3
   },
   "file_extension": ".py",
   "mimetype": "text/x-python",
   "name": "python",
   "nbconvert_exporter": "python",
   "pygments_lexer": "ipython3",
   "version": "3.7.1"
  }
 },
 "nbformat": 4,
 "nbformat_minor": 2
}
